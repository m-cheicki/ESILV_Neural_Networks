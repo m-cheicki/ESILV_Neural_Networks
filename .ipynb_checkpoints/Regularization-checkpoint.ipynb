{
 "cells": [
  {
   "cell_type": "markdown",
   "metadata": {
    "cell_id": "00000-14bfab34-32ee-4ccf-ba08-82af8ee479a4",
    "deepnote_cell_type": "markdown",
    "id": "cp6Eo9tqqs05",
    "tags": []
   },
   "source": [
    "# Regularization : underfitting and overfiting"
   ]
  },
  {
   "cell_type": "markdown",
   "metadata": {
    "cell_id": "00001-ce1a9b50-d53b-4ea3-9458-fd0fa8cc21fa",
    "deepnote_cell_type": "markdown",
    "id": "4PZpJURqqs1Y"
   },
   "source": [
    "## Exercise 1: Load the dataset"
   ]
  },
  {
   "cell_type": "code",
   "execution_count": 1,
   "metadata": {
    "cell_id": "00000-de4d96d1-47de-4090-a384-1e3281843600",
    "deepnote_cell_type": "code",
    "executionInfo": {
     "elapsed": 800,
     "status": "ok",
     "timestamp": 1612546163047,
     "user": {
      "displayName": "Mariyam CHEICK ISMAIL",
      "photoUrl": "https://lh3.googleusercontent.com/a-/AOh14GiCvJlHv4QfbNzK0KW4581eJzsV8QwaClaZBlo=s64",
      "userId": "07377962125783695304"
     },
     "user_tz": -60
    },
    "id": "ANpItNBjqs1Z",
    "tags": []
   },
   "outputs": [],
   "source": [
    "import tensorflow as tf\n",
    "from tensorflow import keras\n",
    "from tensorflow.keras.datasets import boston_housing"
   ]
  },
  {
   "cell_type": "code",
   "execution_count": 2,
   "metadata": {
    "cell_id": "00000-cbf09374-e405-4236-9f65-aaa22db88d8f",
    "deepnote_cell_type": "code",
    "executionInfo": {
     "elapsed": 1347,
     "status": "ok",
     "timestamp": 1612546163604,
     "user": {
      "displayName": "Mariyam CHEICK ISMAIL",
      "photoUrl": "https://lh3.googleusercontent.com/a-/AOh14GiCvJlHv4QfbNzK0KW4581eJzsV8QwaClaZBlo=s64",
      "userId": "07377962125783695304"
     },
     "user_tz": -60
    },
    "id": "s2S5m6hlqs1a",
    "tags": []
   },
   "outputs": [],
   "source": [
    "(train_data, train_targets), (test_data, test_targets) = boston_housing.load_data()"
   ]
  },
  {
   "cell_type": "code",
   "execution_count": 3,
   "metadata": {
    "cell_id": "00004-bc50198b-da73-4539-9abc-851ba5dc8283",
    "colab": {
     "base_uri": "https://localhost:8080/"
    },
    "deepnote_cell_type": "code",
    "executionInfo": {
     "elapsed": 1341,
     "status": "ok",
     "timestamp": 1612546163607,
     "user": {
      "displayName": "Mariyam CHEICK ISMAIL",
      "photoUrl": "https://lh3.googleusercontent.com/a-/AOh14GiCvJlHv4QfbNzK0KW4581eJzsV8QwaClaZBlo=s64",
      "userId": "07377962125783695304"
     },
     "user_tz": -60
    },
    "id": "0ojXS7pzq7bJ",
    "outputId": "51c42a43-d7fa-4987-9c76-2cbf23ab248d"
   },
   "outputs": [
    {
     "data": {
      "text/plain": [
       "array([15.2, 42.3, 50. , 21.1, 17.7, 18.5, 11.3, 15.6, 15.6, 14.4, 12.1,\n",
       "       17.9, 23.1, 19.9, 15.7,  8.8, 50. , 22.5, 24.1, 27.5, 10.9, 30.8,\n",
       "       32.9, 24. , 18.5, 13.3, 22.9, 34.7, 16.6, 17.5, 22.3, 16.1, 14.9,\n",
       "       23.1, 34.9, 25. , 13.9, 13.1, 20.4, 20. , 15.2, 24.7, 22.2, 16.7,\n",
       "       12.7, 15.6, 18.4, 21. , 30.1, 15.1, 18.7,  9.6, 31.5, 24.8, 19.1,\n",
       "       22. , 14.5, 11. , 32. , 29.4, 20.3, 24.4, 14.6, 19.5, 14.1, 14.3,\n",
       "       15.6, 10.5,  6.3, 19.3, 19.3, 13.4, 36.4, 17.8, 13.5, 16.5,  8.3,\n",
       "       14.3, 16. , 13.4, 28.6, 43.5, 20.2, 22. , 23. , 20.7, 12.5, 48.5,\n",
       "       14.6, 13.4, 23.7, 50. , 21.7, 39.8, 38.7, 22.2, 34.9, 22.5, 31.1,\n",
       "       28.7, 46. , 41.7, 21. , 26.6, 15. , 24.4, 13.3, 21.2, 11.7, 21.7,\n",
       "       19.4, 50. , 22.8, 19.7, 24.7, 36.2, 14.2, 18.9, 18.3, 20.6, 24.6,\n",
       "       18.2,  8.7, 44. , 10.4, 13.2, 21.2, 37. , 30.7, 22.9, 20. , 19.3,\n",
       "       31.7, 32. , 23.1, 18.8, 10.9, 50. , 19.6,  5. , 14.4, 19.8, 13.8,\n",
       "       19.6, 23.9, 24.5, 25. , 19.9, 17.2, 24.6, 13.5, 26.6, 21.4, 11.9,\n",
       "       22.6, 19.6,  8.5, 23.7, 23.1, 22.4, 20.5, 23.6, 18.4, 35.2, 23.1,\n",
       "       27.9, 20.6, 23.7, 28. , 13.6, 27.1, 23.6, 20.6, 18.2, 21.7, 17.1,\n",
       "        8.4, 25.3, 13.8, 22.2, 18.4, 20.7, 31.6, 30.5, 20.3,  8.8, 19.2,\n",
       "       19.4, 23.1, 23. , 14.8, 48.8, 22.6, 33.4, 21.1, 13.6, 32.2, 13.1,\n",
       "       23.4, 18.9, 23.9, 11.8, 23.3, 22.8, 19.6, 16.7, 13.4, 22.2, 20.4,\n",
       "       21.8, 26.4, 14.9, 24.1, 23.8, 12.3, 29.1, 21. , 19.5, 23.3, 23.8,\n",
       "       17.8, 11.5, 21.7, 19.9, 25. , 33.4, 28.5, 21.4, 24.3, 27.5, 33.1,\n",
       "       16.2, 23.3, 48.3, 22.9, 22.8, 13.1, 12.7, 22.6, 15. , 15.3, 10.5,\n",
       "       24. , 18.5, 21.7, 19.5, 33.2, 23.2,  5. , 19.1, 12.7, 22.3, 10.2,\n",
       "       13.9, 16.3, 17. , 20.1, 29.9, 17.2, 37.3, 45.4, 17.8, 23.2, 29. ,\n",
       "       22. , 18. , 17.4, 34.6, 20.1, 25. , 15.6, 24.8, 28.2, 21.2, 21.4,\n",
       "       23.8, 31. , 26.2, 17.4, 37.9, 17.5, 20. ,  8.3, 23.9,  8.4, 13.8,\n",
       "        7.2, 11.7, 17.1, 21.6, 50. , 16.1, 20.4, 20.6, 21.4, 20.6, 36.5,\n",
       "        8.5, 24.8, 10.8, 21.9, 17.3, 18.9, 36.2, 14.9, 18.2, 33.3, 21.8,\n",
       "       19.7, 31.6, 24.8, 19.4, 22.8,  7.5, 44.8, 16.8, 18.7, 50. , 50. ,\n",
       "       19.5, 20.1, 50. , 17.2, 20.8, 19.3, 41.3, 20.4, 20.5, 13.8, 16.5,\n",
       "       23.9, 20.6, 31.5, 23.3, 16.8, 14. , 33.8, 36.1, 12.8, 18.3, 18.7,\n",
       "       19.1, 29. , 30.1, 50. , 50. , 22. , 11.9, 37.6, 50. , 22.7, 20.8,\n",
       "       23.5, 27.9, 50. , 19.3, 23.9, 22.6, 15.2, 21.7, 19.2, 43.8, 20.3,\n",
       "       33.2, 19.9, 22.5, 32.7, 22. , 17.1, 19. , 15. , 16.1, 25.1, 23.7,\n",
       "       28.7, 37.2, 22.6, 16.4, 25. , 29.8, 22.1, 17.4, 18.1, 30.3, 17.5,\n",
       "       24.7, 12.6, 26.5, 28.7, 13.3, 10.4, 24.4, 23. , 20. , 17.8,  7. ,\n",
       "       11.8, 24.4, 13.8, 19.4, 25.2, 19.4, 19.4, 29.1])"
      ]
     },
     "execution_count": 3,
     "metadata": {},
     "output_type": "execute_result"
    }
   ],
   "source": [
    "train_targets"
   ]
  },
  {
   "cell_type": "markdown",
   "metadata": {
    "cell_id": "00005-1b3d51a5-b2f0-4c2e-bc6d-8a8b3463045c",
    "deepnote_cell_type": "markdown",
    "id": "nYnvJMtKrPFS"
   },
   "source": [
    "## Exercise 2: Normalizing data"
   ]
  },
  {
   "cell_type": "code",
   "execution_count": 4,
   "metadata": {
    "cell_id": "00006-7f409e8c-b21e-4eb3-ae5e-c7e5ef3ce039",
    "deepnote_cell_type": "code",
    "executionInfo": {
     "elapsed": 1334,
     "status": "ok",
     "timestamp": 1612546163610,
     "user": {
      "displayName": "Mariyam CHEICK ISMAIL",
      "photoUrl": "https://lh3.googleusercontent.com/a-/AOh14GiCvJlHv4QfbNzK0KW4581eJzsV8QwaClaZBlo=s64",
      "userId": "07377962125783695304"
     },
     "user_tz": -60
    },
    "id": "7EgC7f8fuuqK"
   },
   "outputs": [],
   "source": [
    "import numpy as np"
   ]
  },
  {
   "cell_type": "code",
   "execution_count": 5,
   "metadata": {
    "cell_id": "00007-37408126-b74f-45e2-ade1-07596f790f1e",
    "deepnote_cell_type": "code",
    "executionInfo": {
     "elapsed": 1328,
     "status": "ok",
     "timestamp": 1612546163613,
     "user": {
      "displayName": "Mariyam CHEICK ISMAIL",
      "photoUrl": "https://lh3.googleusercontent.com/a-/AOh14GiCvJlHv4QfbNzK0KW4581eJzsV8QwaClaZBlo=s64",
      "userId": "07377962125783695304"
     },
     "user_tz": -60
    },
    "id": "lkP5VHGyrZrN"
   },
   "outputs": [],
   "source": [
    "def normalize_data(data): \n",
    "  results = np.zeros(data.shape)\n",
    "  mean_value = data.mean(axis = 0)\n",
    "  std_value = data.std(axis = 0)\n",
    "\n",
    "  for i in range(len(data)): \n",
    "    row = data[i]\n",
    "    for j in range(len(row)): \n",
    "      feature = row[j]\n",
    "      results[i][j] = (feature - mean_value[j]) / (std_value[j] if std_value[j] != 0 else 1)\n",
    "    \n",
    "  return results\n"
   ]
  },
  {
   "cell_type": "code",
   "execution_count": 6,
   "metadata": {
    "cell_id": "00008-6cabaf6c-25c9-4690-af90-041bd2a55a64",
    "deepnote_cell_type": "code",
    "executionInfo": {
     "elapsed": 1323,
     "status": "ok",
     "timestamp": 1612546163616,
     "user": {
      "displayName": "Mariyam CHEICK ISMAIL",
      "photoUrl": "https://lh3.googleusercontent.com/a-/AOh14GiCvJlHv4QfbNzK0KW4581eJzsV8QwaClaZBlo=s64",
      "userId": "07377962125783695304"
     },
     "user_tz": -60
    },
    "id": "olv8Y17AtAUn"
   },
   "outputs": [],
   "source": [
    "x_train = normalize_data(train_data)\n",
    "x_test = normalize_data(test_data)\n",
    "\n",
    "y_train = np.asarray(train_targets).astype('float32')\n",
    "y_test = np.asarray(test_targets).astype('float32')"
   ]
  },
  {
   "cell_type": "markdown",
   "metadata": {
    "cell_id": "00009-b8bc520c-0690-4062-a1f4-4afcc673654c",
    "deepnote_cell_type": "markdown",
    "id": "Xt8A7_9TwDfK"
   },
   "source": [
    "## Exercise 3: Model definition"
   ]
  },
  {
   "cell_type": "code",
   "execution_count": 7,
   "metadata": {
    "cell_id": "00010-a065a6c9-aead-4dc4-b854-4001f86c0ec0",
    "deepnote_cell_type": "code",
    "executionInfo": {
     "elapsed": 1320,
     "status": "ok",
     "timestamp": 1612546163618,
     "user": {
      "displayName": "Mariyam CHEICK ISMAIL",
      "photoUrl": "https://lh3.googleusercontent.com/a-/AOh14GiCvJlHv4QfbNzK0KW4581eJzsV8QwaClaZBlo=s64",
      "userId": "07377962125783695304"
     },
     "user_tz": -60
    },
    "id": "qfMxjHfbwQD2"
   },
   "outputs": [],
   "source": [
    "from tensorflow.keras.models import Sequential\n",
    "from tensorflow.keras.layers import Dense"
   ]
  },
  {
   "cell_type": "code",
   "execution_count": 8,
   "metadata": {
    "cell_id": "00011-75e9a752-26c1-4f2b-8550-aeaf364eaa50",
    "deepnote_cell_type": "code",
    "executionInfo": {
     "elapsed": 1316,
     "status": "ok",
     "timestamp": 1612546163621,
     "user": {
      "displayName": "Mariyam CHEICK ISMAIL",
      "photoUrl": "https://lh3.googleusercontent.com/a-/AOh14GiCvJlHv4QfbNzK0KW4581eJzsV8QwaClaZBlo=s64",
      "userId": "07377962125783695304"
     },
     "user_tz": -60
    },
    "id": "f9fh3ki1wJm4"
   },
   "outputs": [],
   "source": [
    "def build_model(units = 64): \n",
    "  model = Sequential()\n",
    "  \n",
    "  model.add(Dense(units, activation = 'relu'))\n",
    "  model.add(Dense(units, activation = 'relu'))\n",
    "  model.add(Dense(1, activation = None))\n",
    "  \n",
    "  model.compile(optimizer = 'rmsprop', loss = 'mse', metrics = ['mae'])\n",
    "\n",
    "  return model"
   ]
  },
  {
   "cell_type": "markdown",
   "metadata": {
    "cell_id": "00012-53a37c48-1827-4721-9a37-9b912b8eed20",
    "deepnote_cell_type": "markdown",
    "id": "fUcFpeNFyUNa"
   },
   "source": [
    "## Exercise 4: Model Validation"
   ]
  },
  {
   "cell_type": "code",
   "execution_count": 9,
   "metadata": {
    "cell_id": "00013-edb08e76-ff96-453f-843e-24311cec8496",
    "deepnote_cell_type": "code",
    "executionInfo": {
     "elapsed": 1312,
     "status": "ok",
     "timestamp": 1612546163624,
     "user": {
      "displayName": "Mariyam CHEICK ISMAIL",
      "photoUrl": "https://lh3.googleusercontent.com/a-/AOh14GiCvJlHv4QfbNzK0KW4581eJzsV8QwaClaZBlo=s64",
      "userId": "07377962125783695304"
     },
     "user_tz": -60
    },
    "id": "SLP3xwUy41HZ"
   },
   "outputs": [],
   "source": [
    "import time"
   ]
  },
  {
   "cell_type": "code",
   "execution_count": 10,
   "metadata": {
    "cell_id": "00014-e4227026-265c-4783-bf76-c49e95cb78e2",
    "deepnote_cell_type": "code",
    "executionInfo": {
     "elapsed": 759,
     "status": "ok",
     "timestamp": 1612546224734,
     "user": {
      "displayName": "Mariyam CHEICK ISMAIL",
      "photoUrl": "https://lh3.googleusercontent.com/a-/AOh14GiCvJlHv4QfbNzK0KW4581eJzsV8QwaClaZBlo=s64",
      "userId": "07377962125783695304"
     },
     "user_tz": -60
    },
    "id": "33bY9I0zyS97"
   },
   "outputs": [],
   "source": [
    "def cross_validation(features, targets, k = 4, epochs = 100, units_per_hidden_layers = None, verbose = 1): \n",
    "  num_val_samples = len(features) // k\n",
    "  all_scores, mae_history = [], []\n",
    "\n",
    "  for i in range(k): \n",
    "    print(f'Processing fold #{i + 1}/{k}')\n",
    "    _start = time.time()\n",
    "\n",
    "    val_data = features[i * num_val_samples:(i+1) * num_val_samples]\n",
    "    val_targets = targets[i * num_val_samples:(i+1) * num_val_samples]\n",
    "    partial_train_data = np.concatenate([\n",
    "                                         features[:i * num_val_samples], \n",
    "                                         features[(i+1) * num_val_samples:]\n",
    "                                         ], axis = 0)\n",
    "    partial_train_targets = np.concatenate([\n",
    "                                         targets[:i * num_val_samples], \n",
    "                                         targets[(i+1) * num_val_samples:]\n",
    "                                         ], axis = 0)\n",
    "    \n",
    "    if units_per_hidden_layers is not None:\n",
    "      units = units_per_hidden_layers\n",
    "\n",
    "    else: \n",
    "      units = 64\n",
    "\n",
    "    model = build_model(units)\n",
    "\n",
    "\n",
    "    model_hist = model.fit(\n",
    "        partial_train_data, \n",
    "        partial_train_targets, \n",
    "        epochs = epochs, \n",
    "        validation_data = (val_data, val_targets), \n",
    "        batch_size = 1, \n",
    "        verbose = verbose\n",
    "    )\n",
    "\n",
    "    mae_hist = model_hist.history['val_mae']\n",
    "    val_mse, val_mae = model.evaluate(val_data, val_targets, verbose=0)\n",
    "\n",
    "    all_scores.append(val_mae)\n",
    "    mae_history.append(np.array(mae_hist))\n",
    "\n",
    "    _end = time.time()\n",
    "    dt = _end - _start\n",
    "\n",
    "    if verbose != 0:\n",
    "      if i < k - 1:\n",
    "        continue\n",
    "    else:\n",
    "      print(f'Time: {round(dt)}s - MAE value: {round(val_mae, 4)}')\n",
    "\n",
    "  return np.array(all_scores), np.array(mae_history)\n"
   ]
  },
  {
   "cell_type": "code",
   "execution_count": 11,
   "metadata": {
    "cell_id": "00015-614d29c8-e43e-421c-a337-e9110c0854ad",
    "colab": {
     "base_uri": "https://localhost:8080/"
    },
    "deepnote_cell_type": "code",
    "executionInfo": {
     "elapsed": 169078,
     "status": "ok",
     "timestamp": 1612546393085,
     "user": {
      "displayName": "Mariyam CHEICK ISMAIL",
      "photoUrl": "https://lh3.googleusercontent.com/a-/AOh14GiCvJlHv4QfbNzK0KW4581eJzsV8QwaClaZBlo=s64",
      "userId": "07377962125783695304"
     },
     "user_tz": -60
    },
    "id": "ssGh_AkZ4Xhd",
    "outputId": "aa59b79e-403f-4da4-9b6a-92fde5d7e7c6"
   },
   "outputs": [
    {
     "name": "stdout",
     "output_type": "stream",
     "text": [
      "Processing fold #1/4\n",
      "Epoch 1/100\n",
      "303/303 [==============================] - 1s 4ms/step - loss: 237.5379 - mae: 12.0935 - val_loss: 32.6296 - val_mae: 3.8134\n",
      "Epoch 2/100\n",
      "303/303 [==============================] - 1s 2ms/step - loss: 27.7024 - mae: 3.6347 - val_loss: 20.4608 - val_mae: 3.1804\n",
      "Epoch 3/100\n",
      "303/303 [==============================] - 1s 2ms/step - loss: 20.6718 - mae: 3.1171 - val_loss: 15.3071 - val_mae: 2.5532\n",
      "Epoch 4/100\n",
      "303/303 [==============================] - 1s 2ms/step - loss: 17.9003 - mae: 2.8538 - val_loss: 13.3513 - val_mae: 2.3047\n",
      "Epoch 5/100\n",
      "303/303 [==============================] - 1s 3ms/step - loss: 15.8099 - mae: 2.6698 - val_loss: 11.9929 - val_mae: 2.3859\n",
      "Epoch 6/100\n",
      "303/303 [==============================] - 1s 3ms/step - loss: 15.0023 - mae: 2.5819 - val_loss: 12.2120 - val_mae: 2.5744\n",
      "Epoch 7/100\n",
      "303/303 [==============================] - 1s 2ms/step - loss: 14.1338 - mae: 2.5692 - val_loss: 10.9010 - val_mae: 2.2440\n",
      "Epoch 8/100\n",
      "303/303 [==============================] - 1s 2ms/step - loss: 13.3111 - mae: 2.4255 - val_loss: 10.9815 - val_mae: 2.2690\n",
      "Epoch 9/100\n",
      "303/303 [==============================] - 1s 3ms/step - loss: 12.3722 - mae: 2.4804 - val_loss: 10.7510 - val_mae: 2.2759\n",
      "Epoch 10/100\n",
      "303/303 [==============================] - 1s 3ms/step - loss: 12.5403 - mae: 2.3707 - val_loss: 9.8306 - val_mae: 2.0258\n",
      "Epoch 11/100\n",
      "303/303 [==============================] - 1s 3ms/step - loss: 12.0109 - mae: 2.3634 - val_loss: 10.2397 - val_mae: 2.0200\n",
      "Epoch 12/100\n",
      "303/303 [==============================] - 1s 3ms/step - loss: 11.7810 - mae: 2.3516 - val_loss: 8.9769 - val_mae: 1.9465\n",
      "Epoch 13/100\n",
      "303/303 [==============================] - 1s 3ms/step - loss: 10.8324 - mae: 2.2506 - val_loss: 8.9341 - val_mae: 2.0268\n",
      "Epoch 14/100\n",
      "303/303 [==============================] - 1s 4ms/step - loss: 11.5168 - mae: 2.3002 - val_loss: 8.4453 - val_mae: 1.9616\n",
      "Epoch 15/100\n",
      "303/303 [==============================] - 1s 4ms/step - loss: 10.9678 - mae: 2.2202 - val_loss: 10.0096 - val_mae: 2.0492\n",
      "Epoch 16/100\n",
      "303/303 [==============================] - 1s 3ms/step - loss: 10.2981 - mae: 2.1585 - val_loss: 10.1301 - val_mae: 2.3904\n",
      "Epoch 17/100\n",
      "303/303 [==============================] - 1s 3ms/step - loss: 10.3789 - mae: 2.1343 - val_loss: 8.0685 - val_mae: 2.0276\n",
      "Epoch 18/100\n",
      "303/303 [==============================] - 1s 4ms/step - loss: 10.0947 - mae: 2.1590 - val_loss: 8.8405 - val_mae: 2.1476\n",
      "Epoch 19/100\n",
      "303/303 [==============================] - 1s 3ms/step - loss: 10.1078 - mae: 2.1156 - val_loss: 7.5955 - val_mae: 1.7659\n",
      "Epoch 20/100\n",
      "303/303 [==============================] - 1s 3ms/step - loss: 9.7353 - mae: 2.0941 - val_loss: 9.0987 - val_mae: 2.0432\n",
      "Epoch 21/100\n",
      "303/303 [==============================] - 1s 3ms/step - loss: 9.8391 - mae: 2.0856 - val_loss: 8.8172 - val_mae: 2.1156\n",
      "Epoch 22/100\n",
      "303/303 [==============================] - 1s 4ms/step - loss: 9.3174 - mae: 2.1018 - val_loss: 7.7564 - val_mae: 1.8308\n",
      "Epoch 23/100\n",
      "303/303 [==============================] - 1s 3ms/step - loss: 9.4729 - mae: 2.1277 - val_loss: 8.1577 - val_mae: 2.0471\n",
      "Epoch 24/100\n",
      "303/303 [==============================] - 1s 4ms/step - loss: 9.0800 - mae: 2.0070 - val_loss: 9.0669 - val_mae: 2.0430\n",
      "Epoch 25/100\n",
      "303/303 [==============================] - 1s 3ms/step - loss: 9.0556 - mae: 2.0197 - val_loss: 8.1203 - val_mae: 1.8486\n",
      "Epoch 26/100\n",
      "303/303 [==============================] - 1s 3ms/step - loss: 8.8928 - mae: 1.9550 - val_loss: 7.9383 - val_mae: 1.9057\n",
      "Epoch 27/100\n",
      "303/303 [==============================] - 1s 3ms/step - loss: 8.7889 - mae: 1.9486 - val_loss: 9.9613 - val_mae: 2.1127\n",
      "Epoch 28/100\n",
      "303/303 [==============================] - 1s 3ms/step - loss: 8.6427 - mae: 1.9694 - val_loss: 8.4295 - val_mae: 1.9258\n",
      "Epoch 29/100\n",
      "303/303 [==============================] - 1s 3ms/step - loss: 8.4216 - mae: 1.9458 - val_loss: 7.4501 - val_mae: 2.0307\n",
      "Epoch 30/100\n",
      "303/303 [==============================] - 1s 3ms/step - loss: 8.2899 - mae: 1.9312 - val_loss: 8.0261 - val_mae: 2.1050\n",
      "Epoch 31/100\n",
      "303/303 [==============================] - 1s 3ms/step - loss: 8.5949 - mae: 1.9306 - val_loss: 7.7960 - val_mae: 2.0538\n",
      "Epoch 32/100\n",
      "303/303 [==============================] - 1s 3ms/step - loss: 8.2498 - mae: 1.9508 - val_loss: 8.6244 - val_mae: 1.9776\n",
      "Epoch 33/100\n",
      "303/303 [==============================] - 1s 3ms/step - loss: 8.0577 - mae: 1.9088 - val_loss: 7.3526 - val_mae: 1.7512\n",
      "Epoch 34/100\n",
      "303/303 [==============================] - 1s 4ms/step - loss: 8.3354 - mae: 1.8327 - val_loss: 8.1528 - val_mae: 1.9632\n",
      "Epoch 35/100\n",
      "303/303 [==============================] - 1s 4ms/step - loss: 8.0822 - mae: 1.8997 - val_loss: 8.2149 - val_mae: 2.1272\n",
      "Epoch 36/100\n",
      "303/303 [==============================] - 1s 2ms/step - loss: 7.7965 - mae: 1.8679 - val_loss: 8.5546 - val_mae: 1.9835\n",
      "Epoch 37/100\n",
      "303/303 [==============================] - 1s 2ms/step - loss: 7.3150 - mae: 1.8333 - val_loss: 8.8151 - val_mae: 2.1778\n",
      "Epoch 38/100\n",
      "303/303 [==============================] - 1s 3ms/step - loss: 7.6302 - mae: 1.8019 - val_loss: 7.7917 - val_mae: 1.9613\n",
      "Epoch 39/100\n",
      "303/303 [==============================] - 1s 2ms/step - loss: 7.1759 - mae: 1.8255 - val_loss: 10.0137 - val_mae: 2.2101\n",
      "Epoch 40/100\n",
      "303/303 [==============================] - 1s 2ms/step - loss: 7.6163 - mae: 1.8100 - val_loss: 7.5789 - val_mae: 1.8472\n",
      "Epoch 41/100\n",
      "303/303 [==============================] - 1s 2ms/step - loss: 7.2412 - mae: 1.7942 - val_loss: 8.1574 - val_mae: 2.0914\n",
      "Epoch 42/100\n",
      "303/303 [==============================] - 1s 3ms/step - loss: 7.4749 - mae: 1.7834 - val_loss: 7.9057 - val_mae: 2.0626\n",
      "Epoch 43/100\n",
      "303/303 [==============================] - 1s 3ms/step - loss: 7.3101 - mae: 1.7462 - val_loss: 7.8726 - val_mae: 1.9462\n",
      "Epoch 44/100\n",
      "303/303 [==============================] - 1s 2ms/step - loss: 7.0322 - mae: 1.7766 - val_loss: 7.9528 - val_mae: 2.0433\n",
      "Epoch 45/100\n",
      "303/303 [==============================] - 1s 4ms/step - loss: 6.8947 - mae: 1.7179 - val_loss: 10.0045 - val_mae: 2.4048\n",
      "Epoch 46/100\n",
      "303/303 [==============================] - 1s 2ms/step - loss: 6.7817 - mae: 1.7556 - val_loss: 7.6350 - val_mae: 1.9279\n",
      "Epoch 47/100\n",
      "303/303 [==============================] - 1s 3ms/step - loss: 7.1679 - mae: 1.7396 - val_loss: 7.7728 - val_mae: 1.9217\n",
      "Epoch 48/100\n",
      "303/303 [==============================] - 1s 2ms/step - loss: 6.8665 - mae: 1.7496 - val_loss: 7.3800 - val_mae: 1.7932\n",
      "Epoch 49/100\n",
      "303/303 [==============================] - 1s 2ms/step - loss: 6.6497 - mae: 1.6952 - val_loss: 7.8768 - val_mae: 1.8853\n",
      "Epoch 50/100\n",
      "303/303 [==============================] - 1s 2ms/step - loss: 6.2641 - mae: 1.6836 - val_loss: 7.5434 - val_mae: 1.8168\n",
      "Epoch 51/100\n",
      "303/303 [==============================] - 1s 4ms/step - loss: 6.6924 - mae: 1.7303 - val_loss: 10.6115 - val_mae: 2.5879\n",
      "Epoch 52/100\n",
      "303/303 [==============================] - 1s 3ms/step - loss: 6.3481 - mae: 1.6736 - val_loss: 7.7301 - val_mae: 1.9440\n",
      "Epoch 53/100\n",
      "303/303 [==============================] - 1s 4ms/step - loss: 6.2972 - mae: 1.7118 - val_loss: 9.2886 - val_mae: 2.0610\n",
      "Epoch 54/100\n",
      "303/303 [==============================] - 1s 4ms/step - loss: 6.6661 - mae: 1.6805 - val_loss: 7.9388 - val_mae: 1.8872\n",
      "Epoch 55/100\n",
      "303/303 [==============================] - 1s 3ms/step - loss: 6.3667 - mae: 1.6557 - val_loss: 7.9481 - val_mae: 1.9052\n",
      "Epoch 56/100\n",
      "303/303 [==============================] - 1s 4ms/step - loss: 6.4357 - mae: 1.6793 - val_loss: 7.6309 - val_mae: 2.1341\n",
      "Epoch 57/100\n",
      "303/303 [==============================] - 1s 4ms/step - loss: 6.1646 - mae: 1.6437 - val_loss: 7.8720 - val_mae: 1.9048\n",
      "Epoch 58/100\n",
      "303/303 [==============================] - 1s 2ms/step - loss: 5.9425 - mae: 1.6156 - val_loss: 8.3095 - val_mae: 1.9149\n",
      "Epoch 59/100\n",
      "303/303 [==============================] - 1s 2ms/step - loss: 6.0513 - mae: 1.6470 - val_loss: 7.7339 - val_mae: 2.0109\n",
      "Epoch 60/100\n",
      "303/303 [==============================] - 1s 2ms/step - loss: 5.8879 - mae: 1.6034 - val_loss: 8.3650 - val_mae: 2.0515\n",
      "Epoch 61/100\n",
      "303/303 [==============================] - 1s 2ms/step - loss: 6.0295 - mae: 1.6280 - val_loss: 7.6923 - val_mae: 2.0145\n"
     ]
    },
    {
     "name": "stdout",
     "output_type": "stream",
     "text": [
      "Epoch 62/100\n",
      "303/303 [==============================] - 1s 3ms/step - loss: 6.2338 - mae: 1.6711 - val_loss: 7.8114 - val_mae: 1.8602\n",
      "Epoch 63/100\n",
      "303/303 [==============================] - 1s 3ms/step - loss: 6.0434 - mae: 1.6202 - val_loss: 7.9828 - val_mae: 2.0499\n",
      "Epoch 64/100\n",
      "303/303 [==============================] - 1s 3ms/step - loss: 5.9435 - mae: 1.6028 - val_loss: 11.3100 - val_mae: 2.4843\n",
      "Epoch 65/100\n",
      "303/303 [==============================] - 1s 3ms/step - loss: 6.0880 - mae: 1.6327 - val_loss: 8.3242 - val_mae: 2.0614\n",
      "Epoch 66/100\n",
      "303/303 [==============================] - 1s 3ms/step - loss: 5.9301 - mae: 1.5882 - val_loss: 8.5334 - val_mae: 1.9196\n",
      "Epoch 67/100\n",
      "303/303 [==============================] - 1s 3ms/step - loss: 6.2899 - mae: 1.5689 - val_loss: 7.9860 - val_mae: 2.1787\n",
      "Epoch 68/100\n",
      "303/303 [==============================] - 1s 3ms/step - loss: 5.9635 - mae: 1.6209 - val_loss: 7.1323 - val_mae: 1.8232\n",
      "Epoch 69/100\n",
      "303/303 [==============================] - 1s 3ms/step - loss: 5.5460 - mae: 1.5667 - val_loss: 7.3157 - val_mae: 1.9077\n",
      "Epoch 70/100\n",
      "303/303 [==============================] - 1s 3ms/step - loss: 5.6548 - mae: 1.5795 - val_loss: 8.3546 - val_mae: 1.9869\n",
      "Epoch 71/100\n",
      "303/303 [==============================] - 1s 4ms/step - loss: 5.3701 - mae: 1.5137 - val_loss: 7.4497 - val_mae: 1.8004\n",
      "Epoch 72/100\n",
      "303/303 [==============================] - 1s 3ms/step - loss: 5.9740 - mae: 1.5934 - val_loss: 7.8997 - val_mae: 2.0300\n",
      "Epoch 73/100\n",
      "303/303 [==============================] - 1s 3ms/step - loss: 5.4638 - mae: 1.5644 - val_loss: 7.8595 - val_mae: 1.8705\n",
      "Epoch 74/100\n",
      "303/303 [==============================] - 1s 3ms/step - loss: 5.4841 - mae: 1.5204 - val_loss: 7.5681 - val_mae: 1.9145\n",
      "Epoch 75/100\n",
      "303/303 [==============================] - 1s 3ms/step - loss: 5.4877 - mae: 1.5276 - val_loss: 9.0986 - val_mae: 2.1520\n",
      "Epoch 76/100\n",
      "303/303 [==============================] - 1s 3ms/step - loss: 5.5424 - mae: 1.5293 - val_loss: 6.9799 - val_mae: 1.8765\n",
      "Epoch 77/100\n",
      "303/303 [==============================] - 1s 4ms/step - loss: 5.0977 - mae: 1.5210 - val_loss: 7.6379 - val_mae: 1.8581\n",
      "Epoch 78/100\n",
      "303/303 [==============================] - 1s 4ms/step - loss: 5.5315 - mae: 1.4953 - val_loss: 10.2552 - val_mae: 2.6131\n",
      "Epoch 79/100\n",
      "303/303 [==============================] - 1s 4ms/step - loss: 5.4402 - mae: 1.5864 - val_loss: 7.7498 - val_mae: 2.0057\n",
      "Epoch 80/100\n",
      "303/303 [==============================] - 1s 4ms/step - loss: 5.3549 - mae: 1.4826 - val_loss: 7.6006 - val_mae: 1.9582\n",
      "Epoch 81/100\n",
      "303/303 [==============================] - 1s 4ms/step - loss: 4.8490 - mae: 1.4592 - val_loss: 9.4468 - val_mae: 2.2329\n",
      "Epoch 82/100\n",
      "303/303 [==============================] - 1s 3ms/step - loss: 4.9382 - mae: 1.5221 - val_loss: 7.5230 - val_mae: 1.8487\n",
      "Epoch 83/100\n",
      "303/303 [==============================] - 1s 4ms/step - loss: 5.2349 - mae: 1.4948 - val_loss: 7.7209 - val_mae: 2.1017\n",
      "Epoch 84/100\n",
      "303/303 [==============================] - 1s 4ms/step - loss: 5.2796 - mae: 1.5281 - val_loss: 7.4731 - val_mae: 1.8980\n",
      "Epoch 85/100\n",
      "303/303 [==============================] - 1s 4ms/step - loss: 5.3678 - mae: 1.4923 - val_loss: 7.8957 - val_mae: 1.9937\n",
      "Epoch 86/100\n",
      "303/303 [==============================] - 1s 4ms/step - loss: 5.1475 - mae: 1.4336 - val_loss: 9.6420 - val_mae: 2.3208\n",
      "Epoch 87/100\n",
      "303/303 [==============================] - 1s 4ms/step - loss: 4.9173 - mae: 1.4423 - val_loss: 7.1639 - val_mae: 1.8948\n",
      "Epoch 88/100\n",
      "303/303 [==============================] - 1s 4ms/step - loss: 4.9281 - mae: 1.4478 - val_loss: 8.1530 - val_mae: 2.1056\n",
      "Epoch 89/100\n",
      "303/303 [==============================] - 1s 4ms/step - loss: 5.3627 - mae: 1.4521 - val_loss: 8.2311 - val_mae: 1.9600\n",
      "Epoch 90/100\n",
      "303/303 [==============================] - 1s 3ms/step - loss: 4.8827 - mae: 1.4152 - val_loss: 9.4019 - val_mae: 2.2968\n",
      "Epoch 91/100\n",
      "303/303 [==============================] - 1s 2ms/step - loss: 5.1341 - mae: 1.4712 - val_loss: 8.3480 - val_mae: 2.1099\n",
      "Epoch 92/100\n",
      "303/303 [==============================] - 1s 2ms/step - loss: 4.8165 - mae: 1.3898 - val_loss: 7.2606 - val_mae: 1.8768\n",
      "Epoch 93/100\n",
      "303/303 [==============================] - 1s 3ms/step - loss: 4.7146 - mae: 1.3690 - val_loss: 8.3849 - val_mae: 2.1457\n",
      "Epoch 94/100\n",
      "303/303 [==============================] - 1s 3ms/step - loss: 4.7623 - mae: 1.4260 - val_loss: 7.4902 - val_mae: 1.9220\n",
      "Epoch 95/100\n",
      "303/303 [==============================] - 1s 3ms/step - loss: 4.3939 - mae: 1.4012 - val_loss: 10.7355 - val_mae: 2.3881\n",
      "Epoch 96/100\n",
      "303/303 [==============================] - 1s 2ms/step - loss: 4.9179 - mae: 1.4796 - val_loss: 8.8888 - val_mae: 2.0732\n",
      "Epoch 97/100\n",
      "303/303 [==============================] - 1s 3ms/step - loss: 4.4436 - mae: 1.3893 - val_loss: 7.4457 - val_mae: 1.8501\n",
      "Epoch 98/100\n",
      "303/303 [==============================] - 1s 3ms/step - loss: 4.5549 - mae: 1.3958 - val_loss: 8.2784 - val_mae: 1.9590\n",
      "Epoch 99/100\n",
      "303/303 [==============================] - 1s 3ms/step - loss: 4.3835 - mae: 1.3617 - val_loss: 8.5521 - val_mae: 2.1772\n",
      "Epoch 100/100\n",
      "303/303 [==============================] - 1s 3ms/step - loss: 4.3952 - mae: 1.4141 - val_loss: 7.8680 - val_mae: 2.0556\n",
      "Processing fold #2/4\n",
      "Epoch 1/100\n",
      "303/303 [==============================] - 1s 4ms/step - loss: 202.1606 - mae: 10.6878 - val_loss: 29.9224 - val_mae: 4.2909\n",
      "Epoch 2/100\n",
      "303/303 [==============================] - 1s 2ms/step - loss: 31.2603 - mae: 3.7599 - val_loss: 18.5691 - val_mae: 3.2081\n",
      "Epoch 3/100\n",
      "303/303 [==============================] - 1s 2ms/step - loss: 21.5686 - mae: 3.1942 - val_loss: 16.8886 - val_mae: 2.9469\n",
      "Epoch 4/100\n",
      "303/303 [==============================] - 1s 4ms/step - loss: 17.7498 - mae: 2.8028 - val_loss: 14.6258 - val_mae: 2.9172\n",
      "Epoch 5/100\n",
      "303/303 [==============================] - 1s 3ms/step - loss: 16.0563 - mae: 2.6008 - val_loss: 14.6951 - val_mae: 2.8563\n",
      "Epoch 6/100\n",
      "303/303 [==============================] - 1s 4ms/step - loss: 14.1196 - mae: 2.5343 - val_loss: 15.9280 - val_mae: 3.0511\n",
      "Epoch 7/100\n",
      "303/303 [==============================] - 1s 4ms/step - loss: 13.3653 - mae: 2.4413 - val_loss: 12.0485 - val_mae: 2.6542\n",
      "Epoch 8/100\n",
      "303/303 [==============================] - 1s 4ms/step - loss: 13.0401 - mae: 2.3471 - val_loss: 13.3073 - val_mae: 2.8068\n",
      "Epoch 9/100\n",
      "303/303 [==============================] - 1s 3ms/step - loss: 12.1645 - mae: 2.3814 - val_loss: 13.1133 - val_mae: 2.8728\n",
      "Epoch 10/100\n",
      "303/303 [==============================] - 1s 3ms/step - loss: 12.1153 - mae: 2.3071 - val_loss: 13.1571 - val_mae: 2.8697\n",
      "Epoch 11/100\n",
      "303/303 [==============================] - 1s 3ms/step - loss: 11.2089 - mae: 2.2331 - val_loss: 14.4040 - val_mae: 3.0346\n",
      "Epoch 12/100\n",
      "303/303 [==============================] - 1s 3ms/step - loss: 11.3804 - mae: 2.2574 - val_loss: 12.6677 - val_mae: 2.7960\n",
      "Epoch 13/100\n",
      "303/303 [==============================] - 1s 2ms/step - loss: 10.5260 - mae: 2.2069 - val_loss: 13.4868 - val_mae: 2.8812\n",
      "Epoch 14/100\n",
      "303/303 [==============================] - 1s 2ms/step - loss: 10.0577 - mae: 2.1219 - val_loss: 14.6255 - val_mae: 3.0444\n",
      "Epoch 15/100\n",
      "303/303 [==============================] - 1s 2ms/step - loss: 10.0067 - mae: 2.1617 - val_loss: 12.9811 - val_mae: 2.8494\n",
      "Epoch 16/100\n",
      "303/303 [==============================] - 1s 2ms/step - loss: 10.3589 - mae: 2.1831 - val_loss: 11.5988 - val_mae: 2.6795\n",
      "Epoch 17/100\n",
      "303/303 [==============================] - 1s 2ms/step - loss: 9.7278 - mae: 2.1306 - val_loss: 11.2756 - val_mae: 2.5855\n",
      "Epoch 18/100\n",
      "303/303 [==============================] - 1s 2ms/step - loss: 10.0318 - mae: 2.1049 - val_loss: 12.8540 - val_mae: 2.7902\n",
      "Epoch 19/100\n",
      "303/303 [==============================] - 1s 2ms/step - loss: 9.7519 - mae: 2.1133 - val_loss: 11.5380 - val_mae: 2.6686\n",
      "Epoch 20/100\n",
      "303/303 [==============================] - 1s 2ms/step - loss: 9.9591 - mae: 2.0999 - val_loss: 11.0218 - val_mae: 2.5646\n",
      "Epoch 21/100\n",
      "303/303 [==============================] - 1s 2ms/step - loss: 9.2179 - mae: 2.0501 - val_loss: 11.8589 - val_mae: 2.6652\n",
      "Epoch 22/100\n",
      "303/303 [==============================] - 1s 4ms/step - loss: 9.1910 - mae: 2.0828 - val_loss: 10.0878 - val_mae: 2.4337\n"
     ]
    },
    {
     "name": "stdout",
     "output_type": "stream",
     "text": [
      "Epoch 23/100\n",
      "303/303 [==============================] - 1s 2ms/step - loss: 9.2903 - mae: 2.0803 - val_loss: 13.0898 - val_mae: 2.8278\n",
      "Epoch 24/100\n",
      "303/303 [==============================] - 1s 3ms/step - loss: 8.3479 - mae: 2.0156 - val_loss: 11.0610 - val_mae: 2.6154\n",
      "Epoch 25/100\n",
      "303/303 [==============================] - 1s 5ms/step - loss: 8.8186 - mae: 2.0303 - val_loss: 11.7684 - val_mae: 2.6561\n",
      "Epoch 26/100\n",
      "303/303 [==============================] - 1s 2ms/step - loss: 8.6408 - mae: 1.9489 - val_loss: 11.2646 - val_mae: 2.5609\n",
      "Epoch 27/100\n",
      "303/303 [==============================] - 1s 2ms/step - loss: 8.7338 - mae: 1.9898 - val_loss: 10.9254 - val_mae: 2.5328\n",
      "Epoch 28/100\n",
      "303/303 [==============================] - 1s 3ms/step - loss: 8.4675 - mae: 2.0353 - val_loss: 10.3026 - val_mae: 2.4873\n",
      "Epoch 29/100\n",
      "303/303 [==============================] - 1s 3ms/step - loss: 8.4024 - mae: 1.9678 - val_loss: 11.9412 - val_mae: 2.7320\n",
      "Epoch 30/100\n",
      "303/303 [==============================] - 1s 4ms/step - loss: 8.5790 - mae: 1.9126 - val_loss: 10.7844 - val_mae: 2.5473\n",
      "Epoch 31/100\n",
      "303/303 [==============================] - 1s 4ms/step - loss: 8.0813 - mae: 1.9293 - val_loss: 9.5968 - val_mae: 2.3884\n",
      "Epoch 32/100\n",
      "303/303 [==============================] - 1s 4ms/step - loss: 7.7816 - mae: 1.8463 - val_loss: 9.3465 - val_mae: 2.3781\n",
      "Epoch 33/100\n",
      "303/303 [==============================] - 1s 3ms/step - loss: 7.6150 - mae: 1.9040 - val_loss: 9.8938 - val_mae: 2.4473\n",
      "Epoch 34/100\n",
      "303/303 [==============================] - 1s 3ms/step - loss: 8.0424 - mae: 1.8812 - val_loss: 10.5848 - val_mae: 2.5464\n",
      "Epoch 35/100\n",
      "303/303 [==============================] - 1s 2ms/step - loss: 7.4358 - mae: 1.8213 - val_loss: 9.1185 - val_mae: 2.3548\n",
      "Epoch 36/100\n",
      "303/303 [==============================] - 1s 3ms/step - loss: 7.7124 - mae: 1.8694 - val_loss: 8.9691 - val_mae: 2.3072\n",
      "Epoch 37/100\n",
      "303/303 [==============================] - 1s 3ms/step - loss: 7.3162 - mae: 1.8336 - val_loss: 10.7905 - val_mae: 2.6088\n",
      "Epoch 38/100\n",
      "303/303 [==============================] - 1s 3ms/step - loss: 7.7476 - mae: 1.8504 - val_loss: 9.2050 - val_mae: 2.3311\n",
      "Epoch 39/100\n",
      "303/303 [==============================] - 1s 3ms/step - loss: 7.6406 - mae: 1.8140 - val_loss: 13.9054 - val_mae: 2.9518\n",
      "Epoch 40/100\n",
      "303/303 [==============================] - 1s 2ms/step - loss: 7.0230 - mae: 1.7593 - val_loss: 8.5370 - val_mae: 2.3038\n",
      "Epoch 41/100\n",
      "303/303 [==============================] - 1s 3ms/step - loss: 7.1238 - mae: 1.8073 - val_loss: 10.9931 - val_mae: 2.6324\n",
      "Epoch 42/100\n",
      "303/303 [==============================] - 1s 2ms/step - loss: 7.0501 - mae: 1.8064 - val_loss: 10.3626 - val_mae: 2.5224\n",
      "Epoch 43/100\n",
      "303/303 [==============================] - 1s 2ms/step - loss: 7.1639 - mae: 1.8068 - val_loss: 8.6868 - val_mae: 2.3413\n",
      "Epoch 44/100\n",
      "303/303 [==============================] - 1s 2ms/step - loss: 6.5724 - mae: 1.7618 - val_loss: 10.1754 - val_mae: 2.5444\n",
      "Epoch 45/100\n",
      "303/303 [==============================] - 1s 2ms/step - loss: 6.5549 - mae: 1.7800 - val_loss: 8.5561 - val_mae: 2.2599\n",
      "Epoch 46/100\n",
      "303/303 [==============================] - 1s 2ms/step - loss: 6.7542 - mae: 1.7238 - val_loss: 8.7622 - val_mae: 2.3274\n",
      "Epoch 47/100\n",
      "303/303 [==============================] - 1s 2ms/step - loss: 6.2057 - mae: 1.7520 - val_loss: 10.5219 - val_mae: 2.4952\n",
      "Epoch 48/100\n",
      "303/303 [==============================] - 1s 2ms/step - loss: 6.8047 - mae: 1.6992 - val_loss: 8.5948 - val_mae: 2.3008\n",
      "Epoch 49/100\n",
      "303/303 [==============================] - 1s 2ms/step - loss: 6.3594 - mae: 1.7141 - val_loss: 8.5483 - val_mae: 2.2844\n",
      "Epoch 50/100\n",
      "303/303 [==============================] - 1s 2ms/step - loss: 6.5951 - mae: 1.7198 - val_loss: 10.0063 - val_mae: 2.4893\n",
      "Epoch 51/100\n",
      "303/303 [==============================] - 1s 2ms/step - loss: 6.5619 - mae: 1.7316 - val_loss: 10.0664 - val_mae: 2.5056\n",
      "Epoch 52/100\n",
      "303/303 [==============================] - 1s 2ms/step - loss: 5.8413 - mae: 1.6617 - val_loss: 9.3511 - val_mae: 2.3734\n",
      "Epoch 53/100\n",
      "303/303 [==============================] - 1s 2ms/step - loss: 5.8932 - mae: 1.6666 - val_loss: 8.7889 - val_mae: 2.2752\n",
      "Epoch 54/100\n",
      "303/303 [==============================] - 1s 2ms/step - loss: 6.2666 - mae: 1.6662 - val_loss: 9.0157 - val_mae: 2.3667\n",
      "Epoch 55/100\n",
      "303/303 [==============================] - 1s 2ms/step - loss: 6.1778 - mae: 1.6534 - val_loss: 8.9412 - val_mae: 2.3373\n",
      "Epoch 56/100\n",
      "303/303 [==============================] - 1s 3ms/step - loss: 5.7117 - mae: 1.6477 - val_loss: 8.6829 - val_mae: 2.3653\n",
      "Epoch 57/100\n",
      "303/303 [==============================] - 1s 3ms/step - loss: 5.8594 - mae: 1.6348 - val_loss: 10.0694 - val_mae: 2.5267\n",
      "Epoch 58/100\n",
      "303/303 [==============================] - 1s 2ms/step - loss: 5.5529 - mae: 1.6182 - val_loss: 11.5347 - val_mae: 2.6946\n",
      "Epoch 59/100\n",
      "303/303 [==============================] - 1s 2ms/step - loss: 6.0955 - mae: 1.6835 - val_loss: 10.0137 - val_mae: 2.4740\n",
      "Epoch 60/100\n",
      "303/303 [==============================] - 1s 2ms/step - loss: 5.5285 - mae: 1.6118 - val_loss: 10.2004 - val_mae: 2.5511\n",
      "Epoch 61/100\n",
      "303/303 [==============================] - 1s 3ms/step - loss: 5.8548 - mae: 1.6047 - val_loss: 12.3550 - val_mae: 2.8364\n",
      "Epoch 62/100\n",
      "303/303 [==============================] - 1s 2ms/step - loss: 5.7431 - mae: 1.6143 - val_loss: 10.7624 - val_mae: 2.5549\n",
      "Epoch 63/100\n",
      "303/303 [==============================] - 1s 2ms/step - loss: 5.3079 - mae: 1.5577 - val_loss: 8.4881 - val_mae: 2.2509\n",
      "Epoch 64/100\n",
      "303/303 [==============================] - ETA: 0s - loss: 5.4608 - mae: 1.595 - 1s 3ms/step - loss: 5.4463 - mae: 1.5934 - val_loss: 10.4344 - val_mae: 2.5486\n",
      "Epoch 65/100\n",
      "303/303 [==============================] - 1s 2ms/step - loss: 5.5096 - mae: 1.6275 - val_loss: 9.2104 - val_mae: 2.4090\n",
      "Epoch 66/100\n",
      "303/303 [==============================] - 1s 2ms/step - loss: 5.3901 - mae: 1.5589 - val_loss: 11.1907 - val_mae: 2.6270\n",
      "Epoch 67/100\n",
      "303/303 [==============================] - 1s 2ms/step - loss: 5.0140 - mae: 1.5735 - val_loss: 7.9983 - val_mae: 2.2432\n",
      "Epoch 68/100\n",
      "303/303 [==============================] - 1s 2ms/step - loss: 5.4492 - mae: 1.5689 - val_loss: 9.3731 - val_mae: 2.3861\n",
      "Epoch 69/100\n",
      "303/303 [==============================] - 1s 2ms/step - loss: 5.0535 - mae: 1.5417 - val_loss: 8.1388 - val_mae: 2.2730\n",
      "Epoch 70/100\n",
      "303/303 [==============================] - 1s 2ms/step - loss: 5.4549 - mae: 1.5413 - val_loss: 10.3838 - val_mae: 2.4938\n",
      "Epoch 71/100\n",
      "303/303 [==============================] - 1s 2ms/step - loss: 5.1118 - mae: 1.5267 - val_loss: 9.5718 - val_mae: 2.3424\n",
      "Epoch 72/100\n",
      "303/303 [==============================] - 1s 2ms/step - loss: 5.0412 - mae: 1.5249 - val_loss: 8.9442 - val_mae: 2.3376\n",
      "Epoch 73/100\n",
      "303/303 [==============================] - 1s 2ms/step - loss: 5.3476 - mae: 1.5317 - val_loss: 9.0358 - val_mae: 2.3213\n",
      "Epoch 74/100\n",
      "303/303 [==============================] - 1s 2ms/step - loss: 4.9580 - mae: 1.4874 - val_loss: 9.3726 - val_mae: 2.3684\n",
      "Epoch 75/100\n",
      "303/303 [==============================] - 1s 2ms/step - loss: 4.9777 - mae: 1.5175 - val_loss: 10.2005 - val_mae: 2.5085\n",
      "Epoch 76/100\n",
      "303/303 [==============================] - 1s 2ms/step - loss: 4.8052 - mae: 1.4394 - val_loss: 10.5830 - val_mae: 2.5441\n",
      "Epoch 77/100\n",
      "303/303 [==============================] - 1s 2ms/step - loss: 4.8300 - mae: 1.4613 - val_loss: 8.2153 - val_mae: 2.1559\n",
      "Epoch 78/100\n",
      "303/303 [==============================] - 1s 2ms/step - loss: 4.5619 - mae: 1.4503 - val_loss: 8.7815 - val_mae: 2.2123\n",
      "Epoch 79/100\n",
      "303/303 [==============================] - 1s 2ms/step - loss: 4.8842 - mae: 1.4806 - val_loss: 9.4185 - val_mae: 2.3341\n",
      "Epoch 80/100\n",
      "303/303 [==============================] - 1s 2ms/step - loss: 4.8568 - mae: 1.4370 - val_loss: 10.1606 - val_mae: 2.3285\n",
      "Epoch 81/100\n",
      "303/303 [==============================] - 1s 2ms/step - loss: 4.4459 - mae: 1.4302 - val_loss: 10.6254 - val_mae: 2.5292\n",
      "Epoch 82/100\n",
      "303/303 [==============================] - 1s 2ms/step - loss: 4.5521 - mae: 1.4451 - val_loss: 9.2642 - val_mae: 2.3184\n",
      "Epoch 83/100\n"
     ]
    },
    {
     "name": "stdout",
     "output_type": "stream",
     "text": [
      "303/303 [==============================] - 1s 2ms/step - loss: 4.7709 - mae: 1.4662 - val_loss: 11.2037 - val_mae: 2.6066\n",
      "Epoch 84/100\n",
      "303/303 [==============================] - 1s 2ms/step - loss: 4.7503 - mae: 1.4452 - val_loss: 10.3052 - val_mae: 2.4256\n",
      "Epoch 85/100\n",
      "303/303 [==============================] - 1s 2ms/step - loss: 4.7854 - mae: 1.4665 - val_loss: 9.7633 - val_mae: 2.4115\n",
      "Epoch 86/100\n",
      "303/303 [==============================] - 1s 2ms/step - loss: 4.5677 - mae: 1.4281 - val_loss: 8.6142 - val_mae: 2.2556\n",
      "Epoch 87/100\n",
      "303/303 [==============================] - 1s 2ms/step - loss: 4.5977 - mae: 1.4680 - val_loss: 10.6329 - val_mae: 2.3831\n",
      "Epoch 88/100\n",
      "303/303 [==============================] - 1s 2ms/step - loss: 4.0063 - mae: 1.4130 - val_loss: 9.0284 - val_mae: 2.2944\n",
      "Epoch 89/100\n",
      "303/303 [==============================] - 1s 3ms/step - loss: 4.2294 - mae: 1.3658 - val_loss: 10.9401 - val_mae: 2.5353\n",
      "Epoch 90/100\n",
      "303/303 [==============================] - 1s 3ms/step - loss: 4.3860 - mae: 1.3595 - val_loss: 11.9556 - val_mae: 2.5843\n",
      "Epoch 91/100\n",
      "303/303 [==============================] - 1s 2ms/step - loss: 4.5659 - mae: 1.4257 - val_loss: 9.1275 - val_mae: 2.2776\n",
      "Epoch 92/100\n",
      "303/303 [==============================] - 1s 4ms/step - loss: 4.4361 - mae: 1.3956 - val_loss: 10.6153 - val_mae: 2.5387\n",
      "Epoch 93/100\n",
      "303/303 [==============================] - 1s 4ms/step - loss: 4.2898 - mae: 1.4070 - val_loss: 9.3702 - val_mae: 2.3870\n",
      "Epoch 94/100\n",
      "303/303 [==============================] - 1s 3ms/step - loss: 4.1314 - mae: 1.3728 - val_loss: 10.1455 - val_mae: 2.4417\n",
      "Epoch 95/100\n",
      "303/303 [==============================] - 1s 4ms/step - loss: 4.2950 - mae: 1.3813 - val_loss: 12.1107 - val_mae: 2.5430\n",
      "Epoch 96/100\n",
      "303/303 [==============================] - 1s 3ms/step - loss: 4.2054 - mae: 1.3409 - val_loss: 12.0014 - val_mae: 2.5638\n",
      "Epoch 97/100\n",
      "303/303 [==============================] - 1s 3ms/step - loss: 4.1730 - mae: 1.4184 - val_loss: 14.7973 - val_mae: 2.7839\n",
      "Epoch 98/100\n",
      "303/303 [==============================] - 1s 3ms/step - loss: 3.7205 - mae: 1.3360 - val_loss: 12.0767 - val_mae: 2.4492\n",
      "Epoch 99/100\n",
      "303/303 [==============================] - 1s 2ms/step - loss: 3.9455 - mae: 1.3202 - val_loss: 13.5950 - val_mae: 2.7202\n",
      "Epoch 100/100\n",
      "303/303 [==============================] - 1s 2ms/step - loss: 3.8789 - mae: 1.3831 - val_loss: 12.0023 - val_mae: 2.4112\n",
      "Processing fold #3/4\n",
      "Epoch 1/100\n",
      "303/303 [==============================] - 1s 3ms/step - loss: 209.9081 - mae: 10.8766 - val_loss: 39.9831 - val_mae: 4.5516\n",
      "Epoch 2/100\n",
      "303/303 [==============================] - 1s 2ms/step - loss: 32.0930 - mae: 3.9382 - val_loss: 25.3152 - val_mae: 3.3068\n",
      "Epoch 3/100\n",
      "303/303 [==============================] - 1s 2ms/step - loss: 21.5179 - mae: 3.1491 - val_loss: 24.1324 - val_mae: 3.4869\n",
      "Epoch 4/100\n",
      "303/303 [==============================] - 1s 3ms/step - loss: 18.0419 - mae: 2.8840 - val_loss: 18.5978 - val_mae: 2.7556\n",
      "Epoch 5/100\n",
      "303/303 [==============================] - 1s 2ms/step - loss: 15.4401 - mae: 2.7093 - val_loss: 17.4073 - val_mae: 2.6384\n",
      "Epoch 6/100\n",
      "303/303 [==============================] - 1s 2ms/step - loss: 13.3657 - mae: 2.5870 - val_loss: 18.1301 - val_mae: 2.7117\n",
      "Epoch 7/100\n",
      "303/303 [==============================] - 1s 2ms/step - loss: 12.5449 - mae: 2.4674 - val_loss: 17.0480 - val_mae: 2.6052\n",
      "Epoch 8/100\n",
      "303/303 [==============================] - 1s 2ms/step - loss: 11.5422 - mae: 2.4057 - val_loss: 15.9925 - val_mae: 2.6369\n",
      "Epoch 9/100\n",
      "303/303 [==============================] - 1s 2ms/step - loss: 10.9732 - mae: 2.3423 - val_loss: 16.0256 - val_mae: 2.5822\n",
      "Epoch 10/100\n",
      "303/303 [==============================] - 1s 2ms/step - loss: 10.0990 - mae: 2.2196 - val_loss: 17.9019 - val_mae: 2.7380\n",
      "Epoch 11/100\n",
      "303/303 [==============================] - 1s 2ms/step - loss: 9.5531 - mae: 2.1902 - val_loss: 16.6561 - val_mae: 2.5633\n",
      "Epoch 12/100\n",
      "303/303 [==============================] - 1s 2ms/step - loss: 9.7419 - mae: 2.1965 - val_loss: 16.5801 - val_mae: 2.6110\n",
      "Epoch 13/100\n",
      "303/303 [==============================] - 1s 2ms/step - loss: 8.9796 - mae: 2.0533 - val_loss: 16.6009 - val_mae: 2.5580\n",
      "Epoch 14/100\n",
      "303/303 [==============================] - 1s 2ms/step - loss: 8.7342 - mae: 2.0266 - val_loss: 18.1838 - val_mae: 2.8773\n",
      "Epoch 15/100\n",
      "303/303 [==============================] - 1s 2ms/step - loss: 8.5453 - mae: 2.0852 - val_loss: 17.4380 - val_mae: 2.6584\n",
      "Epoch 16/100\n",
      "303/303 [==============================] - 1s 2ms/step - loss: 8.2665 - mae: 2.0316 - val_loss: 15.0258 - val_mae: 2.5187\n",
      "Epoch 17/100\n",
      "303/303 [==============================] - 1s 2ms/step - loss: 8.2162 - mae: 1.9745 - val_loss: 16.2104 - val_mae: 2.7528\n",
      "Epoch 18/100\n",
      "303/303 [==============================] - 1s 2ms/step - loss: 8.1774 - mae: 1.9650 - val_loss: 16.8145 - val_mae: 2.9172\n",
      "Epoch 19/100\n",
      "303/303 [==============================] - 1s 2ms/step - loss: 7.8796 - mae: 1.9426 - val_loss: 14.9280 - val_mae: 2.5086\n",
      "Epoch 20/100\n",
      "303/303 [==============================] - 1s 2ms/step - loss: 7.4280 - mae: 1.9045 - val_loss: 16.5398 - val_mae: 2.7618\n",
      "Epoch 21/100\n",
      "303/303 [==============================] - 1s 2ms/step - loss: 7.6799 - mae: 1.9333 - val_loss: 14.9138 - val_mae: 2.4586\n",
      "Epoch 22/100\n",
      "303/303 [==============================] - 1s 3ms/step - loss: 7.4073 - mae: 1.8843 - val_loss: 15.9244 - val_mae: 2.5907\n",
      "Epoch 23/100\n",
      "303/303 [==============================] - 1s 2ms/step - loss: 7.4490 - mae: 1.8687 - val_loss: 15.1606 - val_mae: 2.5575\n",
      "Epoch 24/100\n",
      "303/303 [==============================] - 1s 2ms/step - loss: 7.2945 - mae: 1.8386 - val_loss: 15.6723 - val_mae: 2.6075\n",
      "Epoch 25/100\n",
      "303/303 [==============================] - 1s 2ms/step - loss: 7.1876 - mae: 1.8540 - val_loss: 16.8863 - val_mae: 2.6856\n",
      "Epoch 26/100\n",
      "303/303 [==============================] - 1s 2ms/step - loss: 6.5857 - mae: 1.7666 - val_loss: 17.1659 - val_mae: 2.9012\n",
      "Epoch 27/100\n",
      "303/303 [==============================] - 1s 2ms/step - loss: 7.2297 - mae: 1.8225 - val_loss: 14.4797 - val_mae: 2.5742\n",
      "Epoch 28/100\n",
      "303/303 [==============================] - 1s 2ms/step - loss: 6.5527 - mae: 1.8008 - val_loss: 15.3825 - val_mae: 2.5683\n",
      "Epoch 29/100\n",
      "303/303 [==============================] - 1s 2ms/step - loss: 6.6916 - mae: 1.7483 - val_loss: 15.3157 - val_mae: 2.5214\n",
      "Epoch 30/100\n",
      "303/303 [==============================] - 1s 2ms/step - loss: 6.5098 - mae: 1.7538 - val_loss: 13.9713 - val_mae: 2.4069\n",
      "Epoch 31/100\n",
      "303/303 [==============================] - 1s 2ms/step - loss: 6.5481 - mae: 1.7377 - val_loss: 14.2095 - val_mae: 2.5229\n",
      "Epoch 32/100\n",
      "303/303 [==============================] - 1s 2ms/step - loss: 6.3706 - mae: 1.7260 - val_loss: 15.1930 - val_mae: 2.5533\n",
      "Epoch 33/100\n",
      "303/303 [==============================] - 1s 2ms/step - loss: 6.0788 - mae: 1.7608 - val_loss: 15.8817 - val_mae: 2.7326\n",
      "Epoch 34/100\n",
      "303/303 [==============================] - 1s 2ms/step - loss: 6.7625 - mae: 1.7281 - val_loss: 14.6144 - val_mae: 2.5606\n",
      "Epoch 35/100\n",
      "303/303 [==============================] - 1s 2ms/step - loss: 6.0544 - mae: 1.6822 - val_loss: 14.1240 - val_mae: 2.5108\n",
      "Epoch 36/100\n",
      "303/303 [==============================] - 1s 3ms/step - loss: 5.9403 - mae: 1.6479 - val_loss: 17.3331 - val_mae: 3.0456\n",
      "Epoch 37/100\n",
      "303/303 [==============================] - 1s 2ms/step - loss: 6.3573 - mae: 1.7521 - val_loss: 14.5069 - val_mae: 2.5933\n",
      "Epoch 38/100\n",
      "303/303 [==============================] - 1s 2ms/step - loss: 5.9916 - mae: 1.6918 - val_loss: 15.1055 - val_mae: 2.6544\n",
      "Epoch 39/100\n",
      "303/303 [==============================] - 1s 2ms/step - loss: 5.8766 - mae: 1.6468 - val_loss: 14.3185 - val_mae: 2.5203\n",
      "Epoch 40/100\n",
      "303/303 [==============================] - 1s 2ms/step - loss: 5.9378 - mae: 1.6809 - val_loss: 15.8107 - val_mae: 2.6785\n",
      "Epoch 41/100\n",
      "303/303 [==============================] - 1s 2ms/step - loss: 6.2488 - mae: 1.6851 - val_loss: 14.7239 - val_mae: 2.5197\n",
      "Epoch 42/100\n",
      "303/303 [==============================] - 1s 2ms/step - loss: 5.7707 - mae: 1.6220 - val_loss: 15.2382 - val_mae: 2.5377\n",
      "Epoch 43/100\n"
     ]
    },
    {
     "name": "stdout",
     "output_type": "stream",
     "text": [
      "303/303 [==============================] - 1s 2ms/step - loss: 5.7850 - mae: 1.6920 - val_loss: 15.4158 - val_mae: 2.6173\n",
      "Epoch 44/100\n",
      "303/303 [==============================] - 1s 2ms/step - loss: 5.5648 - mae: 1.6039 - val_loss: 14.0180 - val_mae: 2.5880\n",
      "Epoch 45/100\n",
      "303/303 [==============================] - 1s 2ms/step - loss: 5.4791 - mae: 1.5395 - val_loss: 15.0171 - val_mae: 2.7402\n",
      "Epoch 46/100\n",
      "303/303 [==============================] - 1s 2ms/step - loss: 5.4472 - mae: 1.6082 - val_loss: 15.0768 - val_mae: 2.6829\n",
      "Epoch 47/100\n",
      "303/303 [==============================] - 1s 2ms/step - loss: 5.7091 - mae: 1.6119 - val_loss: 15.9271 - val_mae: 2.7843\n",
      "Epoch 48/100\n",
      "303/303 [==============================] - 1s 2ms/step - loss: 5.1338 - mae: 1.5725 - val_loss: 16.0925 - val_mae: 2.7108\n",
      "Epoch 49/100\n",
      "303/303 [==============================] - 1s 2ms/step - loss: 4.9911 - mae: 1.5480 - val_loss: 16.3460 - val_mae: 2.6090\n",
      "Epoch 50/100\n",
      "303/303 [==============================] - 1s 2ms/step - loss: 5.3110 - mae: 1.5870 - val_loss: 14.0167 - val_mae: 2.5054\n",
      "Epoch 51/100\n",
      "303/303 [==============================] - 1s 2ms/step - loss: 4.8723 - mae: 1.5234 - val_loss: 13.4603 - val_mae: 2.5110\n",
      "Epoch 52/100\n",
      "303/303 [==============================] - 1s 2ms/step - loss: 5.1150 - mae: 1.5572 - val_loss: 14.9816 - val_mae: 2.6210\n",
      "Epoch 53/100\n",
      "303/303 [==============================] - 1s 2ms/step - loss: 5.0404 - mae: 1.5450 - val_loss: 18.4011 - val_mae: 3.0465\n",
      "Epoch 54/100\n",
      "303/303 [==============================] - 1s 2ms/step - loss: 4.9336 - mae: 1.5015 - val_loss: 16.8929 - val_mae: 2.7568\n",
      "Epoch 55/100\n",
      "303/303 [==============================] - 1s 2ms/step - loss: 5.0861 - mae: 1.5843 - val_loss: 13.7964 - val_mae: 2.4484\n",
      "Epoch 56/100\n",
      "303/303 [==============================] - 1s 2ms/step - loss: 4.9455 - mae: 1.5452 - val_loss: 15.2961 - val_mae: 2.6851\n",
      "Epoch 57/100\n",
      "303/303 [==============================] - 1s 2ms/step - loss: 4.4343 - mae: 1.4596 - val_loss: 16.4944 - val_mae: 2.8023\n",
      "Epoch 58/100\n",
      "303/303 [==============================] - 1s 2ms/step - loss: 4.5698 - mae: 1.4877 - val_loss: 14.6215 - val_mae: 2.5203\n",
      "Epoch 59/100\n",
      "303/303 [==============================] - 1s 2ms/step - loss: 4.5772 - mae: 1.5229 - val_loss: 14.2172 - val_mae: 2.5092\n",
      "Epoch 60/100\n",
      "303/303 [==============================] - 1s 2ms/step - loss: 4.6565 - mae: 1.5036 - val_loss: 14.8231 - val_mae: 2.5183\n",
      "Epoch 61/100\n",
      "303/303 [==============================] - ETA: 0s - loss: 4.6037 - mae: 1.500 - 1s 2ms/step - loss: 4.5928 - mae: 1.5005 - val_loss: 15.0563 - val_mae: 2.6728\n",
      "Epoch 62/100\n",
      "303/303 [==============================] - 1s 2ms/step - loss: 4.4260 - mae: 1.5027 - val_loss: 14.6137 - val_mae: 2.5120\n",
      "Epoch 63/100\n",
      "303/303 [==============================] - 1s 2ms/step - loss: 4.6830 - mae: 1.4675 - val_loss: 15.9267 - val_mae: 2.6218\n",
      "Epoch 64/100\n",
      "303/303 [==============================] - 1s 2ms/step - loss: 4.4383 - mae: 1.4771 - val_loss: 14.8042 - val_mae: 2.5499\n",
      "Epoch 65/100\n",
      "303/303 [==============================] - 1s 2ms/step - loss: 4.4985 - mae: 1.5202 - val_loss: 15.3970 - val_mae: 2.6357\n",
      "Epoch 66/100\n",
      "303/303 [==============================] - 1s 2ms/step - loss: 4.2427 - mae: 1.4830 - val_loss: 17.6023 - val_mae: 2.8571\n",
      "Epoch 67/100\n",
      "303/303 [==============================] - 1s 2ms/step - loss: 4.1407 - mae: 1.4383 - val_loss: 15.4679 - val_mae: 2.5831\n",
      "Epoch 68/100\n",
      "303/303 [==============================] - 1s 2ms/step - loss: 4.4220 - mae: 1.4444 - val_loss: 17.0490 - val_mae: 2.7464\n",
      "Epoch 69/100\n",
      "303/303 [==============================] - 1s 2ms/step - loss: 4.1537 - mae: 1.4297 - val_loss: 14.3093 - val_mae: 2.5524\n",
      "Epoch 70/100\n",
      "303/303 [==============================] - 1s 2ms/step - loss: 4.2123 - mae: 1.4013 - val_loss: 15.0940 - val_mae: 2.7039\n",
      "Epoch 71/100\n",
      "303/303 [==============================] - 1s 2ms/step - loss: 4.2166 - mae: 1.4189 - val_loss: 16.1694 - val_mae: 2.6238\n",
      "Epoch 72/100\n",
      "303/303 [==============================] - 1s 2ms/step - loss: 4.1324 - mae: 1.3732 - val_loss: 14.7055 - val_mae: 2.5337\n",
      "Epoch 73/100\n",
      "303/303 [==============================] - 1s 2ms/step - loss: 3.9285 - mae: 1.3643 - val_loss: 17.3527 - val_mae: 2.8959\n",
      "Epoch 74/100\n",
      "303/303 [==============================] - 1s 2ms/step - loss: 3.9669 - mae: 1.4385 - val_loss: 16.8932 - val_mae: 2.8852\n",
      "Epoch 75/100\n",
      "303/303 [==============================] - 1s 2ms/step - loss: 3.9010 - mae: 1.3680 - val_loss: 15.5147 - val_mae: 2.6002\n",
      "Epoch 76/100\n",
      "303/303 [==============================] - 1s 2ms/step - loss: 3.7708 - mae: 1.3647 - val_loss: 15.7258 - val_mae: 2.6266\n",
      "Epoch 77/100\n",
      "303/303 [==============================] - 1s 2ms/step - loss: 3.7365 - mae: 1.3426 - val_loss: 15.0482 - val_mae: 2.6809\n",
      "Epoch 78/100\n",
      "303/303 [==============================] - 1s 2ms/step - loss: 3.8948 - mae: 1.3635 - val_loss: 15.1770 - val_mae: 2.5610\n",
      "Epoch 79/100\n",
      "303/303 [==============================] - 1s 2ms/step - loss: 3.7495 - mae: 1.3553 - val_loss: 15.5428 - val_mae: 2.5319\n",
      "Epoch 80/100\n",
      "303/303 [==============================] - 1s 2ms/step - loss: 3.4776 - mae: 1.2746 - val_loss: 15.2872 - val_mae: 2.6001\n",
      "Epoch 81/100\n",
      "303/303 [==============================] - 1s 2ms/step - loss: 3.7443 - mae: 1.3839 - val_loss: 15.5474 - val_mae: 2.6996\n",
      "Epoch 82/100\n",
      "303/303 [==============================] - 1s 2ms/step - loss: 3.7368 - mae: 1.3278 - val_loss: 14.8177 - val_mae: 2.5336\n",
      "Epoch 83/100\n",
      "303/303 [==============================] - 1s 2ms/step - loss: 3.1199 - mae: 1.2709 - val_loss: 17.5413 - val_mae: 2.7658\n",
      "Epoch 84/100\n",
      "303/303 [==============================] - 1s 2ms/step - loss: 3.3578 - mae: 1.3217 - val_loss: 16.1469 - val_mae: 2.5779\n",
      "Epoch 85/100\n",
      "303/303 [==============================] - 1s 2ms/step - loss: 3.1968 - mae: 1.3202 - val_loss: 15.8293 - val_mae: 2.7297\n",
      "Epoch 86/100\n",
      "303/303 [==============================] - 1s 2ms/step - loss: 3.4243 - mae: 1.3070 - val_loss: 15.5476 - val_mae: 2.5972\n",
      "Epoch 87/100\n",
      "303/303 [==============================] - 1s 2ms/step - loss: 3.4239 - mae: 1.3036 - val_loss: 15.0431 - val_mae: 2.5857\n",
      "Epoch 88/100\n",
      "303/303 [==============================] - 1s 2ms/step - loss: 3.3165 - mae: 1.2311 - val_loss: 17.1473 - val_mae: 2.6567\n",
      "Epoch 89/100\n",
      "303/303 [==============================] - 1s 2ms/step - loss: 3.1106 - mae: 1.2269 - val_loss: 15.1705 - val_mae: 2.5876\n",
      "Epoch 90/100\n",
      "303/303 [==============================] - 1s 2ms/step - loss: 3.2248 - mae: 1.2736 - val_loss: 16.0017 - val_mae: 2.7007\n",
      "Epoch 91/100\n",
      "303/303 [==============================] - 1s 2ms/step - loss: 3.2401 - mae: 1.2749 - val_loss: 16.1971 - val_mae: 2.7931\n",
      "Epoch 92/100\n",
      "303/303 [==============================] - 1s 2ms/step - loss: 3.0858 - mae: 1.2201 - val_loss: 15.5829 - val_mae: 2.6780\n",
      "Epoch 93/100\n",
      "303/303 [==============================] - 1s 2ms/step - loss: 3.0815 - mae: 1.2586 - val_loss: 15.5098 - val_mae: 2.6282\n",
      "Epoch 94/100\n",
      "303/303 [==============================] - 1s 2ms/step - loss: 3.1150 - mae: 1.2640 - val_loss: 15.1550 - val_mae: 2.6182\n",
      "Epoch 95/100\n",
      "303/303 [==============================] - 1s 2ms/step - loss: 2.9039 - mae: 1.2085 - val_loss: 16.7547 - val_mae: 2.7572\n",
      "Epoch 96/100\n",
      "303/303 [==============================] - 1s 2ms/step - loss: 3.1257 - mae: 1.2201 - val_loss: 15.2491 - val_mae: 2.5874\n",
      "Epoch 97/100\n",
      "303/303 [==============================] - 1s 2ms/step - loss: 2.7928 - mae: 1.2000 - val_loss: 15.7132 - val_mae: 2.6835\n",
      "Epoch 98/100\n",
      "303/303 [==============================] - 1s 2ms/step - loss: 3.0253 - mae: 1.2635 - val_loss: 16.0816 - val_mae: 2.7620\n",
      "Epoch 99/100\n",
      "303/303 [==============================] - 1s 2ms/step - loss: 2.7241 - mae: 1.1910 - val_loss: 14.9362 - val_mae: 2.6531\n",
      "Epoch 100/100\n",
      "303/303 [==============================] - 1s 2ms/step - loss: 2.8483 - mae: 1.2177 - val_loss: 14.7407 - val_mae: 2.5363\n",
      "Processing fold #4/4\n",
      "Epoch 1/100\n",
      "303/303 [==============================] - 1s 3ms/step - loss: 174.2011 - mae: 10.2407 - val_loss: 73.8284 - val_mae: 6.0608\n",
      "Epoch 2/100\n",
      "303/303 [==============================] - 1s 2ms/step - loss: 32.5062 - mae: 3.8829 - val_loss: 45.2027 - val_mae: 4.4351\n",
      "Epoch 3/100\n"
     ]
    },
    {
     "name": "stdout",
     "output_type": "stream",
     "text": [
      "303/303 [==============================] - 1s 2ms/step - loss: 22.9061 - mae: 3.1950 - val_loss: 34.7045 - val_mae: 3.7877\n",
      "Epoch 4/100\n",
      "303/303 [==============================] - 1s 2ms/step - loss: 18.8967 - mae: 2.7836 - val_loss: 30.8000 - val_mae: 3.6024\n",
      "Epoch 5/100\n",
      "303/303 [==============================] - 1s 2ms/step - loss: 16.8079 - mae: 2.6524 - val_loss: 26.9313 - val_mae: 3.1981\n",
      "Epoch 6/100\n",
      "303/303 [==============================] - 1s 2ms/step - loss: 15.3730 - mae: 2.4658 - val_loss: 27.4014 - val_mae: 3.3207\n",
      "Epoch 7/100\n",
      "303/303 [==============================] - 1s 2ms/step - loss: 13.5008 - mae: 2.3545 - val_loss: 26.1912 - val_mae: 3.2170\n",
      "Epoch 8/100\n",
      "303/303 [==============================] - 1s 2ms/step - loss: 13.0318 - mae: 2.3487 - val_loss: 21.3020 - val_mae: 2.7424\n",
      "Epoch 9/100\n",
      "303/303 [==============================] - 1s 2ms/step - loss: 12.5402 - mae: 2.2712 - val_loss: 23.9022 - val_mae: 3.1137\n",
      "Epoch 10/100\n",
      "303/303 [==============================] - 1s 2ms/step - loss: 12.3427 - mae: 2.2060 - val_loss: 21.5910 - val_mae: 2.7948\n",
      "Epoch 11/100\n",
      "303/303 [==============================] - 1s 3ms/step - loss: 11.5861 - mae: 2.1592 - val_loss: 21.2270 - val_mae: 2.9654\n",
      "Epoch 12/100\n",
      "303/303 [==============================] - 1s 3ms/step - loss: 11.0331 - mae: 2.1560 - val_loss: 18.1867 - val_mae: 2.5863\n",
      "Epoch 13/100\n",
      "303/303 [==============================] - 1s 3ms/step - loss: 11.0745 - mae: 2.0970 - val_loss: 18.0950 - val_mae: 2.6209\n",
      "Epoch 14/100\n",
      "303/303 [==============================] - 1s 3ms/step - loss: 10.5378 - mae: 1.9952 - val_loss: 17.1330 - val_mae: 2.6436\n",
      "Epoch 15/100\n",
      "303/303 [==============================] - 1s 3ms/step - loss: 10.4145 - mae: 1.9841 - val_loss: 15.7308 - val_mae: 2.6720\n",
      "Epoch 16/100\n",
      "303/303 [==============================] - 1s 3ms/step - loss: 9.4212 - mae: 2.0328 - val_loss: 16.7111 - val_mae: 2.7161\n",
      "Epoch 17/100\n",
      "303/303 [==============================] - 1s 3ms/step - loss: 10.1352 - mae: 1.9595 - val_loss: 17.8210 - val_mae: 2.6694\n",
      "Epoch 18/100\n",
      "303/303 [==============================] - 1s 2ms/step - loss: 9.4471 - mae: 1.9760 - val_loss: 15.3484 - val_mae: 2.4930\n",
      "Epoch 19/100\n",
      "303/303 [==============================] - 1s 2ms/step - loss: 9.2878 - mae: 1.9817 - val_loss: 16.2453 - val_mae: 2.6233\n",
      "Epoch 20/100\n",
      "303/303 [==============================] - 1s 2ms/step - loss: 9.3179 - mae: 1.9361 - val_loss: 14.1287 - val_mae: 2.4560\n",
      "Epoch 21/100\n",
      "303/303 [==============================] - 1s 2ms/step - loss: 9.3234 - mae: 1.9178 - val_loss: 14.2701 - val_mae: 2.4818\n",
      "Epoch 22/100\n",
      "303/303 [==============================] - 1s 2ms/step - loss: 8.6440 - mae: 1.8931 - val_loss: 13.8451 - val_mae: 2.4292\n",
      "Epoch 23/100\n",
      "303/303 [==============================] - 1s 3ms/step - loss: 8.7353 - mae: 1.8858 - val_loss: 14.9890 - val_mae: 2.5905\n",
      "Epoch 24/100\n",
      "303/303 [==============================] - 1s 2ms/step - loss: 8.6600 - mae: 1.8943 - val_loss: 15.8404 - val_mae: 2.6268\n",
      "Epoch 25/100\n",
      "303/303 [==============================] - 1s 2ms/step - loss: 8.4138 - mae: 1.8804 - val_loss: 14.8561 - val_mae: 2.5598\n",
      "Epoch 26/100\n",
      "303/303 [==============================] - 1s 2ms/step - loss: 7.9453 - mae: 1.8023 - val_loss: 14.7756 - val_mae: 2.5134\n",
      "Epoch 27/100\n",
      "303/303 [==============================] - 1s 2ms/step - loss: 8.0578 - mae: 1.8127 - val_loss: 13.6785 - val_mae: 2.4964\n",
      "Epoch 28/100\n",
      "303/303 [==============================] - 1s 3ms/step - loss: 8.3104 - mae: 1.8063 - val_loss: 14.8063 - val_mae: 2.6190\n",
      "Epoch 29/100\n",
      "303/303 [==============================] - 1s 2ms/step - loss: 7.4627 - mae: 1.7670 - val_loss: 13.7438 - val_mae: 2.5259\n",
      "Epoch 30/100\n",
      "303/303 [==============================] - 1s 2ms/step - loss: 7.9530 - mae: 1.7974 - val_loss: 13.4521 - val_mae: 2.5078\n",
      "Epoch 31/100\n",
      "303/303 [==============================] - 1s 2ms/step - loss: 7.5042 - mae: 1.8113 - val_loss: 12.2632 - val_mae: 2.3639\n",
      "Epoch 32/100\n",
      "303/303 [==============================] - 1s 2ms/step - loss: 7.2469 - mae: 1.8144 - val_loss: 12.3449 - val_mae: 2.3875\n",
      "Epoch 33/100\n",
      "303/303 [==============================] - 1s 2ms/step - loss: 7.3702 - mae: 1.7188 - val_loss: 13.7668 - val_mae: 2.4861\n",
      "Epoch 34/100\n",
      "303/303 [==============================] - 1s 2ms/step - loss: 6.9882 - mae: 1.7453 - val_loss: 13.3246 - val_mae: 2.3866\n",
      "Epoch 35/100\n",
      "303/303 [==============================] - 1s 2ms/step - loss: 6.8546 - mae: 1.7131 - val_loss: 11.8437 - val_mae: 2.3551\n",
      "Epoch 36/100\n",
      "303/303 [==============================] - 1s 2ms/step - loss: 6.9824 - mae: 1.7286 - val_loss: 15.4095 - val_mae: 2.7980\n",
      "Epoch 37/100\n",
      "303/303 [==============================] - 1s 2ms/step - loss: 6.7580 - mae: 1.7390 - val_loss: 12.7122 - val_mae: 2.4151\n",
      "Epoch 38/100\n",
      "303/303 [==============================] - 1s 2ms/step - loss: 7.4598 - mae: 1.7196 - val_loss: 12.6377 - val_mae: 2.4456\n",
      "Epoch 39/100\n",
      "303/303 [==============================] - 1s 2ms/step - loss: 6.6238 - mae: 1.7073 - val_loss: 12.4971 - val_mae: 2.4253\n",
      "Epoch 40/100\n",
      "303/303 [==============================] - 1s 2ms/step - loss: 7.0179 - mae: 1.7351 - val_loss: 11.6628 - val_mae: 2.3340\n",
      "Epoch 41/100\n",
      "303/303 [==============================] - 1s 2ms/step - loss: 6.4117 - mae: 1.7521 - val_loss: 11.9540 - val_mae: 2.3514\n",
      "Epoch 42/100\n",
      "303/303 [==============================] - 1s 2ms/step - loss: 6.5715 - mae: 1.6516 - val_loss: 11.9542 - val_mae: 2.3554\n",
      "Epoch 43/100\n",
      "303/303 [==============================] - 1s 2ms/step - loss: 6.9128 - mae: 1.6842 - val_loss: 11.8541 - val_mae: 2.3182\n",
      "Epoch 44/100\n",
      "303/303 [==============================] - 1s 2ms/step - loss: 6.3839 - mae: 1.6556 - val_loss: 12.7858 - val_mae: 2.3771\n",
      "Epoch 45/100\n",
      "303/303 [==============================] - 1s 2ms/step - loss: 6.8288 - mae: 1.6422 - val_loss: 12.9905 - val_mae: 2.5507\n",
      "Epoch 46/100\n",
      "303/303 [==============================] - ETA: 0s - loss: 5.9869 - mae: 1.578 - 1s 2ms/step - loss: 5.9949 - mae: 1.5829 - val_loss: 12.7457 - val_mae: 2.4337\n",
      "Epoch 47/100\n",
      "303/303 [==============================] - 1s 2ms/step - loss: 6.3516 - mae: 1.7022 - val_loss: 14.3481 - val_mae: 2.7238\n",
      "Epoch 48/100\n",
      "303/303 [==============================] - 1s 2ms/step - loss: 6.5485 - mae: 1.5881 - val_loss: 12.1057 - val_mae: 2.4121\n",
      "Epoch 49/100\n",
      "303/303 [==============================] - 1s 2ms/step - loss: 6.0099 - mae: 1.6205 - val_loss: 11.5732 - val_mae: 2.2964\n",
      "Epoch 50/100\n",
      "303/303 [==============================] - 1s 2ms/step - loss: 6.1843 - mae: 1.6691 - val_loss: 11.7343 - val_mae: 2.3651\n",
      "Epoch 51/100\n",
      "303/303 [==============================] - 1s 2ms/step - loss: 6.2140 - mae: 1.5745 - val_loss: 14.7620 - val_mae: 2.8298\n",
      "Epoch 52/100\n",
      "303/303 [==============================] - 1s 2ms/step - loss: 5.5682 - mae: 1.5386 - val_loss: 12.6398 - val_mae: 2.4286\n",
      "Epoch 53/100\n",
      "303/303 [==============================] - 1s 2ms/step - loss: 6.2216 - mae: 1.6669 - val_loss: 12.2185 - val_mae: 2.3366\n",
      "Epoch 54/100\n",
      "303/303 [==============================] - 1s 3ms/step - loss: 5.3391 - mae: 1.5477 - val_loss: 12.9813 - val_mae: 2.5017\n",
      "Epoch 55/100\n",
      "303/303 [==============================] - 1s 3ms/step - loss: 5.9984 - mae: 1.6413 - val_loss: 12.2848 - val_mae: 2.3914\n",
      "Epoch 56/100\n",
      "303/303 [==============================] - 1s 3ms/step - loss: 5.4573 - mae: 1.5868 - val_loss: 13.1588 - val_mae: 2.5585\n",
      "Epoch 57/100\n",
      "303/303 [==============================] - 1s 3ms/step - loss: 5.6961 - mae: 1.5569 - val_loss: 12.4828 - val_mae: 2.4598\n",
      "Epoch 58/100\n",
      "303/303 [==============================] - 1s 3ms/step - loss: 5.8892 - mae: 1.6034 - val_loss: 11.3567 - val_mae: 2.2993\n",
      "Epoch 59/100\n",
      "303/303 [==============================] - 1s 3ms/step - loss: 5.8573 - mae: 1.5824 - val_loss: 11.5951 - val_mae: 2.3638\n",
      "Epoch 60/100\n",
      "303/303 [==============================] - 1s 2ms/step - loss: 5.6427 - mae: 1.5552 - val_loss: 11.5419 - val_mae: 2.3602\n",
      "Epoch 61/100\n",
      "303/303 [==============================] - 1s 2ms/step - loss: 5.4834 - mae: 1.5767 - val_loss: 12.2213 - val_mae: 2.4683\n",
      "Epoch 62/100\n",
      "303/303 [==============================] - 1s 2ms/step - loss: 5.5379 - mae: 1.5821 - val_loss: 11.9670 - val_mae: 2.3997\n",
      "Epoch 63/100\n"
     ]
    },
    {
     "name": "stdout",
     "output_type": "stream",
     "text": [
      "303/303 [==============================] - 1s 2ms/step - loss: 5.2808 - mae: 1.5533 - val_loss: 11.3830 - val_mae: 2.3424\n",
      "Epoch 64/100\n",
      "303/303 [==============================] - 1s 2ms/step - loss: 5.4455 - mae: 1.5178 - val_loss: 11.0739 - val_mae: 2.2471\n",
      "Epoch 65/100\n",
      "303/303 [==============================] - 1s 2ms/step - loss: 5.3860 - mae: 1.5321 - val_loss: 12.6691 - val_mae: 2.5042\n",
      "Epoch 66/100\n",
      "303/303 [==============================] - 1s 2ms/step - loss: 5.4088 - mae: 1.5624 - val_loss: 12.8084 - val_mae: 2.5290\n",
      "Epoch 67/100\n",
      "303/303 [==============================] - 1s 2ms/step - loss: 5.4300 - mae: 1.4979 - val_loss: 11.6180 - val_mae: 2.3581\n",
      "Epoch 68/100\n",
      "303/303 [==============================] - 1s 2ms/step - loss: 5.4622 - mae: 1.4785 - val_loss: 13.9487 - val_mae: 2.7041\n",
      "Epoch 69/100\n",
      "303/303 [==============================] - 1s 2ms/step - loss: 5.2367 - mae: 1.5053 - val_loss: 15.0089 - val_mae: 2.7675\n",
      "Epoch 70/100\n",
      "303/303 [==============================] - 1s 2ms/step - loss: 5.1763 - mae: 1.4898 - val_loss: 11.4845 - val_mae: 2.3385\n",
      "Epoch 71/100\n",
      "303/303 [==============================] - 1s 2ms/step - loss: 5.4624 - mae: 1.5625 - val_loss: 11.7329 - val_mae: 2.3929\n",
      "Epoch 72/100\n",
      "303/303 [==============================] - 1s 2ms/step - loss: 5.0709 - mae: 1.4469 - val_loss: 13.6883 - val_mae: 2.5517\n",
      "Epoch 73/100\n",
      "303/303 [==============================] - 1s 2ms/step - loss: 5.3903 - mae: 1.4731 - val_loss: 12.4385 - val_mae: 2.4204\n",
      "Epoch 74/100\n",
      "303/303 [==============================] - 1s 2ms/step - loss: 5.3483 - mae: 1.4696 - val_loss: 11.6281 - val_mae: 2.3316\n",
      "Epoch 75/100\n",
      "303/303 [==============================] - 1s 2ms/step - loss: 4.9548 - mae: 1.4738 - val_loss: 11.9014 - val_mae: 2.4563\n",
      "Epoch 76/100\n",
      "303/303 [==============================] - 1s 2ms/step - loss: 4.6350 - mae: 1.4310 - val_loss: 12.2267 - val_mae: 2.4105\n",
      "Epoch 77/100\n",
      "303/303 [==============================] - 1s 2ms/step - loss: 4.7193 - mae: 1.4295 - val_loss: 12.6709 - val_mae: 2.4786\n",
      "Epoch 78/100\n",
      "303/303 [==============================] - 1s 2ms/step - loss: 4.8436 - mae: 1.4260 - val_loss: 14.9062 - val_mae: 2.8410\n",
      "Epoch 79/100\n",
      "303/303 [==============================] - 1s 2ms/step - loss: 4.8124 - mae: 1.5177 - val_loss: 12.5502 - val_mae: 2.4345\n",
      "Epoch 80/100\n",
      "303/303 [==============================] - 1s 2ms/step - loss: 4.7067 - mae: 1.3938 - val_loss: 13.4525 - val_mae: 2.5973\n",
      "Epoch 81/100\n",
      "303/303 [==============================] - 1s 2ms/step - loss: 4.0654 - mae: 1.3867 - val_loss: 13.3592 - val_mae: 2.5003\n",
      "Epoch 82/100\n",
      "303/303 [==============================] - 1s 2ms/step - loss: 4.4663 - mae: 1.3935 - val_loss: 14.7816 - val_mae: 2.7368\n",
      "Epoch 83/100\n",
      "303/303 [==============================] - 1s 2ms/step - loss: 4.7714 - mae: 1.4463 - val_loss: 12.7758 - val_mae: 2.4080\n",
      "Epoch 84/100\n",
      "303/303 [==============================] - 1s 2ms/step - loss: 5.0598 - mae: 1.4131 - val_loss: 13.3117 - val_mae: 2.5875\n",
      "Epoch 85/100\n",
      "303/303 [==============================] - 1s 2ms/step - loss: 4.6862 - mae: 1.4125 - val_loss: 12.4704 - val_mae: 2.4366\n",
      "Epoch 86/100\n",
      "303/303 [==============================] - 1s 2ms/step - loss: 4.4348 - mae: 1.4184 - val_loss: 13.0630 - val_mae: 2.5262\n",
      "Epoch 87/100\n",
      "303/303 [==============================] - 1s 2ms/step - loss: 4.3276 - mae: 1.3884 - val_loss: 12.4018 - val_mae: 2.5117\n",
      "Epoch 88/100\n",
      "303/303 [==============================] - 1s 2ms/step - loss: 4.5650 - mae: 1.3764 - val_loss: 13.0176 - val_mae: 2.5456\n",
      "Epoch 89/100\n",
      "303/303 [==============================] - 1s 2ms/step - loss: 4.2668 - mae: 1.3471 - val_loss: 14.9023 - val_mae: 2.7372\n",
      "Epoch 90/100\n",
      "303/303 [==============================] - 1s 2ms/step - loss: 4.3075 - mae: 1.3637 - val_loss: 12.1442 - val_mae: 2.4073\n",
      "Epoch 91/100\n",
      "303/303 [==============================] - 1s 2ms/step - loss: 4.3582 - mae: 1.3210 - val_loss: 14.1606 - val_mae: 2.6547\n",
      "Epoch 92/100\n",
      "303/303 [==============================] - 1s 2ms/step - loss: 4.4414 - mae: 1.3491 - val_loss: 11.2478 - val_mae: 2.3382\n",
      "Epoch 93/100\n",
      "303/303 [==============================] - 1s 2ms/step - loss: 4.1353 - mae: 1.3160 - val_loss: 13.1886 - val_mae: 2.5626\n",
      "Epoch 94/100\n",
      "303/303 [==============================] - 1s 2ms/step - loss: 4.1854 - mae: 1.3102 - val_loss: 12.6425 - val_mae: 2.4687\n",
      "Epoch 95/100\n",
      "303/303 [==============================] - 1s 2ms/step - loss: 4.2989 - mae: 1.3688 - val_loss: 12.5130 - val_mae: 2.4576\n",
      "Epoch 96/100\n",
      "303/303 [==============================] - 1s 2ms/step - loss: 4.3158 - mae: 1.3631 - val_loss: 12.7602 - val_mae: 2.5124\n",
      "Epoch 97/100\n",
      "303/303 [==============================] - 1s 2ms/step - loss: 4.2483 - mae: 1.3694 - val_loss: 14.2022 - val_mae: 2.7168\n",
      "Epoch 98/100\n",
      "303/303 [==============================] - 1s 2ms/step - loss: 4.0238 - mae: 1.3503 - val_loss: 14.8858 - val_mae: 2.7269\n",
      "Epoch 99/100\n",
      "303/303 [==============================] - 1s 2ms/step - loss: 3.9716 - mae: 1.3352 - val_loss: 14.3009 - val_mae: 2.7724\n",
      "Epoch 100/100\n",
      "303/303 [==============================] - 1s 2ms/step - loss: 4.2519 - mae: 1.3462 - val_loss: 11.9013 - val_mae: 2.4296\n"
     ]
    }
   ],
   "source": [
    "all_scores, mae_history = cross_validation(x_train, y_train)"
   ]
  },
  {
   "cell_type": "markdown",
   "metadata": {
    "cell_id": "00016-6e12b02f-0594-4a78-95fc-3982f8b3b312",
    "deepnote_cell_type": "markdown",
    "id": "tfaS8ZdA6nwz"
   },
   "source": [
    "## Exercise 5: Score and average"
   ]
  },
  {
   "cell_type": "code",
   "execution_count": 12,
   "metadata": {
    "cell_id": "00017-a4a54260-bfb6-4b90-a74f-4ddd06d01d7c",
    "colab": {
     "base_uri": "https://localhost:8080/"
    },
    "deepnote_cell_type": "code",
    "executionInfo": {
     "elapsed": 169087,
     "status": "ok",
     "timestamp": 1612546393105,
     "user": {
      "displayName": "Mariyam CHEICK ISMAIL",
      "photoUrl": "https://lh3.googleusercontent.com/a-/AOh14GiCvJlHv4QfbNzK0KW4581eJzsV8QwaClaZBlo=s64",
      "userId": "07377962125783695304"
     },
     "user_tz": -60
    },
    "id": "fQ0MJpkP9cVf",
    "outputId": "73d6f32d-37a7-465a-a02a-fa4f74fae4dc"
   },
   "outputs": [
    {
     "name": "stdout",
     "output_type": "stream",
     "text": [
      "Scores : [2.05563784 2.4112072  2.53632569 2.42960954]\n"
     ]
    }
   ],
   "source": [
    "print(f'Scores : {all_scores}')"
   ]
  },
  {
   "cell_type": "code",
   "execution_count": 13,
   "metadata": {
    "cell_id": "00018-10075211-aad6-4193-b4ee-22908e6c09af",
    "colab": {
     "base_uri": "https://localhost:8080/"
    },
    "deepnote_cell_type": "code",
    "executionInfo": {
     "elapsed": 169089,
     "status": "ok",
     "timestamp": 1612546393114,
     "user": {
      "displayName": "Mariyam CHEICK ISMAIL",
      "photoUrl": "https://lh3.googleusercontent.com/a-/AOh14GiCvJlHv4QfbNzK0KW4581eJzsV8QwaClaZBlo=s64",
      "userId": "07377962125783695304"
     },
     "user_tz": -60
    },
    "id": "fOkodJZq9mDf",
    "outputId": "187fcae1-0197-4c24-ca23-f307f01ed5ee"
   },
   "outputs": [
    {
     "name": "stdout",
     "output_type": "stream",
     "text": [
      "Average score : 2.3581950664520264\n"
     ]
    }
   ],
   "source": [
    "print(f'Average score : {all_scores.mean()}')"
   ]
  },
  {
   "cell_type": "markdown",
   "metadata": {
    "cell_id": "00019-e4defa3e-4c1a-4e95-afc2-8ae7801b8a99",
    "deepnote_cell_type": "markdown",
    "id": "FbNSkYnb9usi"
   },
   "source": [
    "## Exercise 6: Training the mdoel a little bit longer"
   ]
  },
  {
   "cell_type": "code",
   "execution_count": 14,
   "metadata": {
    "cell_id": "00020-1cdf9014-ce9c-4811-88c0-7c5b8636e10a",
    "colab": {
     "base_uri": "https://localhost:8080/"
    },
    "deepnote_cell_type": "code",
    "executionInfo": {
     "elapsed": 758695,
     "status": "ok",
     "timestamp": 1612546982727,
     "user": {
      "displayName": "Mariyam CHEICK ISMAIL",
      "photoUrl": "https://lh3.googleusercontent.com/a-/AOh14GiCvJlHv4QfbNzK0KW4581eJzsV8QwaClaZBlo=s64",
      "userId": "07377962125783695304"
     },
     "user_tz": -60
    },
    "id": "_PcJ7BhH7Hpb",
    "outputId": "3d09e748-4056-48f8-db9f-4387f01f599c"
   },
   "outputs": [
    {
     "name": "stdout",
     "output_type": "stream",
     "text": [
      "Processing fold #1/4\n",
      "Time: 273s - MAE value: 2.4259\n",
      "Processing fold #2/4\n",
      "Time: 268s - MAE value: 3.3941\n",
      "Processing fold #3/4\n",
      "Time: 267s - MAE value: 2.6931\n",
      "Processing fold #4/4\n",
      "Time: 272s - MAE value: 2.7461\n"
     ]
    }
   ],
   "source": [
    "all_scores, mae_history = cross_validation(x_train, y_train, k = 4, epochs = 500, verbose = 0)"
   ]
  },
  {
   "cell_type": "markdown",
   "metadata": {
    "cell_id": "00021-05a5755e-8483-492b-87ae-939ea42d5606",
    "deepnote_cell_type": "markdown",
    "id": "j2f9zmLjHnTD"
   },
   "source": [
    "## Exercise 7: Average per epoch"
   ]
  },
  {
   "cell_type": "code",
   "execution_count": 15,
   "metadata": {
    "cell_id": "00022-03e84326-ac37-4965-a323-58009a9d63c9",
    "deepnote_cell_type": "code",
    "executionInfo": {
     "elapsed": 758696,
     "status": "ok",
     "timestamp": 1612546982735,
     "user": {
      "displayName": "Mariyam CHEICK ISMAIL",
      "photoUrl": "https://lh3.googleusercontent.com/a-/AOh14GiCvJlHv4QfbNzK0KW4581eJzsV8QwaClaZBlo=s64",
      "userId": "07377962125783695304"
     },
     "user_tz": -60
    },
    "id": "9Awzg31aHtXz"
   },
   "outputs": [],
   "source": [
    "val_mean_absolute_error = mae_history.mean(0)\n",
    "# print(val_mean_absolute_error)"
   ]
  },
  {
   "cell_type": "markdown",
   "metadata": {
    "cell_id": "00023-9964bca9-0a31-4923-91c5-bcb5e8e68b97",
    "deepnote_cell_type": "markdown",
    "id": "2AJd4_w7IZcP"
   },
   "source": [
    "## Exercise 8: Plot"
   ]
  },
  {
   "cell_type": "code",
   "execution_count": 16,
   "metadata": {
    "cell_id": "00024-aa649bbe-4bdd-4c63-8b2c-6518990ce716",
    "deepnote_cell_type": "code",
    "executionInfo": {
     "elapsed": 758696,
     "status": "ok",
     "timestamp": 1612546982741,
     "user": {
      "displayName": "Mariyam CHEICK ISMAIL",
      "photoUrl": "https://lh3.googleusercontent.com/a-/AOh14GiCvJlHv4QfbNzK0KW4581eJzsV8QwaClaZBlo=s64",
      "userId": "07377962125783695304"
     },
     "user_tz": -60
    },
    "id": "9WEsgdiUI2bs"
   },
   "outputs": [],
   "source": [
    "import matplotlib.pyplot as plt"
   ]
  },
  {
   "cell_type": "code",
   "execution_count": 17,
   "metadata": {
    "cell_id": "00025-8b982677-5c3b-43da-bee2-1559c9fc7309",
    "deepnote_cell_type": "code",
    "executionInfo": {
     "elapsed": 758694,
     "status": "ok",
     "timestamp": 1612546982747,
     "user": {
      "displayName": "Mariyam CHEICK ISMAIL",
      "photoUrl": "https://lh3.googleusercontent.com/a-/AOh14GiCvJlHv4QfbNzK0KW4581eJzsV8QwaClaZBlo=s64",
      "userId": "07377962125783695304"
     },
     "user_tz": -60
    },
    "id": "e93bNKxOIerY"
   },
   "outputs": [],
   "source": [
    "def plot_per_epoch_mae(y, epochs, omit = 0):\n",
    "\n",
    "  x_range = np.arange(1 + omit, epochs + 1, 1, \"int16\")\n",
    "  y = y[omit:]\n",
    "\n",
    "  plt.figure(figsize=(12, 8))\n",
    "  plt.plot(x_range, y)\n",
    "  plt.xlabel('Epochs')\n",
    "  plt.ylabel('Validation MAE')\n",
    "  plt.grid(b=True, which='major', color='#bdc3c7', linestyle=':')\n",
    "  plt.show()"
   ]
  },
  {
   "cell_type": "code",
   "execution_count": 18,
   "metadata": {
    "cell_id": "00026-820308a0-1733-42dd-b554-7e28909e9c6a",
    "colab": {
     "base_uri": "https://localhost:8080/",
     "height": 497
    },
    "deepnote_cell_type": "code",
    "executionInfo": {
     "elapsed": 758693,
     "status": "ok",
     "timestamp": 1612546982753,
     "user": {
      "displayName": "Mariyam CHEICK ISMAIL",
      "photoUrl": "https://lh3.googleusercontent.com/a-/AOh14GiCvJlHv4QfbNzK0KW4581eJzsV8QwaClaZBlo=s64",
      "userId": "07377962125783695304"
     },
     "user_tz": -60
    },
    "id": "PiLUbzeeI7KT",
    "outputId": "48dacb98-1d24-49fe-fb73-1e66eeb2acd0"
   },
   "outputs": [
    {
     "data": {
      "image/png": "[encoded data removed]",
      "text/plain": [
       "<Figure size 864x576 with 1 Axes>"
      ]
     },
     "metadata": {
      "needs_background": "light"
     },
     "output_type": "display_data"
    }
   ],
   "source": [
    "plot_per_epoch_mae(val_mean_absolute_error, epochs = 500)"
   ]
  },
  {
   "cell_type": "markdown",
   "metadata": {
    "cell_id": "00027-825843e8-dddf-4916-aa0f-fd50ebdade76",
    "deepnote_cell_type": "markdown",
    "id": "f0b6L20bJqvl"
   },
   "source": [
    "## Exercise 9: Another plot, more lisible"
   ]
  },
  {
   "cell_type": "code",
   "execution_count": 19,
   "metadata": {
    "cell_id": "00028-eedccb3b-d907-4998-9d63-4e6be7ac0f5c",
    "deepnote_cell_type": "code",
    "executionInfo": {
     "elapsed": 758692,
     "status": "ok",
     "timestamp": 1612546982757,
     "user": {
      "displayName": "Mariyam CHEICK ISMAIL",
      "photoUrl": "https://lh3.googleusercontent.com/a-/AOh14GiCvJlHv4QfbNzK0KW4581eJzsV8QwaClaZBlo=s64",
      "userId": "07377962125783695304"
     },
     "user_tz": -60
    },
    "id": "eAkWOHIMKgbA"
   },
   "outputs": [],
   "source": [
    "def exp_moving_avg(points, factor):\n",
    "  results = np.zeros(len(points))\n",
    "  results[0] = points[0]\n",
    "\n",
    "  for i in range(1, len(points)): \n",
    "    results[i] = (results[i-1] * factor) + (points[i] * (1 - factor))\n",
    "    \n",
    "  return results"
   ]
  },
  {
   "cell_type": "code",
   "execution_count": 20,
   "metadata": {
    "cell_id": "00029-338c091e-a0db-4641-9a04-aac8fe2f7bce",
    "colab": {
     "base_uri": "https://localhost:8080/",
     "height": 497
    },
    "deepnote_cell_type": "code",
    "executionInfo": {
     "elapsed": 758691,
     "status": "ok",
     "timestamp": 1612546982763,
     "user": {
      "displayName": "Mariyam CHEICK ISMAIL",
      "photoUrl": "https://lh3.googleusercontent.com/a-/AOh14GiCvJlHv4QfbNzK0KW4581eJzsV8QwaClaZBlo=s64",
      "userId": "07377962125783695304"
     },
     "user_tz": -60
    },
    "id": "UXhujL3KJ2BH",
    "outputId": "232b7f23-e974-4021-81bc-091a9ccea8bb"
   },
   "outputs": [
    {
     "data": {
      "image/png": "[encoded data removed]",
      "text/plain": [
       "<Figure size 864x576 with 1 Axes>"
      ]
     },
     "metadata": {
      "needs_background": "light"
     },
     "output_type": "display_data"
    }
   ],
   "source": [
    "# Before replacing points using an exponential moving average\n",
    "plot_per_epoch_mae(val_mean_absolute_error, epochs = 500, omit = 10)"
   ]
  },
  {
   "cell_type": "code",
   "execution_count": 21,
   "metadata": {
    "cell_id": "00030-505b3d2a-c1c0-4d0d-93e0-8a65df8299dc",
    "deepnote_cell_type": "code",
    "executionInfo": {
     "elapsed": 758688,
     "status": "ok",
     "timestamp": 1612546982767,
     "user": {
      "displayName": "Mariyam CHEICK ISMAIL",
      "photoUrl": "https://lh3.googleusercontent.com/a-/AOh14GiCvJlHv4QfbNzK0KW4581eJzsV8QwaClaZBlo=s64",
      "userId": "07377962125783695304"
     },
     "user_tz": -60
    },
    "id": "Y8cn_S_eJpir"
   },
   "outputs": [],
   "source": [
    "exp_val_mean_absolute_error = exp_moving_avg(val_mean_absolute_error, factor=0.85)"
   ]
  },
  {
   "cell_type": "code",
   "execution_count": 22,
   "metadata": {
    "cell_id": "00031-889ed189-6367-4c83-92ee-5d9d6795423b",
    "colab": {
     "base_uri": "https://localhost:8080/",
     "height": 497
    },
    "deepnote_cell_type": "code",
    "executionInfo": {
     "elapsed": 759019,
     "status": "ok",
     "timestamp": 1612546983104,
     "user": {
      "displayName": "Mariyam CHEICK ISMAIL",
      "photoUrl": "https://lh3.googleusercontent.com/a-/AOh14GiCvJlHv4QfbNzK0KW4581eJzsV8QwaClaZBlo=s64",
      "userId": "07377962125783695304"
     },
     "user_tz": -60
    },
    "id": "9nXRqaovL5i2",
    "outputId": "0d47a28f-76d2-4576-ceec-84e83a2ba91e"
   },
   "outputs": [
    {
     "data": {
      "image/png": "[encoded data removed]",
      "text/plain": [
       "<Figure size 864x576 with 1 Axes>"
      ]
     },
     "metadata": {
      "needs_background": "light"
     },
     "output_type": "display_data"
    }
   ],
   "source": [
    "plot_per_epoch_mae(exp_val_mean_absolute_error, epochs = 500, omit = 10)"
   ]
  },
  {
   "cell_type": "markdown",
   "metadata": {
    "cell_id": "00032-7d908121-729f-48d1-b631-3d66bd11d474",
    "deepnote_cell_type": "markdown",
    "id": "VAkrJ4QXMv4Z"
   },
   "source": [
    "## Exercise 10: Tuning parameters of the model"
   ]
  },
  {
   "cell_type": "code",
   "execution_count": 23,
   "metadata": {
    "cell_id": "00033-7c1e68eb-c986-4e1e-b87c-7f7e04f81c1e",
    "colab": {
     "base_uri": "https://localhost:8080/"
    },
    "deepnote_cell_type": "code",
    "executionInfo": {
     "elapsed": 605295,
     "status": "ok",
     "timestamp": 1612549493420,
     "user": {
      "displayName": "Mariyam CHEICK ISMAIL",
      "photoUrl": "https://lh3.googleusercontent.com/a-/AOh14GiCvJlHv4QfbNzK0KW4581eJzsV8QwaClaZBlo=s64",
      "userId": "07377962125783695304"
     },
     "user_tz": -60
    },
    "id": "072PUhomN1_7",
    "outputId": "678ce947-c9a8-4064-fec6-a96fe2f8e9d4"
   },
   "outputs": [
    {
     "name": "stdout",
     "output_type": "stream",
     "text": [
      "Number of units per hidden layers: 8\n",
      "-------------------------\n",
      "Processing fold #1/4\n",
      "Time: 55s - MAE value: 2.2324\n",
      "Processing fold #2/4\n",
      "Time: 54s - MAE value: 2.6618\n",
      "Processing fold #3/4\n",
      "Time: 56s - MAE value: 2.7494\n",
      "Processing fold #4/4\n",
      "Time: 53s - MAE value: 2.8024\n",
      "Number of units per hidden layers: 16\n",
      "-------------------------\n",
      "Processing fold #1/4\n",
      "Time: 55s - MAE value: 1.8588\n",
      "Processing fold #2/4\n",
      "Time: 57s - MAE value: 2.473\n",
      "Processing fold #3/4\n",
      "Time: 62s - MAE value: 2.7503\n",
      "Processing fold #4/4\n",
      "Time: 65s - MAE value: 2.5578\n",
      "Number of units per hidden layers: 32\n",
      "-------------------------\n",
      "Processing fold #1/4\n",
      "Time: 62s - MAE value: 1.7308\n",
      "Processing fold #2/4\n",
      "Time: 59s - MAE value: 2.4012\n",
      "Processing fold #3/4\n",
      "Time: 57s - MAE value: 2.7718\n",
      "Processing fold #4/4\n",
      "Time: 53s - MAE value: 2.5692\n",
      "Number of units per hidden layers: 64\n",
      "-------------------------\n",
      "Processing fold #1/4\n",
      "Time: 55s - MAE value: 2.1106\n",
      "Processing fold #2/4\n",
      "Time: 56s - MAE value: 2.651\n",
      "Processing fold #3/4\n",
      "Time: 60s - MAE value: 2.5621\n",
      "Processing fold #4/4\n",
      "Time: 57s - MAE value: 3.167\n",
      "Number of units per hidden layers: 128\n",
      "-------------------------\n",
      "Processing fold #1/4\n",
      "Time: 53s - MAE value: 2.1413\n",
      "Processing fold #2/4\n",
      "Time: 54s - MAE value: 2.7271\n",
      "Processing fold #3/4\n",
      "Time: 54s - MAE value: 2.7883\n",
      "Processing fold #4/4\n",
      "Time: 56s - MAE value: 2.614\n"
     ]
    }
   ],
   "source": [
    "hidden_layer_units = 2 ** np.arange(3, 8)\n",
    "scores = []\n",
    "\n",
    "for i in hidden_layer_units:\n",
    "  print(f'Number of units per hidden layers: {i}')\n",
    "  print(f'-'*25)\n",
    "\n",
    "  all_scores, mae_history = cross_validation(x_train, y_train, k = 4, epochs = 100, units_per_hidden_layers = i, verbose=0)\n",
    "  scores.append(all_scores.mean())\n"
   ]
  },
  {
   "cell_type": "code",
   "execution_count": 24,
   "metadata": {
    "cell_id": "00034-3fbfc968-6bf3-44d7-aaf5-e4543427631b",
    "colab": {
     "base_uri": "https://localhost:8080/",
     "height": 497
    },
    "deepnote_cell_type": "code",
    "executionInfo": {
     "elapsed": 954,
     "status": "ok",
     "timestamp": 1612549774144,
     "user": {
      "displayName": "Mariyam CHEICK ISMAIL",
      "photoUrl": "https://lh3.googleusercontent.com/a-/AOh14GiCvJlHv4QfbNzK0KW4581eJzsV8QwaClaZBlo=s64",
      "userId": "07377962125783695304"
     },
     "user_tz": -60
    },
    "id": "BEGVvAE0XRkl",
    "outputId": "6403d220-6c6d-4829-97bd-1e6e346a4637"
   },
   "outputs": [
    {
     "data": {
      "image/png": "[encoded data removed]",
      "text/plain": [
       "<Figure size 864x576 with 1 Axes>"
      ]
     },
     "metadata": {
      "needs_background": "light"
     },
     "output_type": "display_data"
    }
   ],
   "source": [
    "plt.figure(figsize=(12, 8))\n",
    "plt.plot(hidden_layer_units, scores, linestyle='dashed', marker='o')\n",
    "plt.xlabel('Number of units per hidden layer')\n",
    "plt.ylabel('Validation MAE')\n",
    "plt.grid(b=True, which='major', color='#bdc3c7', linestyle='--')\n",
    "plt.show()"
   ]
  },
  {
   "cell_type": "code",
   "execution_count": 28,
   "metadata": {
    "cell_id": "00035-c1422c28-3259-45b8-a90e-11e66c4a454e",
    "deepnote_cell_type": "code",
    "executionInfo": {
     "elapsed": 521,
     "status": "ok",
     "timestamp": 1612549974373,
     "user": {
      "displayName": "Mariyam CHEICK ISMAIL",
      "photoUrl": "https://lh3.googleusercontent.com/a-/AOh14GiCvJlHv4QfbNzK0KW4581eJzsV8QwaClaZBlo=s64",
      "userId": "07377962125783695304"
     },
     "user_tz": -60
    },
    "id": "EZ9LRo70d792"
   },
   "outputs": [],
   "source": [
    "final_model = build_model(32)"
   ]
  },
  {
   "cell_type": "code",
   "execution_count": 29,
   "metadata": {
    "cell_id": "00036-d1e93d11-96b7-48b3-acac-3183cab0a274",
    "colab": {
     "base_uri": "https://localhost:8080/"
    },
    "deepnote_cell_type": "code",
    "executionInfo": {
     "elapsed": 3417,
     "status": "ok",
     "timestamp": 1612549993369,
     "user": {
      "displayName": "Mariyam CHEICK ISMAIL",
      "photoUrl": "https://lh3.googleusercontent.com/a-/AOh14GiCvJlHv4QfbNzK0KW4581eJzsV8QwaClaZBlo=s64",
      "userId": "07377962125783695304"
     },
     "user_tz": -60
    },
    "id": "b8En1O21eATm",
    "outputId": "39ebf7c5-58bf-4d62-9327-459a639dfb26"
   },
   "outputs": [
    {
     "name": "stdout",
     "output_type": "stream",
     "text": [
      "Epoch 1/100\n",
      "13/13 [==============================] - 0s 2ms/step - loss: 550.7700 - mae: 21.6725\n",
      "Epoch 2/100\n",
      "13/13 [==============================] - 0s 2ms/step - loss: 507.8319 - mae: 20.7077\n",
      "Epoch 3/100\n",
      "13/13 [==============================] - 0s 2ms/step - loss: 463.1447 - mae: 19.6640\n",
      "Epoch 4/100\n",
      "13/13 [==============================] - 0s 2ms/step - loss: 413.3484 - mae: 18.4297\n",
      "Epoch 5/100\n",
      "13/13 [==============================] - 0s 2ms/step - loss: 359.2766 - mae: 16.9744\n",
      "Epoch 6/100\n",
      "13/13 [==============================] - 0s 2ms/step - loss: 302.7018 - mae: 15.2977\n",
      "Epoch 7/100\n",
      "13/13 [==============================] - 0s 2ms/step - loss: 244.9241 - mae: 13.4392\n",
      "Epoch 8/100\n",
      "13/13 [==============================] - 0s 2ms/step - loss: 190.2303 - mae: 11.4027\n",
      "Epoch 9/100\n",
      "13/13 [==============================] - 0s 2ms/step - loss: 143.3972 - mae: 9.4192\n",
      "Epoch 10/100\n",
      "13/13 [==============================] - 0s 2ms/step - loss: 106.6631 - mae: 7.7816\n",
      "Epoch 11/100\n",
      "13/13 [==============================] - 0s 2ms/step - loss: 80.3699 - mae: 6.6173\n",
      "Epoch 12/100\n",
      "13/13 [==============================] - 0s 2ms/step - loss: 62.9581 - mae: 5.8418\n",
      "Epoch 13/100\n",
      "13/13 [==============================] - 0s 2ms/step - loss: 51.6080 - mae: 5.2848\n",
      "Epoch 14/100\n",
      "13/13 [==============================] - 0s 2ms/step - loss: 43.7552 - mae: 4.8679\n",
      "Epoch 15/100\n",
      "13/13 [==============================] - 0s 2ms/step - loss: 38.3108 - mae: 4.5189\n",
      "Epoch 16/100\n",
      "13/13 [==============================] - 0s 2ms/step - loss: 34.2516 - mae: 4.2278\n",
      "Epoch 17/100\n",
      "13/13 [==============================] - 0s 2ms/step - loss: 31.3639 - mae: 4.0641\n",
      "Epoch 18/100\n",
      "13/13 [==============================] - 0s 2ms/step - loss: 29.2252 - mae: 3.9045\n",
      "Epoch 19/100\n",
      "13/13 [==============================] - 0s 2ms/step - loss: 27.4051 - mae: 3.7903\n",
      "Epoch 20/100\n",
      "13/13 [==============================] - 0s 2ms/step - loss: 26.2025 - mae: 3.7237\n",
      "Epoch 21/100\n",
      "13/13 [==============================] - 0s 2ms/step - loss: 25.0386 - mae: 3.5788\n",
      "Epoch 22/100\n",
      "13/13 [==============================] - 0s 2ms/step - loss: 24.0348 - mae: 3.5679\n",
      "Epoch 23/100\n",
      "13/13 [==============================] - 0s 1ms/step - loss: 23.1958 - mae: 3.4599\n",
      "Epoch 24/100\n",
      "13/13 [==============================] - 0s 1ms/step - loss: 22.2573 - mae: 3.3947\n",
      "Epoch 25/100\n",
      "13/13 [==============================] - 0s 2ms/step - loss: 21.5096 - mae: 3.3762\n",
      "Epoch 26/100\n",
      "13/13 [==============================] - 0s 2ms/step - loss: 20.7104 - mae: 3.2894\n",
      "Epoch 27/100\n",
      "13/13 [==============================] - 0s 1ms/step - loss: 20.2153 - mae: 3.2310\n",
      "Epoch 28/100\n",
      "13/13 [==============================] - 0s 1ms/step - loss: 19.4868 - mae: 3.1845\n",
      "Epoch 29/100\n",
      "13/13 [==============================] - 0s 2ms/step - loss: 18.8610 - mae: 3.1279\n",
      "Epoch 30/100\n",
      "13/13 [==============================] - 0s 2ms/step - loss: 18.3303 - mae: 3.0918\n",
      "Epoch 31/100\n",
      "13/13 [==============================] - 0s 2ms/step - loss: 17.7157 - mae: 3.0352\n",
      "Epoch 32/100\n",
      "13/13 [==============================] - 0s 2ms/step - loss: 17.3409 - mae: 2.9868\n",
      "Epoch 33/100\n",
      "13/13 [==============================] - 0s 2ms/step - loss: 16.9483 - mae: 2.9750\n",
      "Epoch 34/100\n",
      "13/13 [==============================] - 0s 2ms/step - loss: 16.4023 - mae: 2.9391\n",
      "Epoch 35/100\n",
      "13/13 [==============================] - 0s 2ms/step - loss: 15.9594 - mae: 2.8716\n",
      "Epoch 36/100\n",
      "13/13 [==============================] - 0s 2ms/step - loss: 15.5891 - mae: 2.8481\n",
      "Epoch 37/100\n",
      "13/13 [==============================] - 0s 2ms/step - loss: 15.1431 - mae: 2.7943\n",
      "Epoch 38/100\n",
      "13/13 [==============================] - 0s 2ms/step - loss: 14.8835 - mae: 2.7770\n",
      "Epoch 39/100\n",
      "13/13 [==============================] - 0s 2ms/step - loss: 14.3248 - mae: 2.7345\n",
      "Epoch 40/100\n",
      "13/13 [==============================] - 0s 2ms/step - loss: 14.2311 - mae: 2.6858\n",
      "Epoch 41/100\n",
      "13/13 [==============================] - 0s 2ms/step - loss: 13.8201 - mae: 2.6649\n",
      "Epoch 42/100\n",
      "13/13 [==============================] - 0s 2ms/step - loss: 13.4795 - mae: 2.6344\n",
      "Epoch 43/100\n",
      "13/13 [==============================] - 0s 2ms/step - loss: 13.2449 - mae: 2.6215\n",
      "Epoch 44/100\n",
      "13/13 [==============================] - 0s 2ms/step - loss: 12.9942 - mae: 2.5850\n",
      "Epoch 45/100\n",
      "13/13 [==============================] - 0s 2ms/step - loss: 12.5778 - mae: 2.5691\n",
      "Epoch 46/100\n",
      "13/13 [==============================] - 0s 2ms/step - loss: 12.4962 - mae: 2.5230\n",
      "Epoch 47/100\n",
      "13/13 [==============================] - 0s 2ms/step - loss: 12.2493 - mae: 2.5238\n",
      "Epoch 48/100\n",
      "13/13 [==============================] - 0s 2ms/step - loss: 11.9509 - mae: 2.4732\n",
      "Epoch 49/100\n",
      "13/13 [==============================] - 0s 2ms/step - loss: 11.7638 - mae: 2.4571\n",
      "Epoch 50/100\n",
      "13/13 [==============================] - 0s 2ms/step - loss: 11.5087 - mae: 2.4415\n",
      "Epoch 51/100\n",
      "13/13 [==============================] - 0s 2ms/step - loss: 11.2413 - mae: 2.3769\n",
      "Epoch 52/100\n",
      "13/13 [==============================] - 0s 2ms/step - loss: 11.2495 - mae: 2.4184\n",
      "Epoch 53/100\n",
      "13/13 [==============================] - 0s 2ms/step - loss: 11.0442 - mae: 2.3846\n",
      "Epoch 54/100\n",
      "13/13 [==============================] - 0s 2ms/step - loss: 10.8669 - mae: 2.3748\n",
      "Epoch 55/100\n",
      "13/13 [==============================] - 0s 2ms/step - loss: 10.7396 - mae: 2.3509\n",
      "Epoch 56/100\n",
      "13/13 [==============================] - 0s 1ms/step - loss: 10.5357 - mae: 2.3302\n",
      "Epoch 57/100\n",
      "13/13 [==============================] - 0s 2ms/step - loss: 10.4127 - mae: 2.3046\n",
      "Epoch 58/100\n",
      "13/13 [==============================] - 0s 1ms/step - loss: 10.2270 - mae: 2.3190\n",
      "Epoch 59/100\n",
      "13/13 [==============================] - 0s 2ms/step - loss: 10.2674 - mae: 2.2984\n",
      "Epoch 60/100\n",
      "13/13 [==============================] - 0s 2ms/step - loss: 10.0595 - mae: 2.2794\n",
      "Epoch 61/100\n",
      "13/13 [==============================] - 0s 2ms/step - loss: 10.0903 - mae: 2.2762\n",
      "Epoch 62/100\n",
      "13/13 [==============================] - 0s 2ms/step - loss: 9.9172 - mae: 2.2708\n",
      "Epoch 63/100\n",
      "13/13 [==============================] - 0s 1ms/step - loss: 9.7215 - mae: 2.2379\n",
      "Epoch 64/100\n",
      "13/13 [==============================] - 0s 2ms/step - loss: 9.7415 - mae: 2.2474\n",
      "Epoch 65/100\n",
      "13/13 [==============================] - 0s 1ms/step - loss: 9.6161 - mae: 2.2267\n",
      "Epoch 66/100\n",
      "13/13 [==============================] - 0s 2ms/step - loss: 9.5383 - mae: 2.2209\n",
      "Epoch 67/100\n",
      "13/13 [==============================] - 0s 1ms/step - loss: 9.5619 - mae: 2.2170\n",
      "Epoch 68/100\n",
      "13/13 [==============================] - 0s 1ms/step - loss: 9.4074 - mae: 2.2113\n",
      "Epoch 69/100\n",
      "13/13 [==============================] - 0s 1ms/step - loss: 9.3644 - mae: 2.2120\n",
      "Epoch 70/100\n",
      "13/13 [==============================] - 0s 1ms/step - loss: 9.2390 - mae: 2.1858\n",
      "Epoch 71/100\n",
      "13/13 [==============================] - 0s 1ms/step - loss: 9.1879 - mae: 2.1696\n",
      "Epoch 72/100\n",
      "13/13 [==============================] - 0s 1ms/step - loss: 9.2295 - mae: 2.1739\n",
      "Epoch 73/100\n",
      "13/13 [==============================] - 0s 2ms/step - loss: 9.0716 - mae: 2.1763\n",
      "Epoch 74/100\n",
      "13/13 [==============================] - 0s 1ms/step - loss: 9.0057 - mae: 2.1730\n",
      "Epoch 75/100\n",
      "13/13 [==============================] - 0s 2ms/step - loss: 8.9145 - mae: 2.1337\n",
      "Epoch 76/100\n",
      "13/13 [==============================] - 0s 2ms/step - loss: 8.9233 - mae: 2.1529\n",
      "Epoch 77/100\n",
      "13/13 [==============================] - 0s 2ms/step - loss: 8.8918 - mae: 2.1545\n",
      "Epoch 78/100\n",
      "13/13 [==============================] - 0s 2ms/step - loss: 8.7734 - mae: 2.1402\n",
      "Epoch 79/100\n",
      "13/13 [==============================] - 0s 2ms/step - loss: 8.7824 - mae: 2.1279\n",
      "Epoch 80/100\n",
      "13/13 [==============================] - 0s 1ms/step - loss: 8.7601 - mae: 2.1215\n",
      "Epoch 81/100\n",
      "13/13 [==============================] - 0s 2ms/step - loss: 8.5877 - mae: 2.0957\n",
      "Epoch 82/100\n",
      "13/13 [==============================] - 0s 1ms/step - loss: 8.5184 - mae: 2.1106\n",
      "Epoch 83/100\n",
      "13/13 [==============================] - 0s 1ms/step - loss: 8.5696 - mae: 2.1064\n",
      "Epoch 84/100\n",
      "13/13 [==============================] - 0s 2ms/step - loss: 8.5146 - mae: 2.1001\n",
      "Epoch 85/100\n",
      "13/13 [==============================] - 0s 1ms/step - loss: 8.4358 - mae: 2.0718\n",
      "Epoch 86/100\n"
     ]
    },
    {
     "name": "stdout",
     "output_type": "stream",
     "text": [
      "13/13 [==============================] - 0s 1ms/step - loss: 8.4082 - mae: 2.0949\n",
      "Epoch 87/100\n",
      "13/13 [==============================] - 0s 1ms/step - loss: 8.4155 - mae: 2.0616\n",
      "Epoch 88/100\n",
      "13/13 [==============================] - 0s 1ms/step - loss: 8.3387 - mae: 2.0905\n",
      "Epoch 89/100\n",
      "13/13 [==============================] - 0s 1ms/step - loss: 8.2207 - mae: 2.0564\n",
      "Epoch 90/100\n",
      "13/13 [==============================] - 0s 1ms/step - loss: 8.2789 - mae: 2.0733\n",
      "Epoch 91/100\n",
      "13/13 [==============================] - 0s 1ms/step - loss: 8.1526 - mae: 2.0544\n",
      "Epoch 92/100\n",
      "13/13 [==============================] - 0s 2ms/step - loss: 8.1320 - mae: 2.0386\n",
      "Epoch 93/100\n",
      "13/13 [==============================] - 0s 1ms/step - loss: 8.0263 - mae: 2.0501\n",
      "Epoch 94/100\n",
      "13/13 [==============================] - 0s 1ms/step - loss: 7.9851 - mae: 2.0489\n",
      "Epoch 95/100\n",
      "13/13 [==============================] - 0s 1ms/step - loss: 7.9896 - mae: 2.0282\n",
      "Epoch 96/100\n",
      "13/13 [==============================] - 0s 1ms/step - loss: 7.9270 - mae: 2.0243\n",
      "Epoch 97/100\n",
      "13/13 [==============================] - 0s 1ms/step - loss: 8.0013 - mae: 2.0213\n",
      "Epoch 98/100\n",
      "13/13 [==============================] - 0s 2ms/step - loss: 7.7860 - mae: 2.0091\n",
      "Epoch 99/100\n",
      "13/13 [==============================] - 0s 1ms/step - loss: 7.9304 - mae: 2.0307\n",
      "Epoch 100/100\n",
      "13/13 [==============================] - 0s 1ms/step - loss: 7.8104 - mae: 2.0074\n"
     ]
    },
    {
     "data": {
      "text/plain": [
       "<tensorflow.python.keras.callbacks.History at 0x1e06a43d7c0>"
      ]
     },
     "execution_count": 29,
     "metadata": {},
     "output_type": "execute_result"
    }
   ],
   "source": [
    "final_model.fit(x_train, y_train, epochs=100)"
   ]
  },
  {
   "cell_type": "code",
   "execution_count": 30,
   "metadata": {
    "cell_id": "00037-fe8a152e-cfc8-4787-937e-8fd6c3141e55",
    "colab": {
     "base_uri": "https://localhost:8080/"
    },
    "deepnote_cell_type": "code",
    "executionInfo": {
     "elapsed": 517,
     "status": "ok",
     "timestamp": 1612550029509,
     "user": {
      "displayName": "Mariyam CHEICK ISMAIL",
      "photoUrl": "https://lh3.googleusercontent.com/a-/AOh14GiCvJlHv4QfbNzK0KW4581eJzsV8QwaClaZBlo=s64",
      "userId": "07377962125783695304"
     },
     "user_tz": -60
    },
    "id": "72ExqvXleI6A",
    "outputId": "f31fa498-b53c-4dd9-cc9d-2ba7aa763437"
   },
   "outputs": [
    {
     "name": "stdout",
     "output_type": "stream",
     "text": [
      "MSE: 17.482513427734375 - MAE: 2.748940944671631\n"
     ]
    }
   ],
   "source": [
    "# testing the model with the training data\n",
    "val_mse, val_mae = final_model.evaluate(x_test, y_test, verbose=0)\n",
    "print(f'MSE: {val_mse} - MAE: {val_mae}')"
   ]
  },
  {
   "cell_type": "markdown",
   "metadata": {
    "created_in_deepnote_cell": true,
    "deepnote_cell_type": "markdown",
    "tags": []
   },
   "source": [
    "<a style='text-decoration:none;line-height:16px;display:flex;color:#5B5B62;padding:10px;justify-content:end;' href='https://deepnote.com?utm_source=created-in-deepnote-cell&projectId=62eda4a8-d26a-4a56-8c6c-5473bb99037f' target=\"_blank\">\n",
    "<img style='display:inline;max-height:16px;margin:0px;margin-right:7.5px;' src='data:image/svg+xml;base64,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' > </img>\n",
    "Created in <span style='font-weight:600;margin-left:4px;'>Deepnote</span></a>"
   ]
  }
 ],
 "metadata": {
  "colab": {
   "collapsed_sections": [],
   "name": "Regularization.ipynb",
   "provenance": []
  },
  "deepnote": {},
  "deepnote_execution_queue": [],
  "deepnote_notebook_id": "d9dbaa79-7ca6-40b7-bb6b-62de6f44866c",
  "kernelspec": {
   "display_name": "Python 3",
   "language": "python",
   "name": "python3"
  },
  "language_info": {
   "codemirror_mode": {
    "name": "ipython",
    "version": 3
   },
   "file_extension": ".py",
   "mimetype": "text/x-python",
   "name": "python",
   "nbconvert_exporter": "python",
   "pygments_lexer": "ipython3",
   "version": "3.8.4"
  }
 },
 "nbformat": 4,
 "nbformat_minor": 1
}
