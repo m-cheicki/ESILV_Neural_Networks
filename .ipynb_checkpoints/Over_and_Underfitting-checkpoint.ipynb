{
 "cells": [
  {
   "cell_type": "markdown",
   "metadata": {
    "cell_id": "00000-e9547404-874f-4cd2-9a6e-b1fc54ec577c",
    "deepnote_cell_type": "markdown",
    "tags": []
   },
   "source": [
    "# Overfitting and Underfitting"
   ]
  },
  {
   "cell_type": "markdown",
   "metadata": {
    "cell_id": "00001-e8f03442-d869-4b0e-ade3-7856c4cddd8b",
    "deepnote_cell_type": "markdown",
    "tags": []
   },
   "source": [
    "## Exercise 1 : Load dataset"
   ]
  },
  {
   "cell_type": "code",
   "execution_count": 1,
   "metadata": {
    "cell_id": "00000-4c72a8c2-765b-439d-b24b-407f71de4a4f",
    "deepnote_cell_type": "code",
    "deepnote_to_be_reexecuted": false,
    "execution_millis": 1915,
    "execution_start": 1612475691407,
    "source_hash": "65cef491",
    "tags": []
   },
   "outputs": [],
   "source": [
    "import tensorflow as tf\n",
    "from tensorflow import keras\n",
    "from tensorflow.keras import datasets"
   ]
  },
  {
   "cell_type": "code",
   "execution_count": 2,
   "metadata": {
    "cell_id": "00003-b46c472d-a1f7-4fe5-8f4d-50631dac209f",
    "deepnote_cell_type": "code",
    "deepnote_to_be_reexecuted": false,
    "execution_millis": 5316,
    "execution_start": 1612475695959,
    "source_hash": "12f42731",
    "tags": []
   },
   "outputs": [],
   "source": [
    "(x_train, y_train), (x_test, y_test) = datasets.imdb.load_data(num_words=1000)\n"
   ]
  },
  {
   "cell_type": "code",
   "execution_count": 3,
   "metadata": {
    "cell_id": "00004-51b60588-db99-4791-ac90-7fb53a718893",
    "deepnote_cell_type": "code",
    "deepnote_to_be_reexecuted": false,
    "execution_millis": 6,
    "execution_start": 1612475703718,
    "source_hash": "8a72d5e9",
    "tags": []
   },
   "outputs": [
    {
     "data": {
      "text/plain": [
       "(((25000,), (25000,)), ((25000,), (25000,)))"
      ]
     },
     "execution_count": 3,
     "metadata": {},
     "output_type": "execute_result"
    }
   ],
   "source": [
    "(x_train.shape, y_train.shape), (x_test.shape, y_test.shape)"
   ]
  },
  {
   "cell_type": "markdown",
   "metadata": {
    "cell_id": "00005-fc8dc92f-1c4b-455a-aa64-f14b850c10fe",
    "deepnote_cell_type": "markdown",
    "tags": []
   },
   "source": [
    "We have 25,000 training values and 25,000 testing values. In total, we have 50,000 rows in our dataset"
   ]
  },
  {
   "cell_type": "markdown",
   "metadata": {
    "cell_id": "00006-fddb770d-8438-444c-9a1a-99430198a243",
    "deepnote_cell_type": "markdown",
    "tags": []
   },
   "source": [
    "## Exercise 2 : Preparing the data"
   ]
  },
  {
   "cell_type": "code",
   "execution_count": 4,
   "metadata": {
    "cell_id": "00007-4641e804-dc6d-4368-9ad3-6fe90b181905",
    "deepnote_cell_type": "code",
    "deepnote_to_be_reexecuted": false,
    "execution_millis": 0,
    "execution_start": 1612475714672,
    "source_hash": "c2602aa8",
    "tags": []
   },
   "outputs": [],
   "source": [
    "import numpy as np"
   ]
  },
  {
   "cell_type": "code",
   "execution_count": 5,
   "metadata": {
    "cell_id": "00006-7368b440-7e9e-4491-9edf-408ccf34f97e",
    "deepnote_cell_type": "code",
    "deepnote_to_be_reexecuted": false,
    "execution_millis": 0,
    "execution_start": 1612475718021,
    "source_hash": "764c09d4",
    "tags": []
   },
   "outputs": [],
   "source": [
    "def vectorize_sequences(sequences, dimension = 10000) :\n",
    "    results = np.zeros((len(sequences), dimension))\n",
    "    for i, sequence in enumerate(sequences):\n",
    "        results[i, sequence] = 1\n",
    "    return results"
   ]
  },
  {
   "cell_type": "code",
   "execution_count": 6,
   "metadata": {
    "cell_id": "00008-13dd3b4a-ae2a-49af-b174-17d70926d983",
    "deepnote_cell_type": "code",
    "deepnote_to_be_reexecuted": false,
    "execution_millis": 1255,
    "execution_start": 1612475723219,
    "source_hash": "a3f2ca88",
    "tags": []
   },
   "outputs": [],
   "source": [
    "x_train = vectorize_sequences(x_train)\n",
    "x_test = vectorize_sequences(x_test)\n",
    "y_train = np.asarray(y_train).astype('float32')\n",
    "y_test = np.asarray(y_test).astype('float32')"
   ]
  },
  {
   "cell_type": "code",
   "execution_count": 7,
   "metadata": {
    "cell_id": "00010-ab755f6f-1b30-447b-808c-1ecfeb6816b0",
    "deepnote_cell_type": "code",
    "deepnote_to_be_reexecuted": false,
    "execution_millis": 6,
    "execution_start": 1612475726711,
    "source_hash": "8a72d5e9",
    "tags": []
   },
   "outputs": [
    {
     "data": {
      "text/plain": [
       "(((25000, 10000), (25000,)), ((25000, 10000), (25000,)))"
      ]
     },
     "execution_count": 7,
     "metadata": {},
     "output_type": "execute_result"
    }
   ],
   "source": [
    "(x_train.shape, y_train.shape), (x_test.shape, y_test.shape)"
   ]
  },
  {
   "cell_type": "markdown",
   "metadata": {
    "cell_id": "00011-d5a329de-f835-41a0-b74e-111bff2c5775",
    "deepnote_cell_type": "markdown",
    "tags": []
   },
   "source": [
    "Our training set and testing set have 25,000 rows and 10,000 columns."
   ]
  },
  {
   "cell_type": "markdown",
   "metadata": {
    "cell_id": "00014-a85f3d64-ea22-4060-b1e9-8d4624604507",
    "deepnote_cell_type": "markdown",
    "tags": []
   },
   "source": [
    "## Exercise 3 : Reducing the network size"
   ]
  },
  {
   "cell_type": "code",
   "execution_count": 8,
   "metadata": {
    "cell_id": "00016-6cc4528b-0bec-4ef9-a585-76e96af97457",
    "deepnote_cell_type": "code",
    "deepnote_to_be_reexecuted": false,
    "execution_millis": 51,
    "execution_start": 1612475732390,
    "source_hash": "9bdbcabc",
    "tags": []
   },
   "outputs": [],
   "source": [
    "import tensorflow as tf\n",
    "from tensorflow import keras\n",
    "from tensorflow.keras.models import Sequential\n",
    "from tensorflow.keras.layers import Dense, Dropout"
   ]
  },
  {
   "cell_type": "code",
   "execution_count": 9,
   "metadata": {
    "cell_id": "00015-58b3c321-ffe4-4b0c-8504-a09d988d205c",
    "deepnote_cell_type": "code",
    "deepnote_to_be_reexecuted": false,
    "execution_millis": 19,
    "execution_start": 1612475735830,
    "source_hash": "6ba92eb2",
    "tags": []
   },
   "outputs": [],
   "source": [
    "original_model = Sequential()\n",
    "original_model.add(Dense(16, activation='relu'))\n",
    "original_model.add(Dense(16, activation='relu'))\n",
    "original_model.add(Dense(1, activation='sigmoid'))\n",
    "original_model.compile(optimizer='rmsprop', loss='binary_crossentropy', metrics=['acc'])"
   ]
  },
  {
   "cell_type": "markdown",
   "metadata": {
    "cell_id": "00018-f9ac18ab-1ad4-426e-9b3f-5148c7bcd3bd",
    "deepnote_cell_type": "markdown",
    "tags": []
   },
   "source": [
    "## Exercise 4 : Smaller model"
   ]
  },
  {
   "cell_type": "code",
   "execution_count": 10,
   "metadata": {
    "cell_id": "00019-88f7d481-b79e-48fc-95e7-6f6a3e7e0c09",
    "deepnote_cell_type": "code",
    "deepnote_to_be_reexecuted": false,
    "execution_millis": 1,
    "execution_start": 1612475738935,
    "source_hash": "52575602",
    "tags": []
   },
   "outputs": [],
   "source": [
    "smaller_model = Sequential()\n",
    "smaller_model.add(Dense(4, activation='relu'))\n",
    "smaller_model.add(Dense(4, activation='relu'))\n",
    "smaller_model.add(Dense(1, activation='sigmoid'))\n",
    "smaller_model.compile(optimizer='rmsprop', loss='binary_crossentropy', metrics=['acc'])"
   ]
  },
  {
   "cell_type": "markdown",
   "metadata": {
    "cell_id": "00019-85815ade-9858-4a11-9293-a59a32806da5",
    "deepnote_cell_type": "markdown",
    "tags": []
   },
   "source": [
    "## Exercise 5 : Fit the original model"
   ]
  },
  {
   "cell_type": "code",
   "execution_count": 11,
   "metadata": {
    "cell_id": "00020-a85d3028-fc9b-4d10-a820-3f96136646a0",
    "deepnote_cell_type": "code",
    "deepnote_to_be_reexecuted": false,
    "execution_millis": 33984,
    "execution_start": 1612475742960,
    "source_hash": "2261e9a6",
    "tags": []
   },
   "outputs": [
    {
     "name": "stdout",
     "output_type": "stream",
     "text": [
      "Epoch 1/20\n",
      "49/49 [==============================] - 5s 98ms/step - loss: 0.4969 - acc: 0.7856 - val_loss: 0.3965 - val_acc: 0.8404\n",
      "Epoch 2/20\n",
      "49/49 [==============================] - 2s 31ms/step - loss: 0.3577 - acc: 0.8571 - val_loss: 0.3362 - val_acc: 0.8615\n",
      "Epoch 3/20\n",
      "49/49 [==============================] - 2s 34ms/step - loss: 0.3263 - acc: 0.8669 - val_loss: 0.3423 - val_acc: 0.8547\n",
      "Epoch 4/20\n",
      "49/49 [==============================] - 2s 34ms/step - loss: 0.3166 - acc: 0.8686 - val_loss: 0.3242 - val_acc: 0.8618\n",
      "Epoch 5/20\n",
      "49/49 [==============================] - 2s 36ms/step - loss: 0.3115 - acc: 0.8711 - val_loss: 0.3252 - val_acc: 0.8621\n",
      "Epoch 6/20\n",
      "49/49 [==============================] - 2s 33ms/step - loss: 0.3093 - acc: 0.8694 - val_loss: 0.3256 - val_acc: 0.8609\n",
      "Epoch 7/20\n",
      "49/49 [==============================] - 2s 33ms/step - loss: 0.3060 - acc: 0.8724 - val_loss: 0.3251 - val_acc: 0.8615\n",
      "Epoch 8/20\n",
      "49/49 [==============================] - 2s 33ms/step - loss: 0.3012 - acc: 0.8742 - val_loss: 0.3250 - val_acc: 0.8602\n",
      "Epoch 9/20\n",
      "49/49 [==============================] - 2s 32ms/step - loss: 0.2982 - acc: 0.8737 - val_loss: 0.3306 - val_acc: 0.8591\n",
      "Epoch 10/20\n",
      "49/49 [==============================] - 2s 34ms/step - loss: 0.2934 - acc: 0.8757 - val_loss: 0.3258 - val_acc: 0.8603\n",
      "Epoch 11/20\n",
      "49/49 [==============================] - 2s 33ms/step - loss: 0.2896 - acc: 0.8786 - val_loss: 0.3236 - val_acc: 0.8601\n",
      "Epoch 12/20\n",
      "49/49 [==============================] - 2s 35ms/step - loss: 0.2853 - acc: 0.8788 - val_loss: 0.3230 - val_acc: 0.8613\n",
      "Epoch 13/20\n",
      "49/49 [==============================] - 2s 35ms/step - loss: 0.2777 - acc: 0.8839 - val_loss: 0.3498 - val_acc: 0.8471\n",
      "Epoch 14/20\n",
      "49/49 [==============================] - 2s 34ms/step - loss: 0.2744 - acc: 0.8847 - val_loss: 0.3234 - val_acc: 0.8596\n",
      "Epoch 15/20\n",
      "49/49 [==============================] - 2s 33ms/step - loss: 0.2702 - acc: 0.8868 - val_loss: 0.3326 - val_acc: 0.8551\n",
      "Epoch 16/20\n",
      "49/49 [==============================] - 2s 34ms/step - loss: 0.2655 - acc: 0.8883 - val_loss: 0.3349 - val_acc: 0.8558\n",
      "Epoch 17/20\n",
      "49/49 [==============================] - 2s 33ms/step - loss: 0.2599 - acc: 0.8905 - val_loss: 0.3319 - val_acc: 0.8571\n",
      "Epoch 18/20\n",
      "49/49 [==============================] - 2s 35ms/step - loss: 0.2548 - acc: 0.8945 - val_loss: 0.3572 - val_acc: 0.8466\n",
      "Epoch 19/20\n",
      "49/49 [==============================] - 2s 33ms/step - loss: 0.2507 - acc: 0.8946 - val_loss: 0.3374 - val_acc: 0.8547\n",
      "Epoch 20/20\n",
      "49/49 [==============================] - 2s 34ms/step - loss: 0.2436 - acc: 0.8983 - val_loss: 0.3451 - val_acc: 0.8554\n"
     ]
    }
   ],
   "source": [
    "original_hist = original_model.fit(\n",
    "    x_train, \n",
    "    y_train, \n",
    "    batch_size = 512, \n",
    "    epochs = 20, \n",
    "    validation_data = (x_test, y_test)\n",
    ")"
   ]
  },
  {
   "cell_type": "markdown",
   "metadata": {
    "cell_id": "00021-bcf371e1-9787-437c-8cdf-4388b2045d6f",
    "deepnote_cell_type": "markdown",
    "tags": []
   },
   "source": [
    "## Exercise 6 : Fit the smaller model"
   ]
  },
  {
   "cell_type": "code",
   "execution_count": 12,
   "metadata": {
    "cell_id": "00022-b6aa2599-96c6-4e6e-927c-4b89890cdcc9",
    "deepnote_cell_type": "code",
    "deepnote_to_be_reexecuted": false,
    "execution_millis": 90,
    "execution_start": 1612475794745,
    "source_hash": "562136f3",
    "tags": []
   },
   "outputs": [
    {
     "name": "stdout",
     "output_type": "stream",
     "text": [
      "Epoch 1/20\n",
      "49/49 [==============================] - 3s 69ms/step - loss: 0.5791 - acc: 0.7767 - val_loss: 0.4924 - val_acc: 0.8319\n",
      "Epoch 2/20\n",
      "49/49 [==============================] - 2s 32ms/step - loss: 0.4368 - acc: 0.8438 - val_loss: 0.4022 - val_acc: 0.8466\n",
      "Epoch 3/20\n",
      "49/49 [==============================] - 2s 32ms/step - loss: 0.3686 - acc: 0.8586 - val_loss: 0.3568 - val_acc: 0.8560\n",
      "Epoch 4/20\n",
      "49/49 [==============================] - 2s 32ms/step - loss: 0.3350 - acc: 0.8666 - val_loss: 0.3420 - val_acc: 0.8575\n",
      "Epoch 5/20\n",
      "49/49 [==============================] - 2s 31ms/step - loss: 0.3190 - acc: 0.8693 - val_loss: 0.3313 - val_acc: 0.8612\n",
      "Epoch 6/20\n",
      "49/49 [==============================] - 2s 32ms/step - loss: 0.3105 - acc: 0.8718 - val_loss: 0.3265 - val_acc: 0.8626\n",
      "Epoch 7/20\n",
      "49/49 [==============================] - 2s 33ms/step - loss: 0.3063 - acc: 0.8736 - val_loss: 0.3276 - val_acc: 0.8624\n",
      "Epoch 8/20\n",
      "49/49 [==============================] - 2s 33ms/step - loss: 0.3029 - acc: 0.8762 - val_loss: 0.3256 - val_acc: 0.8618\n",
      "Epoch 9/20\n",
      "49/49 [==============================] - 2s 33ms/step - loss: 0.3021 - acc: 0.8759 - val_loss: 0.3348 - val_acc: 0.8587\n",
      "Epoch 10/20\n",
      "49/49 [==============================] - 2s 34ms/step - loss: 0.3006 - acc: 0.8763 - val_loss: 0.3389 - val_acc: 0.8566\n",
      "Epoch 11/20\n",
      "49/49 [==============================] - 2s 33ms/step - loss: 0.3002 - acc: 0.8767 - val_loss: 0.3287 - val_acc: 0.8602\n",
      "Epoch 12/20\n",
      "49/49 [==============================] - 2s 33ms/step - loss: 0.2989 - acc: 0.8774 - val_loss: 0.3275 - val_acc: 0.8606\n",
      "Epoch 13/20\n",
      "49/49 [==============================] - 2s 31ms/step - loss: 0.2995 - acc: 0.8777 - val_loss: 0.3305 - val_acc: 0.8599\n",
      "Epoch 14/20\n",
      "49/49 [==============================] - 2s 31ms/step - loss: 0.2985 - acc: 0.8767 - val_loss: 0.3320 - val_acc: 0.8596\n",
      "Epoch 15/20\n",
      "49/49 [==============================] - 2s 32ms/step - loss: 0.2982 - acc: 0.8776 - val_loss: 0.3305 - val_acc: 0.8597\n",
      "Epoch 16/20\n",
      "49/49 [==============================] - 2s 33ms/step - loss: 0.2987 - acc: 0.8763 - val_loss: 0.3298 - val_acc: 0.8600\n",
      "Epoch 17/20\n",
      "49/49 [==============================] - 2s 32ms/step - loss: 0.2984 - acc: 0.8776 - val_loss: 0.3325 - val_acc: 0.8589\n",
      "Epoch 18/20\n",
      "49/49 [==============================] - 2s 33ms/step - loss: 0.2988 - acc: 0.8763 - val_loss: 0.3318 - val_acc: 0.8586\n",
      "Epoch 19/20\n",
      "49/49 [==============================] - 2s 32ms/step - loss: 0.2983 - acc: 0.8768 - val_loss: 0.3310 - val_acc: 0.8595\n",
      "Epoch 20/20\n",
      "49/49 [==============================] - 2s 33ms/step - loss: 0.2972 - acc: 0.8780 - val_loss: 0.3412 - val_acc: 0.8547\n"
     ]
    }
   ],
   "source": [
    "smaller_hist = smaller_model.fit(\n",
    "    x_train, \n",
    "    y_train, \n",
    "    batch_size = 512, \n",
    "    epochs = 20, \n",
    "    validation_data = (x_test, y_test)\n",
    ")"
   ]
  },
  {
   "cell_type": "markdown",
   "metadata": {
    "cell_id": "00023-5174ecf0-cf53-4f42-b6ce-4943ccc9fb0e",
    "deepnote_cell_type": "markdown",
    "tags": []
   },
   "source": [
    "## Exercise 7 : Get val_loss"
   ]
  },
  {
   "cell_type": "code",
   "execution_count": 13,
   "metadata": {
    "cell_id": "00024-fbf4ca25-f5d2-4c06-9387-8d9a83022af9",
    "deepnote_cell_type": "code",
    "deepnote_to_be_reexecuted": true,
    "execution_millis": 0,
    "source_hash": "d12d7e95",
    "tags": []
   },
   "outputs": [],
   "source": [
    "original_loss = original_hist.history['val_loss']\n",
    "small_loss = smaller_hist.history['val_loss']"
   ]
  },
  {
   "cell_type": "markdown",
   "metadata": {
    "cell_id": "00025-cdec4039-1b41-44da-be4b-4e222d20f941",
    "deepnote_cell_type": "markdown",
    "tags": []
   },
   "source": [
    "## Exercise 8 : Plot the validation loss"
   ]
  },
  {
   "cell_type": "code",
   "execution_count": 14,
   "metadata": {
    "cell_id": "00025-ae0e77b2-8f1a-468a-abd9-5ac11dba94c3",
    "deepnote_cell_type": "code",
    "deepnote_to_be_reexecuted": true,
    "execution_millis": 506,
    "source_hash": "6a77453d",
    "tags": []
   },
   "outputs": [],
   "source": [
    "import matplotlib.pyplot as plt"
   ]
  },
  {
   "cell_type": "code",
   "execution_count": 15,
   "metadata": {
    "cell_id": "00025-cf86f75f-bc34-4067-be6d-cbc7e418b7b4",
    "deepnote_cell_type": "code",
    "deepnote_to_be_reexecuted": false,
    "execution_millis": 1,
    "execution_start": 1612476717999,
    "source_hash": "79adbb48",
    "tags": []
   },
   "outputs": [],
   "source": [
    "def plot_hist(y, original, labels, n_epoch=20, figsize=(12, 8)):\n",
    "    x_range = np.arange(1, n_epoch + 1, 1, \"int16\")\n",
    "    \n",
    "    plt.figure(figsize=(12, 8))\n",
    "    plt.plot(x_range, original, linestyle='dashed', marker='p', label=labels[1])\n",
    "    plt.plot(x_range, y, linestyle='dashed', marker='o', label=labels[0])\n",
    "    plt.xlabel('epochs')\n",
    "    plt.ylabel('validation loss')\n",
    "    plt.xticks(x_range)\n",
    "    plt.legend()\n",
    "    plt.grid(b=True, which='major', color='#bdc3c7', linestyle='-')\n",
    "    plt.show()"
   ]
  },
  {
   "cell_type": "code",
   "execution_count": 16,
   "metadata": {
    "cell_id": "00028-330af6c0-c1cf-401b-8c63-d06150f60b90",
    "deepnote_cell_type": "code",
    "deepnote_to_be_reexecuted": false,
    "execution_millis": 215,
    "execution_start": 1612476510251,
    "source_hash": "d0593a93",
    "tags": []
   },
   "outputs": [
    {
     "data": {
      "image/png": "[encoded data removed]",
      "text/plain": [
       "<Figure size 864x576 with 1 Axes>"
      ]
     },
     "metadata": {
      "needs_background": "light"
     },
     "output_type": "display_data"
    }
   ],
   "source": [
    "plot_hist(small_loss, original_loss, labels= ['Smaller Model', 'Original Model'])"
   ]
  },
  {
   "cell_type": "markdown",
   "metadata": {
    "cell_id": "00029-04fb942b-3a11-4d95-846a-0299b98259b2",
    "deepnote_cell_type": "markdown",
    "tags": []
   },
   "source": [
    "## Exercise 9: Bigger model"
   ]
  },
  {
   "cell_type": "code",
   "execution_count": 17,
   "metadata": {
    "cell_id": "00030-c72286dc-a5e9-4e17-82e8-a01896d79a0f",
    "deepnote_cell_type": "code",
    "tags": []
   },
   "outputs": [],
   "source": [
    "bigger_model = Sequential()\n",
    "bigger_model.add(Dense(512, activation='relu'))\n",
    "bigger_model.add(Dense(512, activation='relu'))\n",
    "bigger_model.add(Dense(1, activation='sigmoid'))\n",
    "bigger_model.compile(optimizer='rmsprop', loss='binary_crossentropy', metrics=['acc'])"
   ]
  },
  {
   "cell_type": "markdown",
   "metadata": {
    "cell_id": "00031-e9f79f93-69f8-4fb7-89fd-c9cf40a7ce74",
    "deepnote_cell_type": "markdown",
    "tags": []
   },
   "source": [
    "## Exercise 10: Fit the bigger model"
   ]
  },
  {
   "cell_type": "code",
   "execution_count": 18,
   "metadata": {
    "cell_id": "00032-c97b8f64-ecec-4b42-99e4-9625bbfe41e7",
    "deepnote_cell_type": "code",
    "tags": []
   },
   "outputs": [
    {
     "name": "stdout",
     "output_type": "stream",
     "text": [
      "Epoch 1/20\n",
      "49/49 [==============================] - 17s 341ms/step - loss: 0.5273 - acc: 0.7577 - val_loss: 0.4001 - val_acc: 0.8354\n",
      "Epoch 2/20\n",
      "49/49 [==============================] - 11s 215ms/step - loss: 0.3438 - acc: 0.8532 - val_loss: 0.3344 - val_acc: 0.8519\n",
      "Epoch 3/20\n",
      "49/49 [==============================] - 10s 207ms/step - loss: 0.3109 - acc: 0.8648 - val_loss: 0.3375 - val_acc: 0.8582\n",
      "Epoch 4/20\n",
      "49/49 [==============================] - 10s 201ms/step - loss: 0.2637 - acc: 0.8906 - val_loss: 0.4236 - val_acc: 0.8199\n",
      "Epoch 5/20\n",
      "49/49 [==============================] - 10s 199ms/step - loss: 0.2040 - acc: 0.9198 - val_loss: 0.4233 - val_acc: 0.8255\n",
      "Epoch 6/20\n",
      "49/49 [==============================] - 10s 200ms/step - loss: 0.1457 - acc: 0.9479 - val_loss: 0.4199 - val_acc: 0.8407\n",
      "Epoch 7/20\n",
      "49/49 [==============================] - 10s 196ms/step - loss: 0.1009 - acc: 0.9685 - val_loss: 0.4505 - val_acc: 0.8562\n",
      "Epoch 8/20\n",
      "49/49 [==============================] - 10s 205ms/step - loss: 0.0894 - acc: 0.9732 - val_loss: 0.4058 - val_acc: 0.8569\n",
      "Epoch 9/20\n",
      "49/49 [==============================] - 10s 200ms/step - loss: 0.0754 - acc: 0.9850 - val_loss: 0.4983 - val_acc: 0.8580\n",
      "Epoch 10/20\n",
      "49/49 [==============================] - 10s 199ms/step - loss: 0.0838 - acc: 0.9851 - val_loss: 0.4292 - val_acc: 0.8531\n",
      "Epoch 11/20\n",
      "49/49 [==============================] - 10s 196ms/step - loss: 0.0047 - acc: 0.9996 - val_loss: 0.6797 - val_acc: 0.8566\n",
      "Epoch 12/20\n",
      "49/49 [==============================] - 10s 206ms/step - loss: 0.1045 - acc: 0.9869 - val_loss: 0.6274 - val_acc: 0.8582\n",
      "Epoch 13/20\n",
      "49/49 [==============================] - 10s 202ms/step - loss: 0.1133 - acc: 0.9864 - val_loss: 0.5541 - val_acc: 0.8557\n",
      "Epoch 14/20\n",
      "49/49 [==============================] - 10s 203ms/step - loss: 0.0014 - acc: 0.9999 - val_loss: 0.7106 - val_acc: 0.8590\n",
      "Epoch 15/20\n",
      "49/49 [==============================] - 10s 204ms/step - loss: 0.1362 - acc: 0.9846 - val_loss: 0.6391 - val_acc: 0.8549\n",
      "Epoch 16/20\n",
      "49/49 [==============================] - 10s 202ms/step - loss: 7.1214e-04 - acc: 1.0000 - val_loss: 0.7873 - val_acc: 0.8582\n",
      "Epoch 17/20\n",
      "49/49 [==============================] - 9s 190ms/step - loss: 0.1267 - acc: 0.9855 - val_loss: 0.7335 - val_acc: 0.8300\n",
      "Epoch 18/20\n",
      "49/49 [==============================] - 10s 201ms/step - loss: 8.9543e-04 - acc: 1.0000 - val_loss: 0.7719 - val_acc: 0.8561\n",
      "Epoch 19/20\n",
      "49/49 [==============================] - 10s 212ms/step - loss: 1.4426e-04 - acc: 1.0000 - val_loss: 0.9218 - val_acc: 0.8573\n",
      "Epoch 20/20\n",
      "49/49 [==============================] - 12s 245ms/step - loss: 0.1547 - acc: 0.9860 - val_loss: 0.7321 - val_acc: 0.8569\n"
     ]
    }
   ],
   "source": [
    "bigger_hist = bigger_model.fit(\n",
    "    x_train, \n",
    "    y_train, \n",
    "    batch_size = 512, \n",
    "    epochs = 20, \n",
    "    validation_data = (x_test, y_test)\n",
    ")"
   ]
  },
  {
   "cell_type": "markdown",
   "metadata": {
    "cell_id": "00033-17c3eb71-7227-4c64-a76c-5099c41e1d54",
    "deepnote_cell_type": "markdown",
    "tags": []
   },
   "source": [
    "## Exercise 11: Plot the bigger and original validation loss"
   ]
  },
  {
   "cell_type": "code",
   "execution_count": 19,
   "metadata": {
    "cell_id": "00034-a003c18e-11fa-4175-8508-7300ef345e39",
    "deepnote_cell_type": "code",
    "tags": []
   },
   "outputs": [],
   "source": [
    "big_loss = bigger_hist.history['val_loss']"
   ]
  },
  {
   "cell_type": "code",
   "execution_count": 20,
   "metadata": {
    "cell_id": "00034-5dbeff33-4e5a-4715-b9ed-bd2f7a242652",
    "deepnote_cell_type": "code",
    "tags": []
   },
   "outputs": [
    {
     "data": {
      "image/png": "[encoded data removed]",
      "text/plain": [
       "<Figure size 864x576 with 1 Axes>"
      ]
     },
     "metadata": {
      "needs_background": "light"
     },
     "output_type": "display_data"
    }
   ],
   "source": [
    "plot_hist(big_loss, original_loss, labels= ['Bigger Model', 'Original Model'])"
   ]
  },
  {
   "cell_type": "markdown",
   "metadata": {
    "cell_id": "00033-cc7cd4b2-d126-4c2b-936a-fafc2802c3c5",
    "deepnote_cell_type": "markdown",
    "tags": []
   },
   "source": [
    "*Note:\n",
    "The more capacity the network has, the quicker it\n",
    "will be able to model the training data, but if it converges quickly to 0, this is\n",
    "more susceptible for overfitting!* "
   ]
  },
  {
   "cell_type": "markdown",
   "metadata": {
    "cell_id": "00037-e4f4c53d-f4fd-4910-a3ca-69e976ba7ecc",
    "deepnote_cell_type": "markdown"
   },
   "source": [
    "## Exercise 12: Weight regularization"
   ]
  },
  {
   "cell_type": "code",
   "execution_count": 21,
   "metadata": {
    "cell_id": "00038-40dea21d-becb-47ed-a273-7f5d4432e0c8",
    "deepnote_cell_type": "code"
   },
   "outputs": [],
   "source": [
    "from tensorflow.keras import regularizers"
   ]
  },
  {
   "cell_type": "code",
   "execution_count": 22,
   "metadata": {
    "cell_id": "00039-27955b9f-48da-4fdf-b4ba-cb6ade7208fb",
    "deepnote_cell_type": "code"
   },
   "outputs": [],
   "source": [
    "l2_model = Sequential()\n",
    "l2_model.add(Dense(16, activation='relu', kernel_regularizer=regularizers.l2(0.001)))\n",
    "l2_model.add(Dense(16, activation='relu', kernel_regularizer=regularizers.l2(0.001)))\n",
    "l2_model.add(Dense(1, activation='sigmoid'))\n",
    "\n",
    "l2_model.compile(optimizer='rmsprop', loss='binary_crossentropy', metrics=['acc'])"
   ]
  },
  {
   "cell_type": "markdown",
   "metadata": {
    "cell_id": "00040-971be86a-2cbd-47f2-a945-4190acbf64c6",
    "deepnote_cell_type": "markdown"
   },
   "source": [
    "## Exercise 13: Fit L2 model"
   ]
  },
  {
   "cell_type": "code",
   "execution_count": 23,
   "metadata": {
    "cell_id": "00041-3d604749-adee-435c-b0d9-04070f865b86",
    "deepnote_cell_type": "code"
   },
   "outputs": [
    {
     "name": "stdout",
     "output_type": "stream",
     "text": [
      "Epoch 1/20\n",
      "49/49 [==============================] - 12s 247ms/step - loss: 0.5681 - acc: 0.7593 - val_loss: 0.4617 - val_acc: 0.8424\n",
      "Epoch 2/20\n",
      "49/49 [==============================] - 4s 72ms/step - loss: 0.4083 - acc: 0.8548 - val_loss: 0.3973 - val_acc: 0.8432\n",
      "Epoch 3/20\n",
      "49/49 [==============================] - 2s 41ms/step - loss: 0.3611 - acc: 0.8644 - val_loss: 0.3619 - val_acc: 0.8607\n",
      "Epoch 4/20\n",
      "49/49 [==============================] - 2s 36ms/step - loss: 0.3456 - acc: 0.8682 - val_loss: 0.3544 - val_acc: 0.8612\n",
      "Epoch 5/20\n",
      "49/49 [==============================] - 2s 37ms/step - loss: 0.3400 - acc: 0.8696 - val_loss: 0.3819 - val_acc: 0.8474\n",
      "Epoch 6/20\n",
      "49/49 [==============================] - 2s 35ms/step - loss: 0.3364 - acc: 0.8706 - val_loss: 0.3498 - val_acc: 0.8618\n",
      "Epoch 7/20\n",
      "49/49 [==============================] - 2s 34ms/step - loss: 0.3346 - acc: 0.8722 - val_loss: 0.3545 - val_acc: 0.8598\n",
      "Epoch 8/20\n",
      "49/49 [==============================] - 2s 40ms/step - loss: 0.3357 - acc: 0.8714 - val_loss: 0.3862 - val_acc: 0.8455\n",
      "Epoch 9/20\n",
      "49/49 [==============================] - 2s 34ms/step - loss: 0.3320 - acc: 0.8723 - val_loss: 0.3611 - val_acc: 0.8556\n",
      "Epoch 10/20\n",
      "49/49 [==============================] - 2s 34ms/step - loss: 0.3310 - acc: 0.8713 - val_loss: 0.3627 - val_acc: 0.8554\n",
      "Epoch 11/20\n",
      "49/49 [==============================] - 2s 34ms/step - loss: 0.3302 - acc: 0.8723 - val_loss: 0.3492 - val_acc: 0.8610\n",
      "Epoch 12/20\n",
      "49/49 [==============================] - 2s 35ms/step - loss: 0.3279 - acc: 0.8732 - val_loss: 0.3646 - val_acc: 0.8554\n",
      "Epoch 13/20\n",
      "49/49 [==============================] - 2s 34ms/step - loss: 0.3272 - acc: 0.8747 - val_loss: 0.3478 - val_acc: 0.8606\n",
      "Epoch 14/20\n",
      "49/49 [==============================] - 2s 34ms/step - loss: 0.3264 - acc: 0.8741 - val_loss: 0.3607 - val_acc: 0.8556\n",
      "Epoch 15/20\n",
      "49/49 [==============================] - 2s 35ms/step - loss: 0.3233 - acc: 0.8758 - val_loss: 0.3537 - val_acc: 0.8568\n",
      "Epoch 16/20\n",
      "49/49 [==============================] - 2s 35ms/step - loss: 0.3236 - acc: 0.8741 - val_loss: 0.3468 - val_acc: 0.8607\n",
      "Epoch 17/20\n",
      "49/49 [==============================] - 2s 34ms/step - loss: 0.3184 - acc: 0.8791 - val_loss: 0.3484 - val_acc: 0.8592\n",
      "Epoch 18/20\n",
      "49/49 [==============================] - 2s 34ms/step - loss: 0.3174 - acc: 0.8769 - val_loss: 0.3505 - val_acc: 0.8595\n",
      "Epoch 19/20\n",
      "49/49 [==============================] - 2s 34ms/step - loss: 0.3158 - acc: 0.8772 - val_loss: 0.3594 - val_acc: 0.8544\n",
      "Epoch 20/20\n",
      "49/49 [==============================] - 2s 34ms/step - loss: 0.3149 - acc: 0.8774 - val_loss: 0.3558 - val_acc: 0.8564\n"
     ]
    }
   ],
   "source": [
    "l2_model_hist = l2_model.fit(\n",
    "    x_train, \n",
    "    y_train, \n",
    "    batch_size = 512, \n",
    "    epochs = 20, \n",
    "    validation_data = (x_test, y_test)\n",
    ")"
   ]
  },
  {
   "cell_type": "markdown",
   "metadata": {
    "cell_id": "00042-6182b624-2a11-4df4-835c-4a850ffcecac",
    "deepnote_cell_type": "markdown"
   },
   "source": [
    "## Exercise 14: Plot L2 and Original model"
   ]
  },
  {
   "cell_type": "code",
   "execution_count": 24,
   "metadata": {
    "cell_id": "00043-44b2a086-3985-4cde-8edd-112732d8c56b",
    "deepnote_cell_type": "code"
   },
   "outputs": [],
   "source": [
    "l2_loss = l2_model_hist.history['val_loss']"
   ]
  },
  {
   "cell_type": "code",
   "execution_count": 25,
   "metadata": {
    "cell_id": "00044-7b9cfa6b-73da-40fc-9301-78745111fcb2",
    "deepnote_cell_type": "code"
   },
   "outputs": [
    {
     "data": {
      "image/png": "[encoded data removed]",
      "text/plain": [
       "<Figure size 864x576 with 1 Axes>"
      ]
     },
     "metadata": {
      "needs_background": "light"
     },
     "output_type": "display_data"
    }
   ],
   "source": [
    "plot_hist(l2_loss, original_loss, labels= ['L2 Model', 'Original Model'])"
   ]
  },
  {
   "cell_type": "markdown",
   "metadata": {
    "cell_id": "00045-e4d0503b-c5cd-439d-ba35-46f2795df28f",
    "deepnote_cell_type": "markdown"
   },
   "source": [
    "## Exercise 15: Adding Dropout"
   ]
  },
  {
   "cell_type": "code",
   "execution_count": 26,
   "metadata": {
    "cell_id": "00046-bd05635e-3afb-4ada-be86-2e046a16f9d6",
    "deepnote_cell_type": "code"
   },
   "outputs": [],
   "source": [
    "dpt_model = Sequential()\n",
    "\n",
    "dpt_model.add(Dense(16, activation='relu'))\n",
    "dpt_model.add(Dropout(0.5))\n",
    "\n",
    "dpt_model.add(Dense(16, activation='relu'))\n",
    "dpt_model.add(Dropout(0.5))\n",
    "\n",
    "dpt_model.add(Dense(1, activation='sigmoid'))\n",
    "\n",
    "dpt_model.compile(optimizer='rmsprop', loss='binary_crossentropy', metrics=['acc'])"
   ]
  },
  {
   "cell_type": "markdown",
   "metadata": {
    "cell_id": "00047-70c91bc6-da77-455f-abbb-e410d0a8ff69",
    "deepnote_cell_type": "markdown"
   },
   "source": [
    "## Exercise 16: Fit DropOut Model"
   ]
  },
  {
   "cell_type": "code",
   "execution_count": 27,
   "metadata": {
    "cell_id": "00048-448eb00b-c030-41f9-b43c-b277955ae23d",
    "deepnote_cell_type": "code"
   },
   "outputs": [
    {
     "name": "stdout",
     "output_type": "stream",
     "text": [
      "Epoch 1/20\n",
      "49/49 [==============================] - 15s 301ms/step - loss: 0.6169 - acc: 0.6526 - val_loss: 0.4995 - val_acc: 0.8348\n",
      "Epoch 2/20\n",
      "49/49 [==============================] - 2s 38ms/step - loss: 0.5065 - acc: 0.7755 - val_loss: 0.4061 - val_acc: 0.8524\n",
      "Epoch 3/20\n",
      "49/49 [==============================] - 2s 42ms/step - loss: 0.4435 - acc: 0.8250 - val_loss: 0.3667 - val_acc: 0.8567\n",
      "Epoch 4/20\n",
      "49/49 [==============================] - 2s 34ms/step - loss: 0.4056 - acc: 0.8468 - val_loss: 0.3417 - val_acc: 0.8622\n",
      "Epoch 5/20\n",
      "49/49 [==============================] - 2s 34ms/step - loss: 0.3863 - acc: 0.8577 - val_loss: 0.3313 - val_acc: 0.8621\n",
      "Epoch 6/20\n",
      "49/49 [==============================] - 2s 34ms/step - loss: 0.3693 - acc: 0.8624 - val_loss: 0.3337 - val_acc: 0.8614\n",
      "Epoch 7/20\n",
      "49/49 [==============================] - 2s 33ms/step - loss: 0.3567 - acc: 0.8664 - val_loss: 0.3321 - val_acc: 0.8512\n",
      "Epoch 8/20\n",
      "49/49 [==============================] - 2s 34ms/step - loss: 0.3497 - acc: 0.8677 - val_loss: 0.3238 - val_acc: 0.8621\n",
      "Epoch 9/20\n",
      "49/49 [==============================] - 2s 35ms/step - loss: 0.3420 - acc: 0.8696 - val_loss: 0.3229 - val_acc: 0.8593\n",
      "Epoch 10/20\n",
      "49/49 [==============================] - 2s 37ms/step - loss: 0.3367 - acc: 0.8717 - val_loss: 0.3230 - val_acc: 0.8604\n",
      "Epoch 11/20\n",
      "49/49 [==============================] - 2s 33ms/step - loss: 0.3303 - acc: 0.8716 - val_loss: 0.3332 - val_acc: 0.8591\n",
      "Epoch 12/20\n",
      "49/49 [==============================] - 2s 34ms/step - loss: 0.3221 - acc: 0.8772 - val_loss: 0.3292 - val_acc: 0.8580\n",
      "Epoch 13/20\n",
      "49/49 [==============================] - 2s 35ms/step - loss: 0.3190 - acc: 0.8776 - val_loss: 0.3262 - val_acc: 0.8607\n",
      "Epoch 14/20\n",
      "49/49 [==============================] - 2s 34ms/step - loss: 0.3165 - acc: 0.8779 - val_loss: 0.3264 - val_acc: 0.8596\n",
      "Epoch 15/20\n",
      "49/49 [==============================] - 2s 36ms/step - loss: 0.3124 - acc: 0.8816 - val_loss: 0.3299 - val_acc: 0.8594\n",
      "Epoch 16/20\n",
      "49/49 [==============================] - 2s 35ms/step - loss: 0.3079 - acc: 0.8833 - val_loss: 0.3452 - val_acc: 0.8572\n",
      "Epoch 17/20\n",
      "49/49 [==============================] - 2s 32ms/step - loss: 0.3050 - acc: 0.8847 - val_loss: 0.3323 - val_acc: 0.8596\n",
      "Epoch 18/20\n",
      "49/49 [==============================] - 2s 34ms/step - loss: 0.3010 - acc: 0.8859 - val_loss: 0.3375 - val_acc: 0.8604\n",
      "Epoch 19/20\n",
      "49/49 [==============================] - 2s 39ms/step - loss: 0.3004 - acc: 0.8864 - val_loss: 0.3361 - val_acc: 0.8585\n",
      "Epoch 20/20\n",
      "49/49 [==============================] - 2s 43ms/step - loss: 0.2988 - acc: 0.8877 - val_loss: 0.3383 - val_acc: 0.8568\n"
     ]
    }
   ],
   "source": [
    "dpt_hist = dpt_model.fit(\n",
    "    x_train, \n",
    "    y_train, \n",
    "    batch_size = 512, \n",
    "    epochs = 20, \n",
    "    validation_data = (x_test, y_test)\n",
    ")"
   ]
  },
  {
   "cell_type": "markdown",
   "metadata": {
    "cell_id": "00049-0b5ac044-ec89-4850-a897-846a6fdcdba0",
    "deepnote_cell_type": "markdown"
   },
   "source": [
    "## Exercise 17: Plot Drop out and Original"
   ]
  },
  {
   "cell_type": "code",
   "execution_count": 28,
   "metadata": {
    "cell_id": "00050-c3c836a8-b2ae-4f81-ab07-8b452c6f7b0f",
    "deepnote_cell_type": "code"
   },
   "outputs": [],
   "source": [
    "dpt_loss = dpt_hist.history['val_loss']"
   ]
  },
  {
   "cell_type": "code",
   "execution_count": 29,
   "metadata": {
    "cell_id": "00051-8c8acc65-4698-4aa6-9b75-b9a4b0903703",
    "deepnote_cell_type": "code"
   },
   "outputs": [
    {
     "data": {
      "image/png": "[encoded data removed]",
      "text/plain": [
       "<Figure size 864x576 with 1 Axes>"
      ]
     },
     "metadata": {
      "needs_background": "light"
     },
     "output_type": "display_data"
    }
   ],
   "source": [
    "plot_hist(dpt_loss, original_loss, labels= ['Drop Out Model', 'Original Model'])"
   ]
  },
  {
   "cell_type": "markdown",
   "metadata": {
    "created_in_deepnote_cell": true,
    "deepnote_cell_type": "markdown",
    "tags": []
   },
   "source": [
    "<a style='text-decoration:none;line-height:16px;display:flex;color:#5B5B62;padding:10px;justify-content:end;' href='https://deepnote.com?utm_source=created-in-deepnote-cell&projectId=62eda4a8-d26a-4a56-8c6c-5473bb99037f' target=\"_blank\">\n",
    "<img style='display:inline;max-height:16px;margin:0px;margin-right:7.5px;' src='data:image/svg+xml;base64,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' > </img>\n",
    "Created in <span style='font-weight:600;margin-left:4px;'>Deepnote</span></a>"
   ]
  }
 ],
 "metadata": {
  "deepnote": {
   "is_reactive": false
  },
  "deepnote_execution_queue": [],
  "deepnote_notebook_id": "744a398d-d9a2-424c-bea7-0b3efded3f32",
  "kernelspec": {
   "display_name": "Python 3",
   "language": "python",
   "name": "python3"
  },
  "language_info": {
   "codemirror_mode": {
    "name": "ipython",
    "version": 3
   },
   "file_extension": ".py",
   "mimetype": "text/x-python",
   "name": "python",
   "nbconvert_exporter": "python",
   "pygments_lexer": "ipython3",
   "version": "3.8.4"
  }
 },
 "nbformat": 4,
 "nbformat_minor": 2
}
