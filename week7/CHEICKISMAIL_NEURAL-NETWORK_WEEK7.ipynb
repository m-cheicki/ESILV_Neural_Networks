{
 "cells": [
  {
   "cell_type": "markdown",
   "metadata": {},
   "source": [
    "# ABALONE AGE PREDICTION\n",
    "Mariyam CHEICK ISMAIL<br/>\n",
    "ESILV A4 - DIA 2 <br/>\n",
    "WEEK 7 "
   ]
  },
  {
   "cell_type": "markdown",
   "metadata": {},
   "source": [
    "## Import dataset"
   ]
  },
  {
   "cell_type": "code",
   "execution_count": 236,
   "metadata": {},
   "outputs": [],
   "source": [
    "import numpy as np\n",
    "import matplotlib.pyplot as plt\n",
    "import seaborn as sns\n",
    "import pandas as pd"
   ]
  },
  {
   "cell_type": "code",
   "execution_count": 237,
   "metadata": {},
   "outputs": [
    {
     "data": {
      "text/plain": [
       "((3342, 9), (836, 9))"
      ]
     },
     "execution_count": 237,
     "metadata": {},
     "output_type": "execute_result"
    }
   ],
   "source": [
    "train_set = pd.read_csv('./abalone_train/abalone_train_6.csv', names=[\"Sex\", \"Length\", \"Diameter\", \"Height\", \"Whole weight\", \"Shucked weight\", \"Viscera weight\", \"Shell weight\", \"Rings\"])\n",
    "test_set = pd.read_csv('./abalone_test.csv', names=[\"Sex\", \"Length\", \"Diameter\", \"Height\", \"Whole weight\", \"Shucked weight\", \"Viscera weight\", \"Shell weight\", \"Rings\"])\n",
    "\n",
    "train_set.shape, test_set.shape"
   ]
  },
  {
   "cell_type": "markdown",
   "metadata": {},
   "source": [
    "### Visualising the dataset"
   ]
  },
  {
   "cell_type": "code",
   "execution_count": 238,
   "metadata": {},
   "outputs": [
    {
     "data": {
      "text/html": [
       "<div>\n",
       "<style scoped>\n",
       "    .dataframe tbody tr th:only-of-type {\n",
       "        vertical-align: middle;\n",
       "    }\n",
       "\n",
       "    .dataframe tbody tr th {\n",
       "        vertical-align: top;\n",
       "    }\n",
       "\n",
       "    .dataframe thead th {\n",
       "        text-align: right;\n",
       "    }\n",
       "</style>\n",
       "<table border=\"1\" class=\"dataframe\">\n",
       "  <thead>\n",
       "    <tr style=\"text-align: right;\">\n",
       "      <th></th>\n",
       "      <th>Sex</th>\n",
       "      <th>Length</th>\n",
       "      <th>Diameter</th>\n",
       "      <th>Height</th>\n",
       "      <th>Whole weight</th>\n",
       "      <th>Shucked weight</th>\n",
       "      <th>Viscera weight</th>\n",
       "      <th>Shell weight</th>\n",
       "      <th>Rings</th>\n",
       "    </tr>\n",
       "  </thead>\n",
       "  <tbody>\n",
       "    <tr>\n",
       "      <th>0</th>\n",
       "      <td>I</td>\n",
       "      <td>0.375</td>\n",
       "      <td>0.265</td>\n",
       "      <td>0.095</td>\n",
       "      <td>0.1960</td>\n",
       "      <td>0.0850</td>\n",
       "      <td>0.0420</td>\n",
       "      <td>0.0585</td>\n",
       "      <td>5</td>\n",
       "    </tr>\n",
       "    <tr>\n",
       "      <th>1</th>\n",
       "      <td>I</td>\n",
       "      <td>0.535</td>\n",
       "      <td>0.410</td>\n",
       "      <td>0.130</td>\n",
       "      <td>0.6075</td>\n",
       "      <td>0.2680</td>\n",
       "      <td>0.1225</td>\n",
       "      <td>0.1975</td>\n",
       "      <td>9</td>\n",
       "    </tr>\n",
       "    <tr>\n",
       "      <th>2</th>\n",
       "      <td>F</td>\n",
       "      <td>0.710</td>\n",
       "      <td>0.575</td>\n",
       "      <td>0.175</td>\n",
       "      <td>1.5550</td>\n",
       "      <td>0.6465</td>\n",
       "      <td>0.3705</td>\n",
       "      <td>0.5200</td>\n",
       "      <td>15</td>\n",
       "    </tr>\n",
       "    <tr>\n",
       "      <th>3</th>\n",
       "      <td>F</td>\n",
       "      <td>0.525</td>\n",
       "      <td>0.410</td>\n",
       "      <td>0.135</td>\n",
       "      <td>0.7905</td>\n",
       "      <td>0.4065</td>\n",
       "      <td>0.1980</td>\n",
       "      <td>0.1770</td>\n",
       "      <td>8</td>\n",
       "    </tr>\n",
       "    <tr>\n",
       "      <th>4</th>\n",
       "      <td>F</td>\n",
       "      <td>0.455</td>\n",
       "      <td>0.370</td>\n",
       "      <td>0.105</td>\n",
       "      <td>0.4925</td>\n",
       "      <td>0.2160</td>\n",
       "      <td>0.1245</td>\n",
       "      <td>0.1350</td>\n",
       "      <td>9</td>\n",
       "    </tr>\n",
       "  </tbody>\n",
       "</table>\n",
       "</div>"
      ],
      "text/plain": [
       "  Sex  Length  Diameter  Height  Whole weight  Shucked weight  Viscera weight  \\\n",
       "0   I   0.375     0.265   0.095        0.1960          0.0850          0.0420   \n",
       "1   I   0.535     0.410   0.130        0.6075          0.2680          0.1225   \n",
       "2   F   0.710     0.575   0.175        1.5550          0.6465          0.3705   \n",
       "3   F   0.525     0.410   0.135        0.7905          0.4065          0.1980   \n",
       "4   F   0.455     0.370   0.105        0.4925          0.2160          0.1245   \n",
       "\n",
       "   Shell weight  Rings  \n",
       "0        0.0585      5  \n",
       "1        0.1975      9  \n",
       "2        0.5200     15  \n",
       "3        0.1770      8  \n",
       "4        0.1350      9  "
      ]
     },
     "execution_count": 238,
     "metadata": {},
     "output_type": "execute_result"
    }
   ],
   "source": [
    "train_set.head()"
   ]
  },
  {
   "cell_type": "code",
   "execution_count": 239,
   "metadata": {
    "scrolled": true
   },
   "outputs": [
    {
     "data": {
      "text/html": [
       "<div>\n",
       "<style scoped>\n",
       "    .dataframe tbody tr th:only-of-type {\n",
       "        vertical-align: middle;\n",
       "    }\n",
       "\n",
       "    .dataframe tbody tr th {\n",
       "        vertical-align: top;\n",
       "    }\n",
       "\n",
       "    .dataframe thead th {\n",
       "        text-align: right;\n",
       "    }\n",
       "</style>\n",
       "<table border=\"1\" class=\"dataframe\">\n",
       "  <thead>\n",
       "    <tr style=\"text-align: right;\">\n",
       "      <th></th>\n",
       "      <th>Sex</th>\n",
       "      <th>Length</th>\n",
       "      <th>Diameter</th>\n",
       "      <th>Height</th>\n",
       "      <th>Whole weight</th>\n",
       "      <th>Shucked weight</th>\n",
       "      <th>Viscera weight</th>\n",
       "      <th>Shell weight</th>\n",
       "      <th>Rings</th>\n",
       "    </tr>\n",
       "  </thead>\n",
       "  <tbody>\n",
       "    <tr>\n",
       "      <th>0</th>\n",
       "      <td>M</td>\n",
       "      <td>0.635</td>\n",
       "      <td>0.495</td>\n",
       "      <td>0.195</td>\n",
       "      <td>1.1720</td>\n",
       "      <td>0.4450</td>\n",
       "      <td>0.3115</td>\n",
       "      <td>0.3475</td>\n",
       "      <td>11.0</td>\n",
       "    </tr>\n",
       "    <tr>\n",
       "      <th>1</th>\n",
       "      <td>I</td>\n",
       "      <td>0.245</td>\n",
       "      <td>0.180</td>\n",
       "      <td>0.065</td>\n",
       "      <td>0.0710</td>\n",
       "      <td>0.0300</td>\n",
       "      <td>0.0130</td>\n",
       "      <td>0.0215</td>\n",
       "      <td>4.0</td>\n",
       "    </tr>\n",
       "    <tr>\n",
       "      <th>2</th>\n",
       "      <td>M</td>\n",
       "      <td>0.470</td>\n",
       "      <td>0.365</td>\n",
       "      <td>0.135</td>\n",
       "      <td>0.5220</td>\n",
       "      <td>0.2395</td>\n",
       "      <td>0.1525</td>\n",
       "      <td>0.1450</td>\n",
       "      <td>10.0</td>\n",
       "    </tr>\n",
       "    <tr>\n",
       "      <th>3</th>\n",
       "      <td>M</td>\n",
       "      <td>0.520</td>\n",
       "      <td>0.400</td>\n",
       "      <td>0.165</td>\n",
       "      <td>0.8565</td>\n",
       "      <td>0.2745</td>\n",
       "      <td>0.2010</td>\n",
       "      <td>0.2100</td>\n",
       "      <td>12.0</td>\n",
       "    </tr>\n",
       "    <tr>\n",
       "      <th>4</th>\n",
       "      <td>I</td>\n",
       "      <td>0.525</td>\n",
       "      <td>0.405</td>\n",
       "      <td>0.145</td>\n",
       "      <td>0.6965</td>\n",
       "      <td>0.3045</td>\n",
       "      <td>0.1535</td>\n",
       "      <td>0.2100</td>\n",
       "      <td>8.0</td>\n",
       "    </tr>\n",
       "  </tbody>\n",
       "</table>\n",
       "</div>"
      ],
      "text/plain": [
       "  Sex  Length  Diameter  Height  Whole weight  Shucked weight  Viscera weight  \\\n",
       "0   M   0.635     0.495   0.195        1.1720          0.4450          0.3115   \n",
       "1   I   0.245     0.180   0.065        0.0710          0.0300          0.0130   \n",
       "2   M   0.470     0.365   0.135        0.5220          0.2395          0.1525   \n",
       "3   M   0.520     0.400   0.165        0.8565          0.2745          0.2010   \n",
       "4   I   0.525     0.405   0.145        0.6965          0.3045          0.1535   \n",
       "\n",
       "   Shell weight  Rings  \n",
       "0        0.3475   11.0  \n",
       "1        0.0215    4.0  \n",
       "2        0.1450   10.0  \n",
       "3        0.2100   12.0  \n",
       "4        0.2100    8.0  "
      ]
     },
     "execution_count": 239,
     "metadata": {},
     "output_type": "execute_result"
    }
   ],
   "source": [
    "test_set.head()"
   ]
  },
  {
   "cell_type": "markdown",
   "metadata": {},
   "source": [
    "### Check for NULL/NaN values and drop if exists"
   ]
  },
  {
   "cell_type": "code",
   "execution_count": 240,
   "metadata": {},
   "outputs": [
    {
     "data": {
      "text/plain": [
       "Sex               False\n",
       "Length            False\n",
       "Diameter          False\n",
       "Height            False\n",
       "Whole weight      False\n",
       "Shucked weight    False\n",
       "Viscera weight    False\n",
       "Shell weight      False\n",
       "Rings             False\n",
       "dtype: bool"
      ]
     },
     "execution_count": 240,
     "metadata": {},
     "output_type": "execute_result"
    }
   ],
   "source": [
    "train_set.isnull().any()"
   ]
  },
  {
   "cell_type": "code",
   "execution_count": 241,
   "metadata": {},
   "outputs": [
    {
     "data": {
      "text/plain": [
       "Sex               True\n",
       "Length            True\n",
       "Diameter          True\n",
       "Height            True\n",
       "Whole weight      True\n",
       "Shucked weight    True\n",
       "Viscera weight    True\n",
       "Shell weight      True\n",
       "Rings             True\n",
       "dtype: bool"
      ]
     },
     "execution_count": 241,
     "metadata": {},
     "output_type": "execute_result"
    }
   ],
   "source": [
    "test_set.isnull().any()"
   ]
  },
  {
   "cell_type": "code",
   "execution_count": 242,
   "metadata": {},
   "outputs": [
    {
     "data": {
      "text/plain": [
       "((3342, 9), (835, 9))"
      ]
     },
     "execution_count": 242,
     "metadata": {},
     "output_type": "execute_result"
    }
   ],
   "source": [
    "test_set = test_set.dropna()\n",
    "train_set.shape, test_set.shape"
   ]
  },
  {
   "cell_type": "markdown",
   "metadata": {},
   "source": [
    "### Splitting dataset"
   ]
  },
  {
   "cell_type": "code",
   "execution_count": 243,
   "metadata": {},
   "outputs": [],
   "source": [
    "x_train = train_set.iloc[:, :-1]\n",
    "y_train = train_set.iloc[:, -1:]\n",
    "\n",
    "x_test = test_set.iloc[:, :-1]\n",
    "y_test = test_set.iloc[:, -1:]"
   ]
  },
  {
   "cell_type": "markdown",
   "metadata": {},
   "source": [
    "### Preprocessing"
   ]
  },
  {
   "cell_type": "markdown",
   "metadata": {},
   "source": [
    "Convert string to int for sex gender"
   ]
  },
  {
   "cell_type": "code",
   "execution_count": 244,
   "metadata": {
    "scrolled": true
   },
   "outputs": [
    {
     "data": {
      "text/plain": [
       "0       0\n",
       "1       0\n",
       "2       2\n",
       "3       2\n",
       "4       2\n",
       "       ..\n",
       "3337    1\n",
       "3338    1\n",
       "3339    0\n",
       "3340    0\n",
       "3341    2\n",
       "Name: Sex, Length: 3342, dtype: int64"
      ]
     },
     "execution_count": 244,
     "metadata": {},
     "output_type": "execute_result"
    }
   ],
   "source": [
    "x_train['Sex'] = x_train['Sex'].replace('I', 0)\n",
    "x_train['Sex'] = x_train['Sex'].replace('M', 1)\n",
    "x_train['Sex'] = x_train['Sex'].replace('F', 2)\n",
    "x_train['Sex']"
   ]
  },
  {
   "cell_type": "code",
   "execution_count": 245,
   "metadata": {},
   "outputs": [
    {
     "data": {
      "text/plain": [
       "0      1\n",
       "1      0\n",
       "2      1\n",
       "3      1\n",
       "4      0\n",
       "      ..\n",
       "831    1\n",
       "832    2\n",
       "833    2\n",
       "834    1\n",
       "835    1\n",
       "Name: Sex, Length: 835, dtype: int64"
      ]
     },
     "execution_count": 245,
     "metadata": {},
     "output_type": "execute_result"
    }
   ],
   "source": [
    "x_test['Sex'] = x_test['Sex'].replace('I', 0)\n",
    "x_test['Sex'] = x_test['Sex'].replace('M', 1)\n",
    "x_test['Sex'] = x_test['Sex'].replace('F', 2)\n",
    "x_test['Sex']"
   ]
  },
  {
   "cell_type": "markdown",
   "metadata": {},
   "source": [
    "Convert int to float32"
   ]
  },
  {
   "cell_type": "code",
   "execution_count": 246,
   "metadata": {},
   "outputs": [],
   "source": [
    "x_train = np.asarray(x_train).astype(np.float32)\n",
    "y_train = np.asarray(y_train).astype(np.float32)\n",
    "x_test = np.asarray(x_test).astype(np.float32)\n",
    "y_test = np.asarray(y_test).astype(np.float32)"
   ]
  },
  {
   "cell_type": "markdown",
   "metadata": {},
   "source": [
    "## Regression problem"
   ]
  },
  {
   "cell_type": "code",
   "execution_count": 247,
   "metadata": {},
   "outputs": [],
   "source": [
    "import tensorflow as tf\n",
    "from tensorflow import keras\n",
    "from tensorflow.keras.models import Sequential\n",
    "from tensorflow.keras.layers import Dense, Dropout\n",
    "from tensorflow.keras.optimizers import SGD"
   ]
  },
  {
   "cell_type": "code",
   "execution_count": 248,
   "metadata": {},
   "outputs": [],
   "source": [
    "model = keras.models.Sequential()\n",
    "model.add(Dense(128, input_dim = 8, activation='relu'))\n",
    "model.add(Dense(1, activation='sigmoid'))"
   ]
  },
  {
   "cell_type": "code",
   "execution_count": 249,
   "metadata": {},
   "outputs": [],
   "source": [
    "model.compile(loss = 'mean_squared_error', optimizer = 'adam',metrics = ['accuracy'])"
   ]
  },
  {
   "cell_type": "code",
   "execution_count": 250,
   "metadata": {},
   "outputs": [],
   "source": [
    "history = model.fit(x_train, y_train, validation_data=(x_test, y_test), epochs = 200, verbose=0)"
   ]
  },
  {
   "cell_type": "code",
   "execution_count": 251,
   "metadata": {},
   "outputs": [
    {
     "data": {
      "text/plain": [
       "<matplotlib.legend.Legend at 0x2193dfa6850>"
      ]
     },
     "execution_count": 251,
     "metadata": {},
     "output_type": "execute_result"
    },
    {
     "data": {
      "image/png": "[encoded data removed]",
      "text/plain": [
       "<Figure size 432x288 with 1 Axes>"
      ]
     },
     "metadata": {
      "needs_background": "light"
     },
     "output_type": "display_data"
    }
   ],
   "source": [
    "plt.plot(history.history['accuracy'], label='Train')\n",
    "plt.plot(history.history['val_accuracy'], label='Test')\n",
    "plt.legend()"
   ]
  },
  {
   "cell_type": "code",
   "execution_count": 252,
   "metadata": {},
   "outputs": [],
   "source": [
    "def fit_model(train_X, train_y, test_X, test_y, optimizer, epochs = 200): \n",
    "    # Define model\n",
    "    model = Sequential()\n",
    "    model.add(Dense(128, input_dim = 8, activation=\"relu\"))\n",
    "    model.add(Dense(64, input_dim = 8, activation=\"relu\"))\n",
    "    model.add(Dense(1, activation=\"sigmoid\"))\n",
    "    \n",
    "    # Compile model\n",
    "    model.compile(loss = 'mean_squared_error', \n",
    "              optimizer = optimizer,\n",
    "              metrics = ['accuracy'])\n",
    "    \n",
    "    # Fit model\n",
    "    history = model.fit(train_X, train_y, \n",
    "                        validation_data=(test_X, test_y), \n",
    "                        epochs=epochs, verbose=0)\n",
    "    \n",
    "    # plot learning curves\n",
    "    plt.plot(history.history['accuracy'], label='Train')\n",
    "    plt.plot(history.history['val_accuracy'], label='Test')\n",
    "    plt.legend()"
   ]
  },
  {
   "cell_type": "code",
   "execution_count": 253,
   "metadata": {},
   "outputs": [
    {
     "data": {
      "image/png": "[encoded data removed]",
      "text/plain": [
       "<Figure size 432x288 with 4 Axes>"
      ]
     },
     "metadata": {
      "needs_background": "light"
     },
     "output_type": "display_data"
    }
   ],
   "source": [
    "optimizers = ['sgd', 'rmsprop', 'adagrad', 'adam']\n",
    "\n",
    "for i in range(len(optimizers)):\n",
    "    # determine the plot number\n",
    "    plot_no = 220 + (i+1)\n",
    "    plt.subplot(plot_no)\n",
    "    \n",
    "    # fit model and plot learning curves for an optimizer\n",
    "    fit_model(x_train, y_train, x_test, y_test, optimizers[i])\n",
    "    plt.title('Optimizer = '+ optimizers[i])\n",
    "# show learning curves\n",
    "plt.show()"
   ]
  },
  {
   "cell_type": "code",
   "execution_count": 254,
   "metadata": {},
   "outputs": [
    {
     "data": {
      "image/png": "[encoded data removed]",
      "text/plain": [
       "<Figure size 432x288 with 8 Axes>"
      ]
     },
     "metadata": {
      "needs_background": "light"
     },
     "output_type": "display_data"
    }
   ],
   "source": [
    "learning_rates = [1E-0, 1E-1, 1E-2, 1E-3, 1E-4, 1E-5, 1E-6, 1E-7]\n",
    "\n",
    "for i in range(len(learning_rates)):\n",
    "    opt = SGD(lr = learning_rates[i])\n",
    "    \n",
    "    # Determine the plot number\n",
    "    plot_no = 420 + (i+1)\n",
    "    plt.subplot(plot_no)\n",
    "    \n",
    "    # Fit model and plot learning curves for a learning rate\n",
    "    fit_model(x_train, y_train, x_test, y_test, opt)\n",
    "    plt.title(\"Learning rate = \" + str(learning_rates[i]))\n",
    "\n",
    "# Show learning curves\n",
    "plt.show()"
   ]
  },
  {
   "cell_type": "code",
   "execution_count": 255,
   "metadata": {},
   "outputs": [],
   "source": [
    "def fit_model(train_X, train_y, test_X, test_y, optimizer, epochs = 200): \n",
    "    # Define model\n",
    "    model = Sequential()\n",
    "    model.add(Dense(128, input_dim = 8, activation=\"relu\", kernel_initializer='normal'))\n",
    "    model.add(Dropout(0.5))\n",
    "    model.add(Dense(64, activation=\"relu\", kernel_initializer='normal'))\n",
    "    model.add(Dropout(0.5))\n",
    "    model.add(Dense(1, activation=\"sigmoid\"))\n",
    "    \n",
    "    # Compile model\n",
    "    model.compile(loss = 'mean_squared_error', \n",
    "              optimizer = optimizer,\n",
    "              metrics = ['accuracy'])\n",
    "    \n",
    "    # Fit model\n",
    "    history = model.fit(train_X, train_y, \n",
    "                        validation_data=(test_X, test_y), \n",
    "                        epochs=epochs, verbose=0)\n",
    "    \n",
    "    # plot learning curves\n",
    "    plt.plot(history.history['accuracy'], label='Train')\n",
    "    plt.plot(history.history['val_accuracy'], label='Test')\n",
    "    plt.legend()"
   ]
  },
  {
   "cell_type": "code",
   "execution_count": null,
   "metadata": {
    "scrolled": false
   },
   "outputs": [],
   "source": [
    "optimizers = ['sgd', 'rmsprop', 'adagrad', 'adam']\n",
    "\n",
    "for i in range(len(optimizers)):\n",
    "    # determine the plot number\n",
    "    plot_no = 220 + (i+1)\n",
    "    plt.subplot(plot_no)\n",
    "    \n",
    "    # fit model and plot learning curves for an optimizer\n",
    "    fit_model(x_train, y_train, x_test, y_test, optimizers[i])\n",
    "    plt.title('Optimizer = '+ optimizers[i])\n",
    "# show learning curves\n",
    "plt.show()"
   ]
  },
  {
   "cell_type": "code",
   "execution_count": null,
   "metadata": {},
   "outputs": [],
   "source": [
    "model4 = Sequential()\n",
    "\n",
    "model4.add(Dense(256, activation='relu', input_shape=(8,)))\n",
    "model4.add(Dense(256, activation='relu'))\n",
    "model4.add(Dense(256, activation='relu'))\n",
    "model4.add(Dense(256, activation='relu'))\n",
    "model4.add(Dense(1, activation='sigmoid'))\n",
    "\n",
    "model4.summary()\n",
    "model4.compile(loss='mean_absolute_error', optimizer='adam', metrics=['mean_absolute_error', 'accuracy'])\n",
    "\n",
    "history = model4.fit(x_train,y_train,batch_size=100,epochs=500,verbose=0)\n",
    "\n",
    "test=model4.evaluate(x_test, y_test, verbose=1)"
   ]
  },
  {
   "cell_type": "code",
   "execution_count": null,
   "metadata": {},
   "outputs": [],
   "source": [
    "test"
   ]
  },
  {
   "cell_type": "markdown",
   "metadata": {},
   "source": [
    "After many attempts, considering this problem as a regression problem is not really a great idea, let's see if a classification problem is better. "
   ]
  },
  {
   "cell_type": "markdown",
   "metadata": {},
   "source": [
    "## Classification problem"
   ]
  },
  {
   "cell_type": "markdown",
   "metadata": {},
   "source": [
    "Our y values go from 1 to 29. But, we want it to start from 0, so we minus 1 to all values. "
   ]
  },
  {
   "cell_type": "code",
   "execution_count": 257,
   "metadata": {},
   "outputs": [],
   "source": [
    "y_train -= 1\n",
    "y_test -= 1"
   ]
  },
  {
   "cell_type": "markdown",
   "metadata": {},
   "source": [
    "### Model 1"
   ]
  },
  {
   "cell_type": "code",
   "execution_count": 258,
   "metadata": {},
   "outputs": [],
   "source": [
    "model5 = Sequential()\n",
    "model5.add(Dense(8, input_dim=8, activation='relu'))\n",
    "model5.add(Dense(29, activation=\"softmax\"))\n",
    "model5.compile(optimizer = \"adam\", loss=\"sparse_categorical_crossentropy\", metrics=['accuracy'])\n",
    "\n",
    "history5 = model5.fit(x_train,y_train,batch_size=100,epochs=500,verbose=0, validation_split=0.2)"
   ]
  },
  {
   "cell_type": "code",
   "execution_count": 259,
   "metadata": {
    "scrolled": false
   },
   "outputs": [
    {
     "name": "stdout",
     "output_type": "stream",
     "text": [
      "27/27 [==============================] - 0s 741us/step - loss: 2.0380 - accuracy: 0.2551\n"
     ]
    },
    {
     "data": {
      "text/plain": [
       "(2.037990093231201, 0.25508981943130493)"
      ]
     },
     "execution_count": 259,
     "metadata": {},
     "output_type": "execute_result"
    }
   ],
   "source": [
    "test_loss, test_acc = model5.evaluate(x_test, y_test)\n",
    "test_loss, test_acc"
   ]
  },
  {
   "cell_type": "code",
   "execution_count": 260,
   "metadata": {},
   "outputs": [
    {
     "data": {
      "text/plain": [
       "<matplotlib.legend.Legend at 0x2193e14f040>"
      ]
     },
     "execution_count": 260,
     "metadata": {},
     "output_type": "execute_result"
    },
    {
     "data": {
      "image/png": "[encoded data removed]",
      "text/plain": [
       "<Figure size 432x288 with 1 Axes>"
      ]
     },
     "metadata": {
      "needs_background": "light"
     },
     "output_type": "display_data"
    }
   ],
   "source": [
    "plt.plot(history5.history['val_accuracy'])\n",
    "plt.plot(history5.history['accuracy'])\n",
    "plt.xlabel('Epochs')\n",
    "plt.ylabel('Accuracy')\n",
    "plt.legend(['validation accuracy', ' accuracy'])"
   ]
  },
  {
   "cell_type": "markdown",
   "metadata": {},
   "source": [
    "### Model 2"
   ]
  },
  {
   "cell_type": "code",
   "execution_count": 261,
   "metadata": {
    "scrolled": true
   },
   "outputs": [
    {
     "name": "stdout",
     "output_type": "stream",
     "text": [
      "27/27 [==============================] - 0s 778us/step - loss: 2.0195 - accuracy: 0.2587\n"
     ]
    },
    {
     "data": {
      "text/plain": [
       "(2.0195248126983643, 0.25868263840675354)"
      ]
     },
     "execution_count": 261,
     "metadata": {},
     "output_type": "execute_result"
    }
   ],
   "source": [
    "model6 = Sequential()\n",
    "model6.add(Dense(128, input_dim=8, activation='relu'))\n",
    "model6.add(Dense(64, activation='relu'))\n",
    "model6.add(Dense(29, activation=\"softmax\"))\n",
    "model6.compile(optimizer = \"adam\", loss=\"sparse_categorical_crossentropy\", metrics=['accuracy'])\n",
    "\n",
    "history6 = model6.fit(x_train,y_train,batch_size=100,epochs=500,verbose=0, validation_split=0.2)\n",
    "test_loss, test_acc = model6.evaluate(x_test, y_test)\n",
    "test_loss, test_acc"
   ]
  },
  {
   "cell_type": "code",
   "execution_count": 262,
   "metadata": {},
   "outputs": [
    {
     "data": {
      "text/plain": [
       "<matplotlib.legend.Legend at 0x21938d11190>"
      ]
     },
     "execution_count": 262,
     "metadata": {},
     "output_type": "execute_result"
    },
    {
     "data": {
      "image/png": "[encoded data removed]",
      "text/plain": [
       "<Figure size 432x288 with 1 Axes>"
      ]
     },
     "metadata": {
      "needs_background": "light"
     },
     "output_type": "display_data"
    }
   ],
   "source": [
    "plt.plot(history6.history['val_accuracy'])\n",
    "plt.plot(history6.history['accuracy'])\n",
    "plt.xlabel('Epochs')\n",
    "plt.ylabel('Accuracy')\n",
    "plt.legend(['validation accuracy', ' accuracy'])"
   ]
  },
  {
   "cell_type": "markdown",
   "metadata": {},
   "source": [
    "### Model 3"
   ]
  },
  {
   "cell_type": "code",
   "execution_count": 263,
   "metadata": {
    "scrolled": true
   },
   "outputs": [
    {
     "name": "stdout",
     "output_type": "stream",
     "text": [
      "27/27 [==============================] - 0s 741us/step - loss: 1.9911 - accuracy: 0.2419\n"
     ]
    },
    {
     "data": {
      "text/plain": [
       "(1.991110920906067, 0.24191616475582123)"
      ]
     },
     "execution_count": 263,
     "metadata": {},
     "output_type": "execute_result"
    }
   ],
   "source": [
    "model7 = Sequential()\n",
    "model7.add(Dense(128, input_dim=8, activation='relu'))\n",
    "model7.add(Dropout(0.5))\n",
    "model7.add(Dense(64, input_dim=8, activation='relu'))\n",
    "model7.add(Dropout(0.5))\n",
    "model7.add(Dense(29, activation=\"softmax\"))\n",
    "model7.compile(optimizer = \"adam\", loss=\"sparse_categorical_crossentropy\", metrics=['accuracy'])\n",
    "\n",
    "history7 = model7.fit(x_train,y_train,batch_size=100,epochs=500,verbose=0, validation_split=0.2)\n",
    "test_loss, test_acc = model7.evaluate(x_test, y_test)\n",
    "test_loss, test_acc"
   ]
  },
  {
   "cell_type": "code",
   "execution_count": 264,
   "metadata": {},
   "outputs": [
    {
     "data": {
      "text/plain": [
       "<matplotlib.legend.Legend at 0x21940021700>"
      ]
     },
     "execution_count": 264,
     "metadata": {},
     "output_type": "execute_result"
    },
    {
     "data": {
      "image/png": "[encoded data removed]",
      "text/plain": [
       "<Figure size 432x288 with 1 Axes>"
      ]
     },
     "metadata": {
      "needs_background": "light"
     },
     "output_type": "display_data"
    }
   ],
   "source": [
    "plt.plot(history7.history['val_accuracy'])\n",
    "plt.plot(history7.history['accuracy'])\n",
    "plt.xlabel('Epochs')\n",
    "plt.ylabel('Accuracy')\n",
    "plt.legend(['validation accuracy', ' accuracy'])"
   ]
  },
  {
   "cell_type": "markdown",
   "metadata": {},
   "source": [
    "### Model 4"
   ]
  },
  {
   "cell_type": "code",
   "execution_count": 265,
   "metadata": {},
   "outputs": [
    {
     "name": "stdout",
     "output_type": "stream",
     "text": [
      "27/27 [==============================] - 0s 815us/step - loss: 1.9818 - accuracy: 0.2515\n"
     ]
    },
    {
     "data": {
      "text/plain": [
       "(1.9818179607391357, 0.2514970004558563)"
      ]
     },
     "execution_count": 265,
     "metadata": {},
     "output_type": "execute_result"
    }
   ],
   "source": [
    "model8 = Sequential()\n",
    "model8.add(Dense(256, input_dim=8, activation='relu'))\n",
    "model8.add(Dropout(0.5))\n",
    "model8.add(Dense(128, activation='relu'))\n",
    "model8.add(Dropout(0.5))\n",
    "model8.add(Dense(64,activation='relu'))\n",
    "model8.add(Dropout(0.5))\n",
    "model8.add(Dense(29, activation=\"softmax\"))\n",
    "model8.compile(optimizer = \"adam\", loss=\"sparse_categorical_crossentropy\", metrics=['accuracy'])\n",
    "\n",
    "history8 = model8.fit(x_train,y_train,batch_size=100,epochs=500,verbose=0, validation_split=0.2)\n",
    "test_loss, test_acc = model8.evaluate(x_test, y_test)\n",
    "test_loss, test_acc"
   ]
  },
  {
   "cell_type": "code",
   "execution_count": 266,
   "metadata": {},
   "outputs": [
    {
     "data": {
      "text/plain": [
       "<matplotlib.legend.Legend at 0x2193e75a490>"
      ]
     },
     "execution_count": 266,
     "metadata": {},
     "output_type": "execute_result"
    },
    {
     "data": {
      "image/png": "[encoded data removed]",
      "text/plain": [
       "<Figure size 432x288 with 1 Axes>"
      ]
     },
     "metadata": {
      "needs_background": "light"
     },
     "output_type": "display_data"
    }
   ],
   "source": [
    "plt.plot(history8.history['val_accuracy'])\n",
    "plt.plot(history8.history['accuracy'])\n",
    "plt.xlabel('Epochs')\n",
    "plt.ylabel('Accuracy')\n",
    "plt.legend(['validation accuracy', ' accuracy'])"
   ]
  },
  {
   "cell_type": "markdown",
   "metadata": {},
   "source": [
    "### Model 5"
   ]
  },
  {
   "cell_type": "code",
   "execution_count": 267,
   "metadata": {},
   "outputs": [
    {
     "name": "stdout",
     "output_type": "stream",
     "text": [
      "27/27 [==============================] - 0s 1ms/step - loss: 1.9691 - accuracy: 0.2707\n"
     ]
    },
    {
     "data": {
      "text/plain": [
       "(1.9690850973129272, 0.2706586718559265)"
      ]
     },
     "execution_count": 267,
     "metadata": {},
     "output_type": "execute_result"
    }
   ],
   "source": [
    "model9 = Sequential()\n",
    "model9.add(Dense(256, input_dim=8, activation='relu'))\n",
    "model9.add(Dropout(0.5))\n",
    "model9.add(Dense(128, activation='relu'))\n",
    "model9.add(Dropout(0.5))\n",
    "model9.add(Dense(96, activation='relu'))\n",
    "model9.add(Dropout(0.5))\n",
    "model9.add(Dense(64,activation='relu'))\n",
    "model9.add(Dropout(0.5))\n",
    "model9.add(Dense(29, activation=\"softmax\"))\n",
    "model9.compile(optimizer = \"adam\", loss=\"sparse_categorical_crossentropy\", metrics=['accuracy'])\n",
    "\n",
    "history9 = model9.fit(x_train,y_train,batch_size=100,epochs=500,verbose=0, validation_split=0.2)\n",
    "test_loss, test_acc = model9.evaluate(x_test, y_test)\n",
    "test_loss, test_acc"
   ]
  },
  {
   "cell_type": "code",
   "execution_count": 268,
   "metadata": {
    "scrolled": true
   },
   "outputs": [
    {
     "data": {
      "text/plain": [
       "<matplotlib.legend.Legend at 0x2193a7030a0>"
      ]
     },
     "execution_count": 268,
     "metadata": {},
     "output_type": "execute_result"
    },
    {
     "data": {
      "image/png": "[encoded data removed]",
      "text/plain": [
       "<Figure size 432x288 with 1 Axes>"
      ]
     },
     "metadata": {
      "needs_background": "light"
     },
     "output_type": "display_data"
    }
   ],
   "source": [
    "plt.plot(history9.history['val_accuracy'])\n",
    "plt.plot(history9.history['accuracy'])\n",
    "plt.xlabel('Epochs')\n",
    "plt.ylabel('Accuracy')\n",
    "plt.legend(['validation accuracy', ' accuracy'])"
   ]
  },
  {
   "cell_type": "markdown",
   "metadata": {},
   "source": [
    "### Model 6"
   ]
  },
  {
   "cell_type": "code",
   "execution_count": 269,
   "metadata": {},
   "outputs": [
    {
     "name": "stdout",
     "output_type": "stream",
     "text": [
      "27/27 [==============================] - 0s 1ms/step - loss: 2.0134 - accuracy: 0.2575\n"
     ]
    },
    {
     "data": {
      "text/plain": [
       "(2.0133779048919678, 0.257485032081604)"
      ]
     },
     "execution_count": 269,
     "metadata": {},
     "output_type": "execute_result"
    }
   ],
   "source": [
    "model10 = Sequential()\n",
    "model10.add(Dense(256, input_dim=8, activation='relu', kernel_regularizer=keras.regularizers.l2(5e-4)))\n",
    "model10.add(Dropout(0.5))\n",
    "model10.add(Dense(128, activation='relu', kernel_regularizer=keras.regularizers.l2(5e-4)))\n",
    "model10.add(Dropout(0.5))\n",
    "model10.add(Dense(96, activation='relu', kernel_regularizer=keras.regularizers.l2(5e-4)))\n",
    "model10.add(Dropout(0.5))\n",
    "model10.add(Dense(64,activation='relu', kernel_regularizer=keras.regularizers.l2(5e-4)))\n",
    "model10.add(Dropout(0.5))\n",
    "model10.add(Dense(29, activation=\"softmax\", kernel_regularizer=keras.regularizers.l2(5e-4)))\n",
    "model10.compile(optimizer = \"adam\", loss=\"sparse_categorical_crossentropy\", metrics=['accuracy'])\n",
    "\n",
    "history10 = model10.fit(x_train,y_train,batch_size=100,epochs=500,verbose=0, validation_split=0.2)\n",
    "test_loss, test_acc = model10.evaluate(x_test, y_test)\n",
    "test_loss, test_acc"
   ]
  },
  {
   "cell_type": "code",
   "execution_count": 270,
   "metadata": {},
   "outputs": [
    {
     "data": {
      "text/plain": [
       "<matplotlib.legend.Legend at 0x219274b5910>"
      ]
     },
     "execution_count": 270,
     "metadata": {},
     "output_type": "execute_result"
    },
    {
     "data": {
      "image/png": "[encoded data removed]",
      "text/plain": [
       "<Figure size 432x288 with 1 Axes>"
      ]
     },
     "metadata": {
      "needs_background": "light"
     },
     "output_type": "display_data"
    }
   ],
   "source": [
    "plt.plot(history10.history['val_accuracy'])\n",
    "plt.plot(history10.history['accuracy'])\n",
    "plt.xlabel('Epochs')\n",
    "plt.ylabel('Accuracy')\n",
    "plt.legend(['validation accuracy', ' accuracy'])"
   ]
  },
  {
   "cell_type": "markdown",
   "metadata": {},
   "source": [
    "## Prediction"
   ]
  },
  {
   "cell_type": "code",
   "execution_count": 273,
   "metadata": {},
   "outputs": [],
   "source": [
    "predictions = model9.predict(x_test)"
   ]
  },
  {
   "cell_type": "code",
   "execution_count": 274,
   "metadata": {},
   "outputs": [
    {
     "data": {
      "text/plain": [
       "[10,\n",
       " 4,\n",
       " 8,\n",
       " 9,\n",
       " 8,\n",
       " 8,\n",
       " 10,\n",
       " 8,\n",
       " 10,\n",
       " 8,\n",
       " 8,\n",
       " 9,\n",
       " 8,\n",
       " 12,\n",
       " 8,\n",
       " 5,\n",
       " 8,\n",
       " 8,\n",
       " 6,\n",
       " 10,\n",
       " 8,\n",
       " 8,\n",
       " 6,\n",
       " 10,\n",
       " 12,\n",
       " 3,\n",
       " 7,\n",
       " 10,\n",
       " 8,\n",
       " 9,\n",
       " 8,\n",
       " 7,\n",
       " 8,\n",
       " 8,\n",
       " 10,\n",
       " 10,\n",
       " 9,\n",
       " 8,\n",
       " 7,\n",
       " 6,\n",
       " 10,\n",
       " 8,\n",
       " 6,\n",
       " 10,\n",
       " 9,\n",
       " 8,\n",
       " 9,\n",
       " 6,\n",
       " 12,\n",
       " 8,\n",
       " 10,\n",
       " 4,\n",
       " 7,\n",
       " 8,\n",
       " 6,\n",
       " 7,\n",
       " 9,\n",
       " 10,\n",
       " 8,\n",
       " 8,\n",
       " 8,\n",
       " 9,\n",
       " 8,\n",
       " 10,\n",
       " 10,\n",
       " 9,\n",
       " 8,\n",
       " 6,\n",
       " 8,\n",
       " 7,\n",
       " 6,\n",
       " 12,\n",
       " 6,\n",
       " 7,\n",
       " 9,\n",
       " 10,\n",
       " 8,\n",
       " 9,\n",
       " 8,\n",
       " 7,\n",
       " 6,\n",
       " 7,\n",
       " 8,\n",
       " 6,\n",
       " 8,\n",
       " 8,\n",
       " 8,\n",
       " 8,\n",
       " 12,\n",
       " 9,\n",
       " 9,\n",
       " 8,\n",
       " 8,\n",
       " 9,\n",
       " 8,\n",
       " 11,\n",
       " 8,\n",
       " 8,\n",
       " 6,\n",
       " 10,\n",
       " 8,\n",
       " 7,\n",
       " 9,\n",
       " 10,\n",
       " 8,\n",
       " 8,\n",
       " 7,\n",
       " 8,\n",
       " 5,\n",
       " 8,\n",
       " 8,\n",
       " 8,\n",
       " 8,\n",
       " 8,\n",
       " 6,\n",
       " 10,\n",
       " 10,\n",
       " 6,\n",
       " 10,\n",
       " 5,\n",
       " 7,\n",
       " 8,\n",
       " 12,\n",
       " 12,\n",
       " 8,\n",
       " 6,\n",
       " 10,\n",
       " 8,\n",
       " 7,\n",
       " 10,\n",
       " 9,\n",
       " 12,\n",
       " 9,\n",
       " 12,\n",
       " 8,\n",
       " 6,\n",
       " 12,\n",
       " 10,\n",
       " 8,\n",
       " 10,\n",
       " 9,\n",
       " 8,\n",
       " 5,\n",
       " 10,\n",
       " 8,\n",
       " 6,\n",
       " 6,\n",
       " 9,\n",
       " 12,\n",
       " 9,\n",
       " 4,\n",
       " 8,\n",
       " 8,\n",
       " 5,\n",
       " 9,\n",
       " 8,\n",
       " 9,\n",
       " 7,\n",
       " 12,\n",
       " 8,\n",
       " 8,\n",
       " 9,\n",
       " 8,\n",
       " 8,\n",
       " 9,\n",
       " 8,\n",
       " 8,\n",
       " 8,\n",
       " 6,\n",
       " 8,\n",
       " 10,\n",
       " 8,\n",
       " 10,\n",
       " 10,\n",
       " 8,\n",
       " 8,\n",
       " 9,\n",
       " 8,\n",
       " 12,\n",
       " 10,\n",
       " 10,\n",
       " 6,\n",
       " 10,\n",
       " 8,\n",
       " 5,\n",
       " 10,\n",
       " 8,\n",
       " 8,\n",
       " 5,\n",
       " 15,\n",
       " 8,\n",
       " 5,\n",
       " 15,\n",
       " 3,\n",
       " 7,\n",
       " 7,\n",
       " 8,\n",
       " 7,\n",
       " 8,\n",
       " 9,\n",
       " 8,\n",
       " 6,\n",
       " 7,\n",
       " 7,\n",
       " 3,\n",
       " 8,\n",
       " 8,\n",
       " 10,\n",
       " 10,\n",
       " 9,\n",
       " 8,\n",
       " 6,\n",
       " 9,\n",
       " 8,\n",
       " 12,\n",
       " 6,\n",
       " 8,\n",
       " 8,\n",
       " 10,\n",
       " 9,\n",
       " 7,\n",
       " 6,\n",
       " 7,\n",
       " 8,\n",
       " 4,\n",
       " 8,\n",
       " 10,\n",
       " 10,\n",
       " 6,\n",
       " 8,\n",
       " 7,\n",
       " 8,\n",
       " 6,\n",
       " 5,\n",
       " 7,\n",
       " 10,\n",
       " 9,\n",
       " 6,\n",
       " 8,\n",
       " 8,\n",
       " 10,\n",
       " 3,\n",
       " 8,\n",
       " 10,\n",
       " 8,\n",
       " 8,\n",
       " 12,\n",
       " 6,\n",
       " 12,\n",
       " 7,\n",
       " 6,\n",
       " 9,\n",
       " 8,\n",
       " 12,\n",
       " 8,\n",
       " 12,\n",
       " 5,\n",
       " 8,\n",
       " 7,\n",
       " 8,\n",
       " 8,\n",
       " 7,\n",
       " 4,\n",
       " 8,\n",
       " 9,\n",
       " 6,\n",
       " 7,\n",
       " 3,\n",
       " 8,\n",
       " 8,\n",
       " 8,\n",
       " 10,\n",
       " 7,\n",
       " 9,\n",
       " 8,\n",
       " 8,\n",
       " 8,\n",
       " 12,\n",
       " 8,\n",
       " 10,\n",
       " 10,\n",
       " 8,\n",
       " 6,\n",
       " 7,\n",
       " 5,\n",
       " 6,\n",
       " 7,\n",
       " 10,\n",
       " 10,\n",
       " 8,\n",
       " 10,\n",
       " 8,\n",
       " 10,\n",
       " 9,\n",
       " 4,\n",
       " 8,\n",
       " 7,\n",
       " 9,\n",
       " 8,\n",
       " 7,\n",
       " 12,\n",
       " 9,\n",
       " 8,\n",
       " 12,\n",
       " 15,\n",
       " 12,\n",
       " 10,\n",
       " 8,\n",
       " 8,\n",
       " 10,\n",
       " 8,\n",
       " 9,\n",
       " 8,\n",
       " 7,\n",
       " 10,\n",
       " 15,\n",
       " 8,\n",
       " 12,\n",
       " 7,\n",
       " 8,\n",
       " 9,\n",
       " 7,\n",
       " 8,\n",
       " 9,\n",
       " 7,\n",
       " 8,\n",
       " 9,\n",
       " 8,\n",
       " 8,\n",
       " 9,\n",
       " 8,\n",
       " 10,\n",
       " 9,\n",
       " 8,\n",
       " 10,\n",
       " 8,\n",
       " 10,\n",
       " 10,\n",
       " 9,\n",
       " 6,\n",
       " 10,\n",
       " 8,\n",
       " 6,\n",
       " 10,\n",
       " 6,\n",
       " 9,\n",
       " 6,\n",
       " 8,\n",
       " 8,\n",
       " 12,\n",
       " 7,\n",
       " 8,\n",
       " 8,\n",
       " 9,\n",
       " 8,\n",
       " 10,\n",
       " 10,\n",
       " 12,\n",
       " 10,\n",
       " 7,\n",
       " 7,\n",
       " 8,\n",
       " 10,\n",
       " 6,\n",
       " 8,\n",
       " 8,\n",
       " 8,\n",
       " 7,\n",
       " 5,\n",
       " 5,\n",
       " 8,\n",
       " 3,\n",
       " 9,\n",
       " 8,\n",
       " 10,\n",
       " 9,\n",
       " 10,\n",
       " 7,\n",
       " 4,\n",
       " 8,\n",
       " 6,\n",
       " 10,\n",
       " 8,\n",
       " 12,\n",
       " 9,\n",
       " 8,\n",
       " 8,\n",
       " 5,\n",
       " 5,\n",
       " 8,\n",
       " 8,\n",
       " 10,\n",
       " 9,\n",
       " 7,\n",
       " 9,\n",
       " 5,\n",
       " 10,\n",
       " 8,\n",
       " 4,\n",
       " 8,\n",
       " 5,\n",
       " 6,\n",
       " 8,\n",
       " 6,\n",
       " 10,\n",
       " 9,\n",
       " 6,\n",
       " 8,\n",
       " 8,\n",
       " 10,\n",
       " 8,\n",
       " 8,\n",
       " 8,\n",
       " 8,\n",
       " 8,\n",
       " 8,\n",
       " 8,\n",
       " 7,\n",
       " 9,\n",
       " 8,\n",
       " 4,\n",
       " 8,\n",
       " 8,\n",
       " 7,\n",
       " 8,\n",
       " 9,\n",
       " 7,\n",
       " 9,\n",
       " 8,\n",
       " 10,\n",
       " 8,\n",
       " 10,\n",
       " 10,\n",
       " 8,\n",
       " 8,\n",
       " 8,\n",
       " 8,\n",
       " 8,\n",
       " 5,\n",
       " 8,\n",
       " 8,\n",
       " 12,\n",
       " 9,\n",
       " 4,\n",
       " 8,\n",
       " 6,\n",
       " 5,\n",
       " 9,\n",
       " 6,\n",
       " 8,\n",
       " 9,\n",
       " 8,\n",
       " 7,\n",
       " 9,\n",
       " 10,\n",
       " 8,\n",
       " 7,\n",
       " 9,\n",
       " 8,\n",
       " 9,\n",
       " 7,\n",
       " 7,\n",
       " 8,\n",
       " 6,\n",
       " 10,\n",
       " 10,\n",
       " 10,\n",
       " 9,\n",
       " 8,\n",
       " 5,\n",
       " 10,\n",
       " 12,\n",
       " 8,\n",
       " 10,\n",
       " 7,\n",
       " 10,\n",
       " 15,\n",
       " 9,\n",
       " 4,\n",
       " 10,\n",
       " 12,\n",
       " 9,\n",
       " 9,\n",
       " 8,\n",
       " 6,\n",
       " 8,\n",
       " 9,\n",
       " 10,\n",
       " 3,\n",
       " 9,\n",
       " 6,\n",
       " 7,\n",
       " 8,\n",
       " 6,\n",
       " 7,\n",
       " 6,\n",
       " 9,\n",
       " 6,\n",
       " 6,\n",
       " 10,\n",
       " 6,\n",
       " 5,\n",
       " 7,\n",
       " 12,\n",
       " 3,\n",
       " 12,\n",
       " 8,\n",
       " 8,\n",
       " 10,\n",
       " 8,\n",
       " 6,\n",
       " 6,\n",
       " 12,\n",
       " 8,\n",
       " 6,\n",
       " 8,\n",
       " 9,\n",
       " 7,\n",
       " 8,\n",
       " 10,\n",
       " 10,\n",
       " 7,\n",
       " 8,\n",
       " 5,\n",
       " 8,\n",
       " 4,\n",
       " 12,\n",
       " 7,\n",
       " 7,\n",
       " 8,\n",
       " 10,\n",
       " 10,\n",
       " 9,\n",
       " 9,\n",
       " 10,\n",
       " 7,\n",
       " 9,\n",
       " 7,\n",
       " 7,\n",
       " 8,\n",
       " 7,\n",
       " 10,\n",
       " 5,\n",
       " 6,\n",
       " 10,\n",
       " 9,\n",
       " 8,\n",
       " 9,\n",
       " 7,\n",
       " 8,\n",
       " 12,\n",
       " 10,\n",
       " 9,\n",
       " 8,\n",
       " 6,\n",
       " 7,\n",
       " 10,\n",
       " 9,\n",
       " 4,\n",
       " 10,\n",
       " 8,\n",
       " 8,\n",
       " 10,\n",
       " 9,\n",
       " 9,\n",
       " 10,\n",
       " 8,\n",
       " 6,\n",
       " 8,\n",
       " 7,\n",
       " 9,\n",
       " 9,\n",
       " 9,\n",
       " 9,\n",
       " 8,\n",
       " 8,\n",
       " 6,\n",
       " 9,\n",
       " 12,\n",
       " 10,\n",
       " 7,\n",
       " 7,\n",
       " 6,\n",
       " 8,\n",
       " 6,\n",
       " 9,\n",
       " 8,\n",
       " 6,\n",
       " 9,\n",
       " 10,\n",
       " 6,\n",
       " 10,\n",
       " 8,\n",
       " 9,\n",
       " 12,\n",
       " 8,\n",
       " 8,\n",
       " 8,\n",
       " 5,\n",
       " 10,\n",
       " 9,\n",
       " 12,\n",
       " 8,\n",
       " 8,\n",
       " 9,\n",
       " 10,\n",
       " 9,\n",
       " 8,\n",
       " 8,\n",
       " 10,\n",
       " 8,\n",
       " 12,\n",
       " 10,\n",
       " 3,\n",
       " 8,\n",
       " 9,\n",
       " 5,\n",
       " 5,\n",
       " 8,\n",
       " 12,\n",
       " 7,\n",
       " 6,\n",
       " 7,\n",
       " 5,\n",
       " 9,\n",
       " 4,\n",
       " 8,\n",
       " 6,\n",
       " 7,\n",
       " 8,\n",
       " 6,\n",
       " 7,\n",
       " 6,\n",
       " 6,\n",
       " 8,\n",
       " 8,\n",
       " 6,\n",
       " 10,\n",
       " 12,\n",
       " 9,\n",
       " 10,\n",
       " 10,\n",
       " 9,\n",
       " 8,\n",
       " 9,\n",
       " 8,\n",
       " 7,\n",
       " 8,\n",
       " 9,\n",
       " 8,\n",
       " 5,\n",
       " 8,\n",
       " 8,\n",
       " 5,\n",
       " 12,\n",
       " 9,\n",
       " 10,\n",
       " 7,\n",
       " 7,\n",
       " 8,\n",
       " 6,\n",
       " 7,\n",
       " 4,\n",
       " 8,\n",
       " 5,\n",
       " 7,\n",
       " 8,\n",
       " 9,\n",
       " 8,\n",
       " 9,\n",
       " 6,\n",
       " 10,\n",
       " 8,\n",
       " 8,\n",
       " 8,\n",
       " 6,\n",
       " 12,\n",
       " 8,\n",
       " 8,\n",
       " 9,\n",
       " 15,\n",
       " 9,\n",
       " 8,\n",
       " 8,\n",
       " 8,\n",
       " 8,\n",
       " 9,\n",
       " 4,\n",
       " 9,\n",
       " 5,\n",
       " 8,\n",
       " 8,\n",
       " 8,\n",
       " 10,\n",
       " 8,\n",
       " 8,\n",
       " 7,\n",
       " 8,\n",
       " 6,\n",
       " 6,\n",
       " 12,\n",
       " 8,\n",
       " 8,\n",
       " 8,\n",
       " 10,\n",
       " 15,\n",
       " 7,\n",
       " 8,\n",
       " 6,\n",
       " 5,\n",
       " 10,\n",
       " 3,\n",
       " 15,\n",
       " 8,\n",
       " 8,\n",
       " 8,\n",
       " 8,\n",
       " 6,\n",
       " 8,\n",
       " 5,\n",
       " 6,\n",
       " 7,\n",
       " 3,\n",
       " 7,\n",
       " 5,\n",
       " 5,\n",
       " 4,\n",
       " 6,\n",
       " 7,\n",
       " 8,\n",
       " 8,\n",
       " 10,\n",
       " 8,\n",
       " 12,\n",
       " 12,\n",
       " 3,\n",
       " 10,\n",
       " 9,\n",
       " 10,\n",
       " 8,\n",
       " 8,\n",
       " 9,\n",
       " 7,\n",
       " 10,\n",
       " 9,\n",
       " 6,\n",
       " 7,\n",
       " 9,\n",
       " 10,\n",
       " 8,\n",
       " 12,\n",
       " 5,\n",
       " 10,\n",
       " 10,\n",
       " 7,\n",
       " 9,\n",
       " 8,\n",
       " 10,\n",
       " 7,\n",
       " 5,\n",
       " 4,\n",
       " 8,\n",
       " 8,\n",
       " 6,\n",
       " 8,\n",
       " 7,\n",
       " 7,\n",
       " 7,\n",
       " 3,\n",
       " 9,\n",
       " 8,\n",
       " 15,\n",
       " 8,\n",
       " 8,\n",
       " 10,\n",
       " 9,\n",
       " 8,\n",
       " 3,\n",
       " 5,\n",
       " 5,\n",
       " 9,\n",
       " 8,\n",
       " 7,\n",
       " 8,\n",
       " 9,\n",
       " 10,\n",
       " 8,\n",
       " 15,\n",
       " 6,\n",
       " 12,\n",
       " 6,\n",
       " 5,\n",
       " 9,\n",
       " 8,\n",
       " 9,\n",
       " 9,\n",
       " 5,\n",
       " 9,\n",
       " 10,\n",
       " 9,\n",
       " 6,\n",
       " 8,\n",
       " 8,\n",
       " 8,\n",
       " 8,\n",
       " 10,\n",
       " 8,\n",
       " 10,\n",
       " 8,\n",
       " 9,\n",
       " 10,\n",
       " 6,\n",
       " 7,\n",
       " 7,\n",
       " 10,\n",
       " 8,\n",
       " 8,\n",
       " 9,\n",
       " 10,\n",
       " 8,\n",
       " 9,\n",
       " 8,\n",
       " 9,\n",
       " 8,\n",
       " 9,\n",
       " 10,\n",
       " 9,\n",
       " 10,\n",
       " 8,\n",
       " 7,\n",
       " 10,\n",
       " 8,\n",
       " 10,\n",
       " 8,\n",
       " 9]"
      ]
     },
     "execution_count": 274,
     "metadata": {},
     "output_type": "execute_result"
    }
   ],
   "source": [
    "predictions = [predictions[i].argmax() for i in range(len(predictions))]\n",
    "predictions"
   ]
  }
 ],
 "metadata": {
  "kernelspec": {
   "display_name": "Python 3",
   "language": "python",
   "name": "python3"
  },
  "language_info": {
   "codemirror_mode": {
    "name": "ipython",
    "version": 3
   },
   "file_extension": ".py",
   "mimetype": "text/x-python",
   "name": "python",
   "nbconvert_exporter": "python",
   "pygments_lexer": "ipython3",
   "version": "3.8.4"
  }
 },
 "nbformat": 4,
 "nbformat_minor": 4
}
