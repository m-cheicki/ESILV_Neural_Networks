{
  "nbformat": 4,
  "nbformat_minor": 0,
  "metadata": {
    "colab": {
      "name": "CNN_for_CIFAR_10.ipynb",
      "provenance": [],
      "collapsed_sections": [],
      "authorship_tag": "ABX9TyNl8ZTHwOA2fq3QhlQeWnrj",
      "include_colab_link": true
    },
    "kernelspec": {
      "name": "python3",
      "display_name": "Python 3"
    }
  },
  "cells": [
    {
      "cell_type": "markdown",
      "metadata": {
        "id": "view-in-github",
        "colab_type": "text"
      },
      "source": [
        "<a href=\"https://colab.research.google.com/github/m-cheicki/ESILV_Neural_Networks/blob/main/CNN_for_CIFAR_10.ipynb\" target=\"_parent\"><img src=\"https://colab.research.google.com/assets/colab-badge.svg\" alt=\"Open In Colab\"/></a>"
      ]
    },
    {
      "cell_type": "markdown",
      "metadata": {
        "id": "J0cEpJRVBtqr"
      },
      "source": [
        "# Convolutional Neural Network for CIFAR-10 - Image Classification"
      ]
    },
    {
      "cell_type": "markdown",
      "metadata": {
        "id": "lYqtPXpwCHSA"
      },
      "source": [
        "## How to activate GPU in Google Colab"
      ]
    },
    {
      "cell_type": "code",
      "metadata": {
        "id": "yo1Ung3oBmFw"
      },
      "source": [
        ""
      ],
      "execution_count": null,
      "outputs": []
    }
  ]
}