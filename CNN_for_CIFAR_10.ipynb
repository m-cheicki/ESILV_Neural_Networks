{
  "nbformat": 4,
  "nbformat_minor": 0,
  "metadata": {
    "colab": {
      "name": "CNN_for_CIFAR_10.ipynb",
      "provenance": [],
      "collapsed_sections": [],
      "authorship_tag": "ABX9TyMb59YF3vhGZ/N9MPGC+CBp",
      "include_colab_link": true
    },
    "kernelspec": {
      "name": "python3",
      "display_name": "Python 3"
    },
    "accelerator": "GPU"
  },
  "cells": [
    {
      "cell_type": "markdown",
      "metadata": {
        "id": "view-in-github",
        "colab_type": "text"
      },
      "source": [
        "<a href=\"https://colab.research.google.com/github/m-cheicki/ESILV_Neural_Networks/blob/main/CNN_for_CIFAR_10.ipynb\" target=\"_parent\"><img src=\"https://colab.research.google.com/assets/colab-badge.svg\" alt=\"Open In Colab\"/></a>"
      ]
    },
    {
      "cell_type": "markdown",
      "metadata": {
        "id": "J0cEpJRVBtqr"
      },
      "source": [
        "# Convolutional Neural Network for CIFAR-10 - Image Classification"
      ]
    },
    {
      "cell_type": "markdown",
      "metadata": {
        "id": "lYqtPXpwCHSA"
      },
      "source": [
        "## How to activate GPU in Google Colab\r\n",
        "\r\n",
        "Go to Edit -> Notebook Settings and choose \"GPU\". \r\n",
        "\r\n",
        "Check if it is working by running this following code : \r\n"
      ]
    },
    {
      "cell_type": "code",
      "metadata": {
        "id": "yo1Ung3oBmFw"
      },
      "source": [
        "try: \r\n",
        "  # %tensorflow_version only exists in Colab\r\n",
        "  %tensorflow_version 2.x\r\n",
        "except Exception: \r\n",
        "  pass"
      ],
      "execution_count": 3,
      "outputs": []
    },
    {
      "cell_type": "code",
      "metadata": {
        "colab": {
          "base_uri": "https://localhost:8080/",
          "height": 35
        },
        "id": "w-gXaRf1EpC5",
        "outputId": "86db878f-a458-4652-8352-5123c63b2c2d"
      },
      "source": [
        "import tensorflow as tf\r\n",
        "tf.test.gpu_device_name()"
      ],
      "execution_count": 4,
      "outputs": [
        {
          "output_type": "execute_result",
          "data": {
            "application/vnd.google.colaboratory.intrinsic+json": {
              "type": "string"
            },
            "text/plain": [
              "'/device:GPU:0'"
            ]
          },
          "metadata": {
            "tags": []
          },
          "execution_count": 4
        }
      ]
    },
    {
      "cell_type": "markdown",
      "metadata": {
        "id": "kGAv7CofE5rV"
      },
      "source": [
        "The output `/device:GPU:0` tells us that the GPU is working just fine!"
      ]
    },
    {
      "cell_type": "code",
      "metadata": {
        "colab": {
          "base_uri": "https://localhost:8080/"
        },
        "id": "kU7QEfDYE4jZ",
        "outputId": "540a1918-6048-4a37-d4ab-c24dafad3775"
      },
      "source": [
        "from tensorflow.python.client import device_lib\r\n",
        "device_lib.list_local_devices()"
      ],
      "execution_count": 5,
      "outputs": [
        {
          "output_type": "execute_result",
          "data": {
            "text/plain": [
              "[name: \"/device:CPU:0\"\n",
              " device_type: \"CPU\"\n",
              " memory_limit: 268435456\n",
              " locality {\n",
              " }\n",
              " incarnation: 15953558114348736357, name: \"/device:GPU:0\"\n",
              " device_type: \"GPU\"\n",
              " memory_limit: 14674281152\n",
              " locality {\n",
              "   bus_id: 1\n",
              "   links {\n",
              "   }\n",
              " }\n",
              " incarnation: 14927210931358530049\n",
              " physical_device_desc: \"device: 0, name: Tesla T4, pci bus id: 0000:00:04.0, compute capability: 7.5\"]"
            ]
          },
          "metadata": {
            "tags": []
          },
          "execution_count": 5
        }
      ]
    },
    {
      "cell_type": "markdown",
      "metadata": {
        "id": "oqbj_a1wFdpn"
      },
      "source": [
        "## Exercises "
      ]
    },
    {
      "cell_type": "markdown",
      "metadata": {
        "id": "s6cSHlfKFizc"
      },
      "source": [
        "### Ex 1: Load the data"
      ]
    },
    {
      "cell_type": "code",
      "metadata": {
        "id": "1hxrc7ThHzJo"
      },
      "source": [
        "import numpy as np\r\n",
        "from tensorflow import keras\r\n",
        "from keras.utils import to_categorical\r\n",
        "from keras.models import Sequential\r\n",
        "from keras.layers import Dense, Conv2D, Flatten, MaxPooling2D"
      ],
      "execution_count": 41,
      "outputs": []
    },
    {
      "cell_type": "code",
      "metadata": {
        "id": "ZE8w9oKPO6NL"
      },
      "source": [
        "# load train and test dataset\r\n",
        "def load_dataset():\r\n",
        "\t(x_train, y_train), (x_test, y_test) = keras.datasets.cifar10.load_data()\r\n",
        "\t# one hot encode target values\r\n",
        "\ty_train = to_categorical(y_train)\r\n",
        "\ty_test = to_categorical(y_test)\r\n",
        "\treturn x_train, y_train, x_test, y_test"
      ],
      "execution_count": 35,
      "outputs": []
    },
    {
      "cell_type": "code",
      "metadata": {
        "id": "QIHI6BlTFgck"
      },
      "source": [
        "x_train, y_train, x_test, y_test = load_dataset()"
      ],
      "execution_count": 37,
      "outputs": []
    },
    {
      "cell_type": "code",
      "metadata": {
        "colab": {
          "base_uri": "https://localhost:8080/"
        },
        "id": "LLmkLi2BGHOY",
        "outputId": "76b97e73-75fa-404b-f6d0-28c65653b8d4"
      },
      "source": [
        "(x_train.shape, y_train.shape), (x_test.shape, y_test.shape)"
      ],
      "execution_count": 38,
      "outputs": [
        {
          "output_type": "execute_result",
          "data": {
            "text/plain": [
              "(((50000, 32, 32, 3), (50000, 10)), ((10000, 32, 32, 3), (10000, 10)))"
            ]
          },
          "metadata": {
            "tags": []
          },
          "execution_count": 38
        }
      ]
    },
    {
      "cell_type": "markdown",
      "metadata": {
        "id": "Loy3OWtCGeCF"
      },
      "source": [
        "### Ex 2: Normalize data"
      ]
    },
    {
      "cell_type": "code",
      "metadata": {
        "id": "iYy4EHbAGjEC"
      },
      "source": [
        "def normalize(train, test):\r\n",
        "  # convert int to float32\r\n",
        "\ttrain_norm = train.astype('float32')\r\n",
        "\ttest_norm = test.astype('float32')\r\n",
        " \r\n",
        "\t# normalize to range 0-1\r\n",
        "\ttrain_norm = train_norm / 255.0\r\n",
        "\ttest_norm = test_norm / 255.0\r\n",
        "\r\n",
        "\t# return normalized images\r\n",
        "\treturn train_norm, test_norm"
      ],
      "execution_count": 39,
      "outputs": []
    },
    {
      "cell_type": "code",
      "metadata": {
        "id": "0QV0C4q_Iism"
      },
      "source": [
        "x_train, x_test = normalize(x_train, x_test)"
      ],
      "execution_count": 40,
      "outputs": []
    },
    {
      "cell_type": "markdown",
      "metadata": {
        "id": "xBeXP_u9QMim"
      },
      "source": [
        "### Ex 3: Define the model"
      ]
    },
    {
      "cell_type": "code",
      "metadata": {
        "id": "ojFfk2R0QRJD"
      },
      "source": [
        "def define_model(): \r\n",
        "  # CONV - POOL - CONV - POOL - CONV - POOL - FC - FC\r\n",
        "  model = Sequential()\r\n",
        "\r\n",
        "  model.add(Conv2D(filters = 32, kernel_size = 3, activation='relu', data_format = 'channels_last' , padding='same', input_shape=(32, 32, 3))\r\n",
        "  model.add(MaxPooling2D(pool_size = (2,2), strides = 2, padding='same'))\r\n",
        "\r\n",
        "  model.add(Conv2D(filters = 64, kernel_size = 3, activation='relu', padding='same'))\r\n",
        "  model.add(MaxPooling2D(pool_size = (2,2), strides = 2, padding='same'))\r\n",
        "\r\n",
        "  model.add(Conv2D(filters = 64, kernel_size = 3, activation='relu', padding='same'))\r\n",
        "  model.add(MaxPooling2D(pool_size = (2,2), strides = 2, padding='same'))\r\n",
        "  \r\n",
        "  # Flatten output of the previous layer\r\n",
        "  model.add(Flatten())\r\n",
        "\r\n",
        "  # Fully-Connected (FC) layers\r\n",
        "  model.add(Dense(512, activation='relu'))\r\n",
        "  model.add(Dense(10, activation='softmax'))\r\n"
      ],
      "execution_count": null,
      "outputs": []
    }
  ]
}