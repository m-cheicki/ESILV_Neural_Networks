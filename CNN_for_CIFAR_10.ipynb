{
  "nbformat": 4,
  "nbformat_minor": 0,
  "metadata": {
    "colab": {
      "name": "CNN_for_CIFAR_10.ipynb",
      "provenance": [],
      "collapsed_sections": [],
      "authorship_tag": "ABX9TyMlYavB6a9psOA6AZuLDM4i",
      "include_colab_link": true
    },
    "kernelspec": {
      "name": "python3",
      "display_name": "Python 3"
    },
    "accelerator": "GPU"
  },
  "cells": [
    {
      "cell_type": "markdown",
      "metadata": {
        "id": "view-in-github",
        "colab_type": "text"
      },
      "source": [
        "<a href=\"https://colab.research.google.com/github/m-cheicki/ESILV_Neural_Networks/blob/main/CNN_for_CIFAR_10.ipynb\" target=\"_parent\"><img src=\"https://colab.research.google.com/assets/colab-badge.svg\" alt=\"Open In Colab\"/></a>"
      ]
    },
    {
      "cell_type": "markdown",
      "metadata": {
        "id": "J0cEpJRVBtqr"
      },
      "source": [
        "# Convolutional Neural Network for CIFAR-10 - Image Classification"
      ]
    },
    {
      "cell_type": "markdown",
      "metadata": {
        "id": "lYqtPXpwCHSA"
      },
      "source": [
        "## How to activate GPU in Google Colab\r\n",
        "\r\n",
        "Go to Edit -> Notebook Settings and choose \"GPU\". \r\n",
        "\r\n",
        "Check if it is working by running this following code : \r\n"
      ]
    },
    {
      "cell_type": "code",
      "metadata": {
        "id": "yo1Ung3oBmFw"
      },
      "source": [
        "try: \r\n",
        "  # %tensorflow_version only exists in Colab\r\n",
        "  %tensorflow_version 2.x\r\n",
        "except Exception: \r\n",
        "  pass"
      ],
      "execution_count": 2,
      "outputs": []
    },
    {
      "cell_type": "code",
      "metadata": {
        "colab": {
          "base_uri": "https://localhost:8080/",
          "height": 35
        },
        "id": "w-gXaRf1EpC5",
        "outputId": "eed03911-1a25-4ce3-c32e-fade32b03ce1"
      },
      "source": [
        "import tensorflow as tf\r\n",
        "tf.test.gpu_device_name()"
      ],
      "execution_count": 3,
      "outputs": [
        {
          "output_type": "execute_result",
          "data": {
            "application/vnd.google.colaboratory.intrinsic+json": {
              "type": "string"
            },
            "text/plain": [
              "'/device:GPU:0'"
            ]
          },
          "metadata": {
            "tags": []
          },
          "execution_count": 3
        }
      ]
    },
    {
      "cell_type": "markdown",
      "metadata": {
        "id": "kGAv7CofE5rV"
      },
      "source": [
        "The output `/device:GPU:0` tells us that the GPU is working just fine!"
      ]
    },
    {
      "cell_type": "code",
      "metadata": {
        "colab": {
          "base_uri": "https://localhost:8080/"
        },
        "id": "kU7QEfDYE4jZ",
        "outputId": "243773ab-c229-41e1-9382-4769347bfd2f"
      },
      "source": [
        "from tensorflow.python.client import device_lib\r\n",
        "device_lib.list_local_devices()"
      ],
      "execution_count": 4,
      "outputs": [
        {
          "output_type": "execute_result",
          "data": {
            "text/plain": [
              "[name: \"/device:CPU:0\"\n",
              " device_type: \"CPU\"\n",
              " memory_limit: 268435456\n",
              " locality {\n",
              " }\n",
              " incarnation: 6039860268148317015, name: \"/device:GPU:0\"\n",
              " device_type: \"GPU\"\n",
              " memory_limit: 14674281152\n",
              " locality {\n",
              "   bus_id: 1\n",
              "   links {\n",
              "   }\n",
              " }\n",
              " incarnation: 1564896512461343074\n",
              " physical_device_desc: \"device: 0, name: Tesla T4, pci bus id: 0000:00:04.0, compute capability: 7.5\"]"
            ]
          },
          "metadata": {
            "tags": []
          },
          "execution_count": 4
        }
      ]
    },
    {
      "cell_type": "markdown",
      "metadata": {
        "id": "oqbj_a1wFdpn"
      },
      "source": [
        "## Exercises "
      ]
    },
    {
      "cell_type": "markdown",
      "metadata": {
        "id": "s6cSHlfKFizc"
      },
      "source": [
        "### Ex 1: Load the data"
      ]
    },
    {
      "cell_type": "code",
      "metadata": {
        "id": "1hxrc7ThHzJo"
      },
      "source": [
        "import numpy as np\r\n",
        "from tensorflow import keras\r\n",
        "from keras.utils import to_categorical\r\n",
        "from keras.models import Sequential\r\n",
        "from keras.layers import Dense, Conv2D, Flatten, MaxPooling2D, Dropout"
      ],
      "execution_count": 85,
      "outputs": []
    },
    {
      "cell_type": "code",
      "metadata": {
        "id": "ZE8w9oKPO6NL"
      },
      "source": [
        "# Load CIFAR-10 dataset\r\n",
        "(x_train, y_train), (x_test, y_test) = keras.datasets.cifar10.load_data()"
      ],
      "execution_count": 17,
      "outputs": []
    },
    {
      "cell_type": "code",
      "metadata": {
        "colab": {
          "base_uri": "https://localhost:8080/"
        },
        "id": "LLmkLi2BGHOY",
        "outputId": "ed0130f8-1428-44a2-a271-0d7d426d0494"
      },
      "source": [
        "(x_train.shape, y_train.shape), (x_test.shape, y_test.shape)"
      ],
      "execution_count": 18,
      "outputs": [
        {
          "output_type": "execute_result",
          "data": {
            "text/plain": [
              "(((50000, 32, 32, 3), (50000, 1)), ((10000, 32, 32, 3), (10000, 1)))"
            ]
          },
          "metadata": {
            "tags": []
          },
          "execution_count": 18
        }
      ]
    },
    {
      "cell_type": "markdown",
      "metadata": {
        "id": "Loy3OWtCGeCF"
      },
      "source": [
        "### Ex 2: Normalize data"
      ]
    },
    {
      "cell_type": "code",
      "metadata": {
        "id": "iYy4EHbAGjEC"
      },
      "source": [
        "def normalize(train, test):\r\n",
        "  # convert int to float32\r\n",
        "\ttrain_norm = train.astype('float32')\r\n",
        "\ttest_norm = test.astype('float32')\r\n",
        " \r\n",
        "\t# normalize to range 0-1\r\n",
        "\ttrain_norm = train_norm / 255.0\r\n",
        "\ttest_norm = test_norm / 255.0\r\n",
        "\r\n",
        "\t# return normalized images\r\n",
        "\treturn train_norm, test_norm"
      ],
      "execution_count": 10,
      "outputs": []
    },
    {
      "cell_type": "code",
      "metadata": {
        "id": "0QV0C4q_Iism"
      },
      "source": [
        "x_train, x_test = normalize(x_train, x_test)"
      ],
      "execution_count": 11,
      "outputs": []
    },
    {
      "cell_type": "markdown",
      "metadata": {
        "id": "xBeXP_u9QMim"
      },
      "source": [
        "### Ex 3: Define the model (NET I)"
      ]
    },
    {
      "cell_type": "code",
      "metadata": {
        "id": "ojFfk2R0QRJD"
      },
      "source": [
        "def define_model(): \r\n",
        "  # CONV - POOL - CONV - POOL - CONV - POOL - FC - FC\r\n",
        "  model = Sequential()\r\n",
        "\r\n",
        "  model.add(Conv2D(filters = 32, kernel_size = 3, activation='relu', data_format = 'channels_last', padding='valid', input_shape=(32, 32, 3)))\r\n",
        "  model.add(MaxPooling2D(pool_size = (2,2), strides = 2))\r\n",
        "\r\n",
        "  model.add(Conv2D(filters = 64, kernel_size = 3, activation='relu', padding='valid'))\r\n",
        "  model.add(MaxPooling2D(pool_size = (2,2), strides = 2))\r\n",
        "\r\n",
        "  model.add(Conv2D(filters = 64, kernel_size = 3, activation='relu', padding='valid'))\r\n",
        "  model.add(MaxPooling2D(pool_size = (2,2), strides = 2))\r\n",
        "  \r\n",
        "  # Flatten output of the previous layer\r\n",
        "  model.add(Flatten())\r\n",
        "\r\n",
        "  # Fully-Connected (FC) layers\r\n",
        "  model.add(Dense(512, activation='relu'))\r\n",
        "  model.add(Dense(10, activation='softmax'))\r\n",
        "\r\n",
        "  return model\r\n"
      ],
      "execution_count": 65,
      "outputs": []
    },
    {
      "cell_type": "markdown",
      "metadata": {
        "id": "q9LPZwrYXCyy"
      },
      "source": [
        "### Ex 4: Model Summary"
      ]
    },
    {
      "cell_type": "code",
      "metadata": {
        "colab": {
          "base_uri": "https://localhost:8080/"
        },
        "id": "wGvPBrYIVtlW",
        "outputId": "2118669a-99cd-4aa0-d40e-532e2652df68"
      },
      "source": [
        "model = define_model()\r\n",
        "model.summary()"
      ],
      "execution_count": 66,
      "outputs": [
        {
          "output_type": "stream",
          "text": [
            "Model: \"sequential_3\"\n",
            "_________________________________________________________________\n",
            "Layer (type)                 Output Shape              Param #   \n",
            "=================================================================\n",
            "conv2d_9 (Conv2D)            (None, 30, 30, 32)        896       \n",
            "_________________________________________________________________\n",
            "max_pooling2d_9 (MaxPooling2 (None, 15, 15, 32)        0         \n",
            "_________________________________________________________________\n",
            "conv2d_10 (Conv2D)           (None, 13, 13, 64)        18496     \n",
            "_________________________________________________________________\n",
            "max_pooling2d_10 (MaxPooling (None, 6, 6, 64)          0         \n",
            "_________________________________________________________________\n",
            "conv2d_11 (Conv2D)           (None, 4, 4, 64)          36928     \n",
            "_________________________________________________________________\n",
            "max_pooling2d_11 (MaxPooling (None, 2, 2, 64)          0         \n",
            "_________________________________________________________________\n",
            "flatten_3 (Flatten)          (None, 256)               0         \n",
            "_________________________________________________________________\n",
            "dense_6 (Dense)              (None, 512)               131584    \n",
            "_________________________________________________________________\n",
            "dense_7 (Dense)              (None, 10)                5130      \n",
            "=================================================================\n",
            "Total params: 193,034\n",
            "Trainable params: 193,034\n",
            "Non-trainable params: 0\n",
            "_________________________________________________________________\n"
          ],
          "name": "stdout"
        }
      ]
    },
    {
      "cell_type": "markdown",
      "metadata": {
        "id": "9VC7jO-HXNsQ"
      },
      "source": [
        "### Ex 5: Compile the model\r\n"
      ]
    },
    {
      "cell_type": "code",
      "metadata": {
        "id": "-TaP9_j-XSru"
      },
      "source": [
        "model.compile(optimizer = 'adam', loss = 'sparse_categorical_crossentropy', metrics = ['accuracy'])"
      ],
      "execution_count": 67,
      "outputs": []
    },
    {
      "cell_type": "markdown",
      "metadata": {
        "id": "7GoWiES2Xll2"
      },
      "source": [
        "### Ex 6: Train model"
      ]
    },
    {
      "cell_type": "code",
      "metadata": {
        "colab": {
          "base_uri": "https://localhost:8080/"
        },
        "id": "-nIOQMRG6C-u",
        "outputId": "0d83fd2f-34e4-4af0-b725-50d56eb4628c"
      },
      "source": [
        "x_train.shape, y_train.shape"
      ],
      "execution_count": 68,
      "outputs": [
        {
          "output_type": "execute_result",
          "data": {
            "text/plain": [
              "((50000, 32, 32, 3), (50000, 1))"
            ]
          },
          "metadata": {
            "tags": []
          },
          "execution_count": 68
        }
      ]
    },
    {
      "cell_type": "code",
      "metadata": {
        "id": "BHC2msddXp1t"
      },
      "source": [
        "history = model.fit(x_train, y_train, batch_size=128, epochs=20, validation_split=0.2, verbose=0)"
      ],
      "execution_count": 69,
      "outputs": []
    },
    {
      "cell_type": "markdown",
      "metadata": {
        "id": "5-SfZ2PumTcc"
      },
      "source": [
        "### Ex 7: Evaluate the model"
      ]
    },
    {
      "cell_type": "code",
      "metadata": {
        "colab": {
          "base_uri": "https://localhost:8080/"
        },
        "id": "frrgQ4ihmS8U",
        "outputId": "6b857fd0-25ee-4276-91cd-00d9c6058f89"
      },
      "source": [
        "test_loss, test_acc = model.evaluate(x_test, y_test)\r\n",
        "test_loss, test_acc"
      ],
      "execution_count": 70,
      "outputs": [
        {
          "output_type": "stream",
          "text": [
            "313/313 [==============================] - 1s 2ms/step - loss: 1.4498 - accuracy: 0.6250\n"
          ],
          "name": "stdout"
        },
        {
          "output_type": "execute_result",
          "data": {
            "text/plain": [
              "(1.4497840404510498, 0.625)"
            ]
          },
          "metadata": {
            "tags": []
          },
          "execution_count": 70
        }
      ]
    },
    {
      "cell_type": "markdown",
      "metadata": {
        "id": "5xhkh8Usm5Lv"
      },
      "source": [
        "### Ex 8: Predict"
      ]
    },
    {
      "cell_type": "code",
      "metadata": {
        "id": "KkaOJ1x1m-tQ"
      },
      "source": [
        "predictions = model.predict(x_test)"
      ],
      "execution_count": 71,
      "outputs": []
    },
    {
      "cell_type": "code",
      "metadata": {
        "id": "XGYUdU4LnH03"
      },
      "source": [
        "predictions = [predictions[i].argmax() for i in range(len(predictions))]"
      ],
      "execution_count": 72,
      "outputs": []
    },
    {
      "cell_type": "code",
      "metadata": {
        "id": "7mz-cFAcoyFV"
      },
      "source": [
        "def accuracy(pred, actual): \r\n",
        "  count = 0 \r\n",
        "  for i in range(len(pred)): \r\n",
        "    if pred[i] == actual[i] : \r\n",
        "      count += 1\r\n",
        "  return (count/len(pred))*100"
      ],
      "execution_count": 74,
      "outputs": []
    },
    {
      "cell_type": "code",
      "metadata": {
        "colab": {
          "base_uri": "https://localhost:8080/"
        },
        "id": "-tA0NnO8pm0m",
        "outputId": "c41dda1c-b801-4324-f9db-da1cdbec8e3f"
      },
      "source": [
        "acc = accuracy(predictions, y_test)\r\n",
        "print(f'Accuracy : {acc}%')"
      ],
      "execution_count": 75,
      "outputs": [
        {
          "output_type": "stream",
          "text": [
            "Accuracy : 62.5%\n"
          ],
          "name": "stdout"
        }
      ]
    },
    {
      "cell_type": "markdown",
      "metadata": {
        "id": "2t9AFz1cp8_y"
      },
      "source": [
        "### Ex 9: History"
      ]
    },
    {
      "cell_type": "code",
      "metadata": {
        "id": "K1h9ZuxSqUSz"
      },
      "source": [
        "import matplotlib.pyplot as plt"
      ],
      "execution_count": 58,
      "outputs": []
    },
    {
      "cell_type": "code",
      "metadata": {
        "colab": {
          "base_uri": "https://localhost:8080/",
          "height": 296
        },
        "id": "VzUSgd0hqDoX",
        "outputId": "72876dfb-4438-4270-db42-e6c44282a711"
      },
      "source": [
        "plt.plot(history.history['val_accuracy'])\r\n",
        "plt.plot(history.history['accuracy'])\r\n",
        "plt.xlabel('Epochs')\r\n",
        "plt.ylabel('Accuracy')\r\n",
        "plt.legend(['validation accuracy', ' accuracy'])"
      ],
      "execution_count": 76,
      "outputs": [
        {
          "output_type": "execute_result",
          "data": {
            "text/plain": [
              "<matplotlib.legend.Legend at 0x7f34d86378d0>"
            ]
          },
          "metadata": {
            "tags": []
          },
          "execution_count": 76
        },
        {
          "output_type": "display_data",
          "data": {
            "image/png": "[encoded data removed]",
            "text/plain": [
              "<Figure size 432x288 with 1 Axes>"
            ]
          },
          "metadata": {
            "tags": [],
            "needs_background": "light"
          }
        }
      ]
    },
    {
      "cell_type": "code",
      "metadata": {
        "colab": {
          "base_uri": "https://localhost:8080/"
        },
        "id": "la9W7o3frN_m",
        "outputId": "eab0d898-c99d-4fc7-9e4e-2ceb933039d4"
      },
      "source": [
        "history.history.keys()"
      ],
      "execution_count": 62,
      "outputs": [
        {
          "output_type": "execute_result",
          "data": {
            "text/plain": [
              "dict_keys(['loss', 'accuracy', 'val_loss', 'val_accuracy'])"
            ]
          },
          "metadata": {
            "tags": []
          },
          "execution_count": 62
        }
      ]
    },
    {
      "cell_type": "markdown",
      "metadata": {
        "id": "YkgV0MClrd55"
      },
      "source": [
        "### Ex 10: "
      ]
    },
    {
      "cell_type": "code",
      "metadata": {
        "colab": {
          "base_uri": "https://localhost:8080/",
          "height": 296
        },
        "id": "C9RIegaLrgWK",
        "outputId": "cc55c9ae-e1fa-4f0c-a38d-e04ff298594e"
      },
      "source": [
        "plt.plot(history.history['val_loss'])\r\n",
        "plt.plot(history.history['loss'])\r\n",
        "plt.xlabel('Epochs')\r\n",
        "plt.ylabel('loss')\r\n",
        "plt.legend(['validation loss', ' loss'])"
      ],
      "execution_count": 77,
      "outputs": [
        {
          "output_type": "execute_result",
          "data": {
            "text/plain": [
              "<matplotlib.legend.Legend at 0x7f34d811eb50>"
            ]
          },
          "metadata": {
            "tags": []
          },
          "execution_count": 77
        },
        {
          "output_type": "display_data",
          "data": {
            "image/png": "[encoded data removed]",
            "text/plain": [
              "<Figure size 432x288 with 1 Axes>"
            ]
          },
          "metadata": {
            "tags": [],
            "needs_background": "light"
          }
        }
      ]
    },
    {
      "cell_type": "markdown",
      "metadata": {
        "id": "QFSplDwW3TXE"
      },
      "source": [
        "Validation loss curve is higher than the training loss from 4 epochs, so there is overfitting after 3 epochs."
      ]
    },
    {
      "cell_type": "markdown",
      "metadata": {
        "id": "GuztD8zDsJ_l"
      },
      "source": [
        "### Ex 11: Second model (NET II)"
      ]
    },
    {
      "cell_type": "code",
      "metadata": {
        "id": "fYTkVuRwsUay"
      },
      "source": [
        "# CONV - CONV - POOL - CONV - POOL - FC - FC \r\n",
        "second_model = Sequential()\r\n",
        "\r\n",
        "second_model.add(Conv2D(filters = 32, kernel_size = 5, activation='relu', data_format = 'channels_last', padding='valid', input_shape=(32, 32, 3)))\r\n",
        "second_model.add(Conv2D(filters = 64, kernel_size = 5, activation='relu', padding='valid'))\r\n",
        "second_model.add(MaxPooling2D(pool_size = (2,2), strides = 2))\r\n",
        "\r\n",
        "second_model.add(Conv2D(filters = 64, kernel_size = 5, activation='relu', padding='valid'))\r\n",
        "second_model.add(MaxPooling2D(pool_size = (2,2), strides = 2))\r\n",
        "\r\n",
        "# Flatten output of the previous layer\r\n",
        "second_model.add(Flatten())\r\n",
        "\r\n",
        "# Fully-Connected (FC) layers\r\n",
        "second_model.add(Dense(512, activation='relu'))\r\n",
        "second_model.add(Dense(10, activation='softmax'))"
      ],
      "execution_count": 78,
      "outputs": []
    },
    {
      "cell_type": "markdown",
      "metadata": {
        "id": "kVMN5O-NvWnw"
      },
      "source": [
        "### Ex 12: Summary of the model"
      ]
    },
    {
      "cell_type": "code",
      "metadata": {
        "colab": {
          "base_uri": "https://localhost:8080/"
        },
        "id": "tarM-FxSvaso",
        "outputId": "cca64596-d85a-41be-ef7f-a5edec19c2ed"
      },
      "source": [
        "second_model.summary()"
      ],
      "execution_count": 79,
      "outputs": [
        {
          "output_type": "stream",
          "text": [
            "Model: \"sequential_4\"\n",
            "_________________________________________________________________\n",
            "Layer (type)                 Output Shape              Param #   \n",
            "=================================================================\n",
            "conv2d_12 (Conv2D)           (None, 28, 28, 32)        2432      \n",
            "_________________________________________________________________\n",
            "conv2d_13 (Conv2D)           (None, 24, 24, 64)        51264     \n",
            "_________________________________________________________________\n",
            "max_pooling2d_12 (MaxPooling (None, 12, 12, 64)        0         \n",
            "_________________________________________________________________\n",
            "conv2d_14 (Conv2D)           (None, 8, 8, 64)          102464    \n",
            "_________________________________________________________________\n",
            "max_pooling2d_13 (MaxPooling (None, 4, 4, 64)          0         \n",
            "_________________________________________________________________\n",
            "flatten_4 (Flatten)          (None, 1024)              0         \n",
            "_________________________________________________________________\n",
            "dense_8 (Dense)              (None, 512)               524800    \n",
            "_________________________________________________________________\n",
            "dense_9 (Dense)              (None, 10)                5130      \n",
            "=================================================================\n",
            "Total params: 686,090\n",
            "Trainable params: 686,090\n",
            "Non-trainable params: 0\n",
            "_________________________________________________________________\n"
          ],
          "name": "stdout"
        }
      ]
    },
    {
      "cell_type": "markdown",
      "metadata": {
        "id": "erh00EqgviKA"
      },
      "source": [
        "### Ex 13: Compile the second model"
      ]
    },
    {
      "cell_type": "code",
      "metadata": {
        "id": "IM6pO-Y8vmFt"
      },
      "source": [
        "second_model.compile(optimizer = 'adam', loss = 'sparse_categorical_crossentropy', metrics = ['accuracy'])"
      ],
      "execution_count": 80,
      "outputs": []
    },
    {
      "cell_type": "markdown",
      "metadata": {
        "id": "kUhDOyzwv1pa"
      },
      "source": [
        "### Ex 14: Fit the second model"
      ]
    },
    {
      "cell_type": "code",
      "metadata": {
        "id": "Ep2W60m1v7xb"
      },
      "source": [
        "second_history = second_model.fit(x_train, y_train, batch_size=128, epochs=20, validation_split=0.2, verbose=0)"
      ],
      "execution_count": 81,
      "outputs": []
    },
    {
      "cell_type": "markdown",
      "metadata": {
        "id": "Fh-AMVlEwI9j"
      },
      "source": [
        "### Ex 15: Evaluate the model"
      ]
    },
    {
      "cell_type": "code",
      "metadata": {
        "colab": {
          "base_uri": "https://localhost:8080/"
        },
        "id": "AWRl5y2swIYy",
        "outputId": "ba00b2b6-15d3-4141-c2ae-f7f21ec7c4e5"
      },
      "source": [
        "test_loss2, test_acc2 = second_model.evaluate(x_test, y_test)\r\n",
        "test_loss2, test_acc2"
      ],
      "execution_count": 82,
      "outputs": [
        {
          "output_type": "stream",
          "text": [
            "313/313 [==============================] - 1s 3ms/step - loss: 2.6449 - accuracy: 0.6151\n"
          ],
          "name": "stdout"
        },
        {
          "output_type": "execute_result",
          "data": {
            "text/plain": [
              "(2.644885540008545, 0.6151000261306763)"
            ]
          },
          "metadata": {
            "tags": []
          },
          "execution_count": 82
        }
      ]
    },
    {
      "cell_type": "markdown",
      "metadata": {
        "id": "QJdIrdcLwcla"
      },
      "source": [
        "### Ex 16: Plots"
      ]
    },
    {
      "cell_type": "code",
      "metadata": {
        "colab": {
          "base_uri": "https://localhost:8080/",
          "height": 296
        },
        "id": "-of7ytM9wg3x",
        "outputId": "bae000b1-03c3-454d-f869-1c76d46d913b"
      },
      "source": [
        "plt.plot(second_history.history['val_accuracy'])\r\n",
        "plt.plot(second_history.history['accuracy'])\r\n",
        "plt.xlabel('Epochs')\r\n",
        "plt.ylabel('Accuracy')\r\n",
        "plt.legend(['validation accuracy', ' accuracy'])"
      ],
      "execution_count": 83,
      "outputs": [
        {
          "output_type": "execute_result",
          "data": {
            "text/plain": [
              "<matplotlib.legend.Legend at 0x7f34f4651090>"
            ]
          },
          "metadata": {
            "tags": []
          },
          "execution_count": 83
        },
        {
          "output_type": "display_data",
          "data": {
            "image/png": "[encoded data removed]",
            "text/plain": [
              "<Figure size 432x288 with 1 Axes>"
            ]
          },
          "metadata": {
            "tags": [],
            "needs_background": "light"
          }
        }
      ]
    },
    {
      "cell_type": "code",
      "metadata": {
        "colab": {
          "base_uri": "https://localhost:8080/",
          "height": 296
        },
        "id": "N3M5dC60woqp",
        "outputId": "8c0175dd-b68c-4a4d-e3db-557f15eba6ca"
      },
      "source": [
        "plt.plot(second_history.history['val_loss'])\r\n",
        "plt.plot(second_history.history['loss'])\r\n",
        "plt.xlabel('Epochs')\r\n",
        "plt.ylabel('loss')\r\n",
        "plt.legend(['validation loss', ' loss'])"
      ],
      "execution_count": 84,
      "outputs": [
        {
          "output_type": "execute_result",
          "data": {
            "text/plain": [
              "<matplotlib.legend.Legend at 0x7f34f46d9490>"
            ]
          },
          "metadata": {
            "tags": []
          },
          "execution_count": 84
        },
        {
          "output_type": "display_data",
          "data": {
            "image/png": "[encoded data removed]",
            "text/plain": [
              "<Figure size 432x288 with 1 Axes>"
            ]
          },
          "metadata": {
            "tags": [],
            "needs_background": "light"
          }
        }
      ]
    },
    {
      "cell_type": "markdown",
      "metadata": {
        "id": "yYQqNfOQ3t8j"
      },
      "source": [
        "Validation loss curve is higher than the training loss from 4 epochs, so there is overfitting after 4 epochs."
      ]
    },
    {
      "cell_type": "markdown",
      "metadata": {
        "id": "weWIPB2ow1Oi"
      },
      "source": [
        "### Ex 17: Third model"
      ]
    },
    {
      "cell_type": "code",
      "metadata": {
        "id": "2xbmglQPw00D"
      },
      "source": [
        "# CONV − CONV − POOL - CONV - POOL − CONV − CONV − POOL − FC − FC − FC\r\n",
        "third_model = Sequential()\r\n",
        "\r\n",
        "third_model.add(Conv2D(filters = 96, kernel_size = 3, strides = 1 , activation='relu', data_format = 'channels_last', padding='valid', input_shape=(32, 32, 3)))\r\n",
        "third_model.add(Conv2D(filters = 96, kernel_size = 3, strides = 1, activation='relu', padding='valid'))\r\n",
        "third_model.add(MaxPooling2D(pool_size = (2,2), strides = 2))\r\n",
        "third_model.add(Dropout(0.5))\r\n",
        "\r\n",
        "third_model.add(Conv2D(filters = 128, kernel_size = 3, strides = 1, activation='relu', padding='valid'))\r\n",
        "third_model.add(MaxPooling2D(pool_size = (2,2), strides = 2))\r\n",
        "third_model.add(Dropout(0.5))\r\n",
        "\r\n",
        "third_model.add(Conv2D(filters = 128, kernel_size = 3, strides = 1, activation='relu', padding='valid'))\r\n",
        "third_model.add(Conv2D(filters = 128, kernel_size = 3, strides = 1, activation='relu', padding='valid'))\r\n",
        "third_model.add(MaxPooling2D(pool_size = (2,2), strides = 2))\r\n",
        "third_model.add(Dropout(0.5))\r\n",
        "\r\n",
        "# Flatten output of the previous layer\r\n",
        "third_model.add(Flatten())\r\n",
        "\r\n",
        "# Fully-Connected (FC) layers\r\n",
        "third_model.add(Dense(1024, activation='relu', kernel_regularizer=keras.regularizers.l2(5e-4)))\r\n",
        "third_model.add(Dropout(0.5))\r\n",
        "third_model.add(Dense(512, activation='relu', kernel_regularizer=keras.regularizers.l2(5e-4)))\r\n",
        "third_model.add(Dropout(0.5))\r\n",
        "third_model.add(Dense(10, activation='softmax', kernel_regularizer=keras.regularizers.l2(5e-4)))"
      ],
      "execution_count": 106,
      "outputs": []
    },
    {
      "cell_type": "markdown",
      "metadata": {
        "id": "X4CpZOGJz4_6"
      },
      "source": [
        "### Ex 18: Summary - Compile - Fit - Evaluate - Plots\r\n"
      ]
    },
    {
      "cell_type": "code",
      "metadata": {
        "colab": {
          "base_uri": "https://localhost:8080/"
        },
        "id": "mIEgo8RG0G4J",
        "outputId": "7009dda4-6bd2-4605-db08-d5b1c34100b6"
      },
      "source": [
        "third_model.summary()"
      ],
      "execution_count": 107,
      "outputs": [
        {
          "output_type": "stream",
          "text": [
            "Model: \"sequential_8\"\n",
            "_________________________________________________________________\n",
            "Layer (type)                 Output Shape              Param #   \n",
            "=================================================================\n",
            "conv2d_31 (Conv2D)           (None, 30, 30, 96)        2688      \n",
            "_________________________________________________________________\n",
            "conv2d_32 (Conv2D)           (None, 28, 28, 96)        83040     \n",
            "_________________________________________________________________\n",
            "max_pooling2d_23 (MaxPooling (None, 14, 14, 96)        0         \n",
            "_________________________________________________________________\n",
            "dropout_13 (Dropout)         (None, 14, 14, 96)        0         \n",
            "_________________________________________________________________\n",
            "conv2d_33 (Conv2D)           (None, 12, 12, 128)       110720    \n",
            "_________________________________________________________________\n",
            "max_pooling2d_24 (MaxPooling (None, 6, 6, 128)         0         \n",
            "_________________________________________________________________\n",
            "dropout_14 (Dropout)         (None, 6, 6, 128)         0         \n",
            "_________________________________________________________________\n",
            "conv2d_34 (Conv2D)           (None, 4, 4, 128)         147584    \n",
            "_________________________________________________________________\n",
            "conv2d_35 (Conv2D)           (None, 2, 2, 128)         147584    \n",
            "_________________________________________________________________\n",
            "max_pooling2d_25 (MaxPooling (None, 1, 1, 128)         0         \n",
            "_________________________________________________________________\n",
            "dropout_15 (Dropout)         (None, 1, 1, 128)         0         \n",
            "_________________________________________________________________\n",
            "flatten_7 (Flatten)          (None, 128)               0         \n",
            "_________________________________________________________________\n",
            "dense_16 (Dense)             (None, 1024)              132096    \n",
            "_________________________________________________________________\n",
            "dropout_16 (Dropout)         (None, 1024)              0         \n",
            "_________________________________________________________________\n",
            "dense_17 (Dense)             (None, 512)               524800    \n",
            "_________________________________________________________________\n",
            "dropout_17 (Dropout)         (None, 512)               0         \n",
            "_________________________________________________________________\n",
            "dense_18 (Dense)             (None, 10)                5130      \n",
            "=================================================================\n",
            "Total params: 1,153,642\n",
            "Trainable params: 1,153,642\n",
            "Non-trainable params: 0\n",
            "_________________________________________________________________\n"
          ],
          "name": "stdout"
        }
      ]
    },
    {
      "cell_type": "code",
      "metadata": {
        "id": "9frvUmJy0Jol"
      },
      "source": [
        "third_model.compile(optimizer = 'adam', loss = 'sparse_categorical_crossentropy', metrics = ['accuracy'])"
      ],
      "execution_count": 108,
      "outputs": []
    },
    {
      "cell_type": "code",
      "metadata": {
        "id": "O44v0v6L0KOU"
      },
      "source": [
        "third_history = third_model.fit(x_train, y_train, batch_size=128, epochs=20, validation_split=0.2, verbose=0)"
      ],
      "execution_count": 109,
      "outputs": []
    },
    {
      "cell_type": "code",
      "metadata": {
        "colab": {
          "base_uri": "https://localhost:8080/"
        },
        "id": "XCv-nkzX0KEQ",
        "outputId": "89dac070-661a-4956-c387-06372cce241f"
      },
      "source": [
        "test_loss3, test_acc3 = third_model.evaluate(x_test, y_test)\r\n",
        "test_loss3, test_acc3"
      ],
      "execution_count": 110,
      "outputs": [
        {
          "output_type": "stream",
          "text": [
            "313/313 [==============================] - 1s 3ms/step - loss: 1.2010 - accuracy: 0.6521\n"
          ],
          "name": "stdout"
        },
        {
          "output_type": "execute_result",
          "data": {
            "text/plain": [
              "(1.2009522914886475, 0.6521000266075134)"
            ]
          },
          "metadata": {
            "tags": []
          },
          "execution_count": 110
        }
      ]
    },
    {
      "cell_type": "code",
      "metadata": {
        "colab": {
          "base_uri": "https://localhost:8080/",
          "height": 296
        },
        "id": "LFOQRSKV0et1",
        "outputId": "b91827ef-20f0-4a3d-f18b-5835111f10ff"
      },
      "source": [
        "plt.plot(third_history.history['val_accuracy'])\r\n",
        "plt.plot(third_history.history['accuracy'])\r\n",
        "plt.xlabel('Epochs')\r\n",
        "plt.ylabel('Accuracy')\r\n",
        "plt.legend(['validation accuracy', ' accuracy'])"
      ],
      "execution_count": 111,
      "outputs": [
        {
          "output_type": "execute_result",
          "data": {
            "text/plain": [
              "<matplotlib.legend.Legend at 0x7f34254d1e10>"
            ]
          },
          "metadata": {
            "tags": []
          },
          "execution_count": 111
        },
        {
          "output_type": "display_data",
          "data": {
            "image/png": "[encoded data removed]",
            "text/plain": [
              "<Figure size 432x288 with 1 Axes>"
            ]
          },
          "metadata": {
            "tags": [],
            "needs_background": "light"
          }
        }
      ]
    },
    {
      "cell_type": "code",
      "metadata": {
        "colab": {
          "base_uri": "https://localhost:8080/",
          "height": 296
        },
        "id": "B-1eZtZ-0kjn",
        "outputId": "f8749832-8c8d-4b41-d8bc-654077a4a3b5"
      },
      "source": [
        "plt.plot(third_history.history['val_loss'])\r\n",
        "plt.plot(third_history.history['loss'])\r\n",
        "plt.xlabel('Epochs')\r\n",
        "plt.ylabel('Loss')\r\n",
        "plt.legend(['validation loss', ' loss'])"
      ],
      "execution_count": 112,
      "outputs": [
        {
          "output_type": "execute_result",
          "data": {
            "text/plain": [
              "<matplotlib.legend.Legend at 0x7f3425493e50>"
            ]
          },
          "metadata": {
            "tags": []
          },
          "execution_count": 112
        },
        {
          "output_type": "display_data",
          "data": {
            "image/png": "[encoded data removed]",
            "text/plain": [
              "<Figure size 432x288 with 1 Axes>"
            ]
          },
          "metadata": {
            "tags": [],
            "needs_background": "light"
          }
        }
      ]
    },
    {
      "cell_type": "markdown",
      "metadata": {
        "id": "-4KLdJyo4BYW"
      },
      "source": [
        "It seems like there is no-overfitting with this model. "
      ]
    },
    {
      "cell_type": "markdown",
      "metadata": {
        "id": "QpUjEJXP4Oxa"
      },
      "source": [
        "### Ex 19: Is it possible to have better results ? "
      ]
    },
    {
      "cell_type": "markdown",
      "metadata": {
        "id": "AjB1ZvEf44-h"
      },
      "source": [
        "We can try to modify some parameters of the model like the optimizers. Here we have used Adam's optimizer. \r\n",
        "\r\n",
        "We have also used the L2 regularization, but we can try other ones. \r\n",
        "\r\n",
        "Maybe we can also add more hidden layers. "
      ]
    }
  ]
}